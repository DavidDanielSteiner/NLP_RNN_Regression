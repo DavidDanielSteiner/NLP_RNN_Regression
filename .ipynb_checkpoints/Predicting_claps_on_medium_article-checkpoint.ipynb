{
 "cells": [
  {
   "cell_type": "markdown",
   "metadata": {
    "colab_type": "text",
    "id": "CVBavcia0A6y"
   },
   "source": [
    "# Medium Article Claps Prediction\n",
    "\n",
    "\n",
    "David Steiner   \n"
   ]
  },
  {
   "cell_type": "markdown",
   "metadata": {
    "colab_type": "text",
    "id": "ZKuB7X1u0oJD"
   },
   "source": [
    "\n",
    "# Contents\n",
    "\n",
    "***\n",
    "\n",
    "1.   Problem Description\n",
    "\n",
    "\n",
    "2.   Data Preprocessing\n",
    "\n",
    "   * Explanatory Data Analysis\n",
    "   * Feature Engineering\n",
    "   * Data Cleaning\n",
    "   * Text Preprocessing\n",
    "\n",
    "\n",
    "3.   Model Developmenmt\n",
    "\n",
    "    * Baseline Models\n",
    "    * Neural Network For Structured Data\n",
    "    * Recurrent Neural Network For Unstrucutred Data\n",
    "    * Multi Input Recurrent Neural Network \n",
    "\n",
    "\n",
    "4.   Conclusion\n",
    "\n",
    "\n",
    "\n"
   ]
  },
  {
   "cell_type": "markdown",
   "metadata": {
    "colab_type": "text",
    "id": "bvXffycDOfJ1"
   },
   "source": [
    "***\n",
    "# Introduction"
   ]
  },
  {
   "cell_type": "markdown",
   "metadata": {
    "colab_type": "text",
    "id": "QDM77Ui4Sri0"
   },
   "source": [
    "In this notebook we will attempt to predict the number of claps of various medium articles based on both structured and unstructured data. Clapping is one way that readers can show appreciation for an article on the medium platform. The big challenge in this task is to use natural language in addition to tabular data to predict a continuous target variable. Furthermore, text written in natural language is an unstructured data source that is difficult for machines to understand. Therefore, extensive preprocessing is required. In addition, natural language is most commonly used for classification tasks such as sentiment analysis, and it may be difficult to predict an exact clap count for each article. To find out whether unstructured data can improve predictions for regression tasks, we will test and compare different models with only structured and unstructured data and models containing both. \n",
    "\n",
    "However, we will first analyze the data from given datasets and develop new features based on the insights gained from the analysis. A large part of this notebook will also be dedicated to data cleansing and preprocessing of the unstructured data. \n",
    "\n"
   ]
  },
  {
   "cell_type": "markdown",
   "metadata": {
    "colab_type": "text",
    "id": "QnkQ1BjpRmuA"
   },
   "source": [
    "***\n",
    "# Data Preprocessing"
   ]
  },
  {
   "cell_type": "markdown",
   "metadata": {
    "colab_type": "text",
    "id": "pc_l4OZ9GIVX"
   },
   "source": [
    "## Imports"
   ]
  },
  {
   "cell_type": "markdown",
   "metadata": {
    "colab_type": "text",
    "id": "fLXhvwRWVJ99"
   },
   "source": [
    "Before we can start to examine the data it is necessary to first import the standard packages that we might need in the process. We also have to set the working directory to the folder where our data is stored.\n",
    "\n",
    "\n"
   ]
  },
  {
   "cell_type": "code",
   "execution_count": 81,
   "metadata": {
    "colab": {},
    "colab_type": "code",
    "id": "SiaEoYXIQHwv"
   },
   "outputs": [],
   "source": [
    "import pandas as pd\n",
    "pd.options.display.max_rows = 500\n",
    "import numpy as np\n",
    "import matplotlib.pyplot as plt\n",
    "import re\n",
    "import os"
   ]
  },
  {
   "cell_type": "code",
   "execution_count": 82,
   "metadata": {
    "colab": {
     "base_uri": "https://localhost:8080/",
     "height": 0
    },
    "colab_type": "code",
    "id": "vuo-WTm1Qw1p",
    "outputId": "47fb65bc-2e1c-4eef-bce2-9be9e75187cc"
   },
   "outputs": [
    {
     "name": "stdout",
     "output_type": "stream",
     "text": [
      "Drive already mounted at /content/gdrive; to attempt to forcibly remount, call drive.mount(\"/content/gdrive\", force_remount=True).\n",
      "Test.csv  Train.csv\n"
     ]
    }
   ],
   "source": [
    "#Data Import / Directory\n",
    "from google.colab import drive\n",
    "drive.mount('/content/gdrive')\n",
    "os.chdir('/content/gdrive/My Drive/ADAMS')\n",
    "os.getcwd()\n",
    "!ls"
   ]
  },
  {
   "cell_type": "markdown",
   "metadata": {
    "colab_type": "text",
    "id": "oq9y_OQ4RNrL"
   },
   "source": [
    "## Explanatory Data Analysis"
   ]
  },
  {
   "cell_type": "markdown",
   "metadata": {
    "colab_type": "text",
    "id": "3P9dQFo_NOzl"
   },
   "source": [
    "### Helper Functions"
   ]
  },
  {
   "cell_type": "markdown",
   "metadata": {
    "colab_type": "text",
    "id": "zAG07C71XEHi"
   },
   "source": [
    "To analyze the data, we often have to repeat the same processes like plotting charts or calculating mean values. In this case, helper functions can save time and make the notebook easier to read, since we can reuse the same code several times. With the following two helper functions we can get a good overview of numerical and categorical features by plotting them on different diagrams and showing their correlation to the target variable or in case of categorical features count their frequencies."
   ]
  },
  {
   "cell_type": "code",
   "execution_count": 83,
   "metadata": {
    "colab": {
     "base_uri": "https://localhost:8080/",
     "height": 0
    },
    "colab_type": "code",
    "id": "vWDdo7oo4GvY",
    "outputId": "c03699a0-e181-4f12-a330-adee15f17179"
   },
   "outputs": [
    {
     "name": "stdout",
     "output_type": "stream",
     "text": [
      "Requirement already satisfied: tabulate in /usr/local/lib/python3.6/dist-packages (0.8.7)\n"
     ]
    }
   ],
   "source": [
    "from scipy import stats\n",
    "!pip install tabulate\n",
    "from tabulate import tabulate\n",
    "\n",
    "def explore_numerical_value(values, **args):\n",
    "  print(values.describe(), \"\\n\")\n",
    "  print(\"Missing values: \" ,(values.isnull().sum()), \"\\n\")\n",
    "\n",
    "  if ('target' in args):\n",
    "    target = args['target']\n",
    "    corr, _ = stats.pearsonr(values, target)\n",
    "    print('Pearsons correlation: %.3f' % corr, \"\\n\")\n",
    "\n",
    "  fig = plt.figure(figsize=(25, 5))\n",
    "  ax = plt.subplot(1, 5, 1)\n",
    "  ax.hist(values, bins=8)\n",
    "  ax.set_title('Bar Chart')\n",
    "  ax.set_xlabel('feature value')\n",
    "  ax.set_ylabel('count')\n",
    "\n",
    "  ax = plt.subplot(1, 5, 2)\n",
    "  ax.hist(values, bins=8)\n",
    "  ax.set_yscale('log')\n",
    "  ax.set_title('Log-Scaled Bar Chart')\n",
    "  ax.set_xlabel('feature value')\n",
    "  ax.set_ylabel('log scaled count')\n",
    "\n",
    "  ax = plt.subplot(1, 5, 3)\n",
    "  ax.boxplot(values)\n",
    "  ax.set_title('Box Plot')\n",
    "\n",
    "  ax = plt.subplot(1, 5, 4)\n",
    "  ax.boxplot(values, whis=[5, 95],showfliers=False)\n",
    "  ax.set_yscale('log')\n",
    "  ax.set_title('Log-Scaled Box Plot')\n",
    "\n",
    "  if ('target' in args):\n",
    "    ax = plt.subplot(1, 5, 5)\n",
    "    b, m = np.polyfit(values, target, 1)\n",
    "    plt.plot(values, target, '.')\n",
    "    plt.plot(values, b + m * values, '-')\n",
    "    ax.set_title('Scatter Plot')\n",
    "    ax.set_xlabel('feature value')\n",
    "    ax.set_ylabel('target value')\n",
    "\n",
    "  plt.show()"
   ]
  },
  {
   "cell_type": "code",
   "execution_count": 84,
   "metadata": {
    "colab": {},
    "colab_type": "code",
    "id": "E6wA4xoQP4bs"
   },
   "outputs": [],
   "source": [
    "def explore_categorical_value(df, category, rows=10, explore=True, **args):\n",
    "\n",
    "  df_raw = df\n",
    "\n",
    "  if ('target' in args):\n",
    "    target = args['target']\n",
    "    df = df[[category, target]].groupby([category]).agg(['count', 'mean', 'median']).reset_index()\n",
    "    df.columns = ['Category', 'Freq', 'Mean', 'Median']\n",
    "    freq_df = df.sort_values('Freq', ascending=False)\n",
    "    df = freq_df.head(rows)\n",
    "    df = df.values.tolist()\n",
    "    mean_target = 'Mean_' + target\n",
    "    median_target = 'Median_' + target\n",
    "    freq_table = tabulate(df, headers=['Category', 'Freq', mean_target, median_target])\n",
    "\n",
    "  else:\n",
    "    df = df[category].reset_index().groupby(category).agg(lambda x: x.nunique()).reset_index()\n",
    "    df.columns = ['Category', 'Freq']\n",
    "    freq_df = df.sort_values('Freq', ascending=False)\n",
    "    df = freq_df.head(rows)\n",
    "    df = df.values.tolist()\n",
    "    freq_table = tabulate(df, headers=['Category', 'Freq'])\n",
    "\n",
    "  if (explore==True):\n",
    "    print(freq_table, \"\\n\")\n",
    "    print(df_raw[category].describe(), \"\\n\")\n",
    "    print(\"Missing values: \" , str(df_raw[category].isnull().sum()))\n",
    "\n",
    "  else:\n",
    "    return freq_df"
   ]
  },
  {
   "cell_type": "markdown",
   "metadata": {
    "colab_type": "text",
    "id": "bRnotMvSW8xL"
   },
   "source": [
    "### Test Data"
   ]
  },
  {
   "cell_type": "markdown",
   "metadata": {
    "colab_type": "text",
    "id": "OJotEpJXW_0-"
   },
   "source": [
    "Finally, we will import the test data and take a quick look at its structure and values."
   ]
  },
  {
   "cell_type": "code",
   "execution_count": 85,
   "metadata": {
    "colab": {
     "base_uri": "https://localhost:8080/",
     "height": 0
    },
    "colab_type": "code",
    "id": "A_Gfd9OrSNvz",
    "outputId": "6c436099-51a0-4eb9-e7ac-f678ebcd6dd6"
   },
   "outputs": [
    {
     "data": {
      "text/html": [
       "<div>\n",
       "<style scoped>\n",
       "    .dataframe tbody tr th:only-of-type {\n",
       "        vertical-align: middle;\n",
       "    }\n",
       "\n",
       "    .dataframe tbody tr th {\n",
       "        vertical-align: top;\n",
       "    }\n",
       "\n",
       "    .dataframe thead th {\n",
       "        text-align: right;\n",
       "    }\n",
       "</style>\n",
       "<table border=\"1\" class=\"dataframe\">\n",
       "  <thead>\n",
       "    <tr style=\"text-align: right;\">\n",
       "      <th></th>\n",
       "      <th>index</th>\n",
       "      <th>author</th>\n",
       "      <th>publicationdetails</th>\n",
       "      <th>responses</th>\n",
       "      <th>header</th>\n",
       "      <th>text</th>\n",
       "      <th>length</th>\n",
       "    </tr>\n",
       "  </thead>\n",
       "  <tbody>\n",
       "    <tr>\n",
       "      <th>0</th>\n",
       "      <td>0</td>\n",
       "      <td>Daniel Jeffries</td>\n",
       "      <td>Daniel Jeffries in HackerNoon.comJul 31, 2017</td>\n",
       "      <td>627 responses</td>\n",
       "      <td>Why Everyone Missed the Most Mind-Blowing Feat...</td>\n",
       "      <td>There’s one incredible feature of cryptocurren...</td>\n",
       "      <td>23401</td>\n",
       "    </tr>\n",
       "    <tr>\n",
       "      <th>1</th>\n",
       "      <td>1</td>\n",
       "      <td>Noam Levenson</td>\n",
       "      <td>Noam Levenson in HackerNoon.comDec 6, 2017</td>\n",
       "      <td>156 responses</td>\n",
       "      <td>NEO versus Ethereum: Why NEO might be 2018’s s...</td>\n",
       "      <td>&lt;img class=\"progressiveMedia-noscript js-progr...</td>\n",
       "      <td>23972</td>\n",
       "    </tr>\n",
       "    <tr>\n",
       "      <th>2</th>\n",
       "      <td>2</td>\n",
       "      <td>Daniel Jeffries</td>\n",
       "      <td>Daniel Jeffries in HackerNoon.comJul 21, 2017</td>\n",
       "      <td>176 responses</td>\n",
       "      <td>The Cryptocurrency Trading Bible</td>\n",
       "      <td>So you want to trade cryptocurrency?You’ve see...</td>\n",
       "      <td>402</td>\n",
       "    </tr>\n",
       "    <tr>\n",
       "      <th>3</th>\n",
       "      <td>5</td>\n",
       "      <td>Haseeb Qureshi</td>\n",
       "      <td>Haseeb Qureshi in HackerNoon.comFeb 19, 2018</td>\n",
       "      <td>72 responses</td>\n",
       "      <td>Stablecoins: designing a price-stable cryptocu...</td>\n",
       "      <td>A useful currency should be a medium of exchan...</td>\n",
       "      <td>19730</td>\n",
       "    </tr>\n",
       "    <tr>\n",
       "      <th>4</th>\n",
       "      <td>7</td>\n",
       "      <td>William Belk</td>\n",
       "      <td>William Belk in HackerNoon.comJan 28, 2018</td>\n",
       "      <td>19 responses</td>\n",
       "      <td>Chaos vs. Order — The Cryptocurrency Dilemma</td>\n",
       "      <td>Crypto crypto crypto crypto. It’s here. It’s h...</td>\n",
       "      <td>5324</td>\n",
       "    </tr>\n",
       "  </tbody>\n",
       "</table>\n",
       "</div>"
      ],
      "text/plain": [
       "   index           author                             publicationdetails  \\\n",
       "0      0  Daniel Jeffries  Daniel Jeffries in HackerNoon.comJul 31, 2017   \n",
       "1      1    Noam Levenson     Noam Levenson in HackerNoon.comDec 6, 2017   \n",
       "2      2  Daniel Jeffries  Daniel Jeffries in HackerNoon.comJul 21, 2017   \n",
       "3      5   Haseeb Qureshi   Haseeb Qureshi in HackerNoon.comFeb 19, 2018   \n",
       "4      7     William Belk     William Belk in HackerNoon.comJan 28, 2018   \n",
       "\n",
       "       responses                                             header  \\\n",
       "0  627 responses  Why Everyone Missed the Most Mind-Blowing Feat...   \n",
       "1  156 responses  NEO versus Ethereum: Why NEO might be 2018’s s...   \n",
       "2  176 responses                   The Cryptocurrency Trading Bible   \n",
       "3   72 responses  Stablecoins: designing a price-stable cryptocu...   \n",
       "4   19 responses       Chaos vs. Order — The Cryptocurrency Dilemma   \n",
       "\n",
       "                                                text  length  \n",
       "0  There’s one incredible feature of cryptocurren...   23401  \n",
       "1  <img class=\"progressiveMedia-noscript js-progr...   23972  \n",
       "2  So you want to trade cryptocurrency?You’ve see...     402  \n",
       "3  A useful currency should be a medium of exchan...   19730  \n",
       "4  Crypto crypto crypto crypto. It’s here. It’s h...    5324  "
      ]
     },
     "execution_count": 85,
     "metadata": {
      "tags": []
     },
     "output_type": "execute_result"
    }
   ],
   "source": [
    "test = pd.read_csv('Test.csv', index_col=0)\n",
    "test = test.rename(str.lower, axis='columns')\n",
    "test.head()"
   ]
  },
  {
   "cell_type": "code",
   "execution_count": 86,
   "metadata": {
    "colab": {
     "base_uri": "https://localhost:8080/",
     "height": 0
    },
    "colab_type": "code",
    "id": "GD86kBjfSTuH",
    "outputId": "c37297b4-a780-40c6-875f-755b7b03f5ca"
   },
   "outputs": [
    {
     "name": "stdout",
     "output_type": "stream",
     "text": [
      "<class 'pandas.core.frame.DataFrame'>\n",
      "Int64Index: 514 entries, 0 to 513\n",
      "Data columns (total 7 columns):\n",
      " #   Column              Non-Null Count  Dtype \n",
      "---  ------              --------------  ----- \n",
      " 0   index               514 non-null    int64 \n",
      " 1   author              514 non-null    object\n",
      " 2   publicationdetails  514 non-null    object\n",
      " 3   responses           432 non-null    object\n",
      " 4   header              506 non-null    object\n",
      " 5   text                514 non-null    object\n",
      " 6   length              514 non-null    int64 \n",
      "dtypes: int64(2), object(5)\n",
      "memory usage: 32.1+ KB\n"
     ]
    }
   ],
   "source": [
    "test.info()"
   ]
  },
  {
   "cell_type": "markdown",
   "metadata": {
    "colab_type": "text",
    "id": "4jFf5a19UZiF"
   },
   "source": [
    "We can observe that the test data consists of a total of 514 rows, 6 features and a specific index. To better understand our data, we will look at each variable and attempt to understand its meanings and relevance to our problem. This can be a very time consuming task, especially for datasets with a large number of attributes, but it provides us with deeper insights, which will be valuable for the following steps."
   ]
  },
  {
   "cell_type": "markdown",
   "metadata": {
    "colab_type": "text",
    "id": "f-5LBP7Cnh3p"
   },
   "source": [
    "#### Author\n",
    "\n",
    "To take a look at the first feature of the test data, we can use the helper function described previously. At first glance it is already noticeable that the frequency of the respective author is very unevenly distributed. While the most frequent author appears more than 175 times, the second and third most frequent authors appear only 38 and 7 times. In total, there are 225 unique authors and no missing values. It seems, however, that this feature has not yet been properly cleaned, as it sometimes contains faulty values like dates instead of an author name."
   ]
  },
  {
   "cell_type": "code",
   "execution_count": 87,
   "metadata": {
    "colab": {
     "base_uri": "https://localhost:8080/",
     "height": 0
    },
    "colab_type": "code",
    "id": "7bCL9wCfaEtm",
    "outputId": "4333d5a2-1f7d-4f30-dc9a-ed40db880fd3"
   },
   "outputs": [
    {
     "name": "stdout",
     "output_type": "stream",
     "text": [
      "Category                   Freq\n",
      "-----------------------  ------\n",
      "Netflix Technology Blog     175\n",
      "TE-FOOD                      38\n",
      "Food Republic                 7\n",
      "Micki Seibel                  5\n",
      "Shannon Ashley                4\n",
      "Mike Lee                      4\n",
      "Daniel Jeffries               4\n",
      "Zach J. Payne                 4\n",
      "Shaunta Grimes                3\n",
      "OriginTrail                   3\n",
      "The Lily News                 3\n",
      "Donna Barker                  3\n",
      "Dec 18, 2017                  3\n",
      "Paul Ford                     3\n",
      "Lance Ulanoff                 3 \n",
      "\n",
      "count                         514\n",
      "unique                        225\n",
      "top       Netflix Technology Blog\n",
      "freq                          175\n",
      "Name: author, dtype: object \n",
      "\n",
      "Missing values:  0\n"
     ]
    }
   ],
   "source": [
    "explore_categorical_value(df=test, rows=15, category='author')"
   ]
  },
  {
   "cell_type": "markdown",
   "metadata": {
    "colab_type": "text",
    "id": "hEnR9N5Ymui_"
   },
   "source": [
    "#### Publication Details\n",
    "\n",
    "The next feature includes several likely important properties like publisher, author and date in only one string. Since we cannot work properly with different features that are combined, we will have to split the \"Publication Details\" string into three different features. If we take a closer look, we can see that although the feature itself has no missing values, sometimes the year of the date or the publisher is missing. Moreover, several cases of this feature appear two or three times, which could indicate the presence of duplicates in the dataset."
   ]
  },
  {
   "cell_type": "code",
   "execution_count": 88,
   "metadata": {
    "colab": {
     "base_uri": "https://localhost:8080/",
     "height": 0
    },
    "colab_type": "code",
    "id": "rYtuyhaDeN2R",
    "outputId": "457fdc82-89be-4d9f-b34d-706009641efc"
   },
   "outputs": [
    {
     "name": "stdout",
     "output_type": "stream",
     "text": [
      "Category                                                   Freq\n",
      "-------------------------------------------------------  ------\n",
      "Netflix Technology Blog in Netflix TechBlogDec 20, 2017       3\n",
      "Netflix Technology Blog in Netflix TechBlogMar 9, 2016        3\n",
      "Netflix Technology Blog in Netflix TechBlogMar 27, 2018       3\n",
      "Netflix Technology Blog in Netflix TechBlogJun 4, 2018        3\n",
      "Netflix Technology Blog in Netflix TechBlogMar 13, 2018       2\n",
      "Netflix Technology Blog in Netflix TechBlogAug 29, 2017       2\n",
      "Eniac Ventures in Eniac VenturesJun 19                        2\n",
      "Netflix Technology Blog in Netflix TechBlogApr 4, 2018        2\n",
      "Netflix Technology Blog in Netflix TechBlogApr 6, 2012        2\n",
      "Netflix Technology Blog in Netflix TechBlogNov 20, 2017       2 \n",
      "\n",
      "count                                                   514\n",
      "unique                                                  434\n",
      "top       Netflix Technology Blog in Netflix TechBlogJun...\n",
      "freq                                                      3\n",
      "Name: publicationdetails, dtype: object \n",
      "\n",
      "Missing values:  0\n"
     ]
    }
   ],
   "source": [
    "explore_categorical_value(df=test, rows=10, category='publicationdetails')"
   ]
  },
  {
   "cell_type": "markdown",
   "metadata": {
    "colab_type": "text",
    "id": "7G6iHI7Zzh81"
   },
   "source": [
    "#### Responses\n",
    "\n",
    "The first two things that stand out when looking at the response variable are the high number of missing values (82) and that this feature should be rather fitted as a numeric than a categorical feature. Therefore we will convert this feature into a numerical value by extracting only the numerical value to gain more insight. We will also replace the missing values with a 0, since it seems that articles with 0 answers were stored as missing values."
   ]
  },
  {
   "cell_type": "code",
   "execution_count": 89,
   "metadata": {
    "colab": {
     "base_uri": "https://localhost:8080/",
     "height": 0
    },
    "colab_type": "code",
    "id": "61ReoTvuVQgC",
    "outputId": "f43dddc2-365b-4144-db6a-dece8085a06b"
   },
   "outputs": [
    {
     "name": "stdout",
     "output_type": "stream",
     "text": [
      "Category        Freq\n",
      "------------  ------\n",
      "1 response        62\n",
      "4 responses       45\n",
      "2 responses       44\n",
      "3 responses       44\n",
      "7 responses       28\n",
      "5 responses       22\n",
      "8 responses       17\n",
      "13 responses      13\n",
      "10 responses      12\n",
      "6 responses       12 \n",
      "\n",
      "count            432\n",
      "unique            79\n",
      "top       1 response\n",
      "freq              62\n",
      "Name: responses, dtype: object \n",
      "\n",
      "Missing values:  82\n"
     ]
    }
   ],
   "source": [
    "explore_categorical_value(df=test, rows=10, category='responses', print=True)"
   ]
  },
  {
   "cell_type": "markdown",
   "metadata": {
    "colab_type": "text",
    "id": "nziJAa2Widsm"
   },
   "source": [
    "With the diagrams below we can gain a much better insight into this feature. It can be clearly seen that the response values are strongly skewed to the left with a mean value of only 19.8 and a median of 61.56.\n",
    "While the vast majority of articles have less than 12 answers, the article with the most answers is 827. The high number of outliers with large values is also clearly visible in the box plot and in the logarithmically scaled bar chart."
   ]
  },
  {
   "cell_type": "code",
   "execution_count": 90,
   "metadata": {
    "colab": {
     "base_uri": "https://localhost:8080/",
     "height": 0
    },
    "colab_type": "code",
    "id": "2RTLot_9zhXz",
    "outputId": "5aeb3364-d57e-4579-f105-c75d17f2d547"
   },
   "outputs": [
    {
     "name": "stdout",
     "output_type": "stream",
     "text": [
      "count    514.000000\n",
      "mean      19.801556\n",
      "std       61.560692\n",
      "min        0.000000\n",
      "25%        1.000000\n",
      "50%        4.000000\n",
      "75%       11.750000\n",
      "max      827.000000\n",
      "Name: responses, dtype: float64 \n",
      "\n",
      "Missing values:  0 \n",
      "\n"
     ]
    },
    {
     "data": {
      "image/png": "[encoded data removed]",
      "text/plain": [
       "<Figure size 1800x360 with 4 Axes>"
      ]
     },
     "metadata": {
      "needs_background": "light",
      "tags": []
     },
     "output_type": "display_data"
    }
   ],
   "source": [
    "test['responses'] = test['responses'].fillna(value='0').str.extract('(\\d+)', expand=False).astype(int)\n",
    "explore_numerical_value(test['responses'])"
   ]
  },
  {
   "cell_type": "markdown",
   "metadata": {
    "colab_type": "text",
    "id": "FzO0-22u6Gnq"
   },
   "source": [
    "#### Header\n",
    "\n",
    "Similar to the publication details we also find some duplicates in the header. The difference between the unique values (434 and 428) may be due to the 8 missing values of this feature. If we filter only for the lines with missing headers, we can see that there are already two duplicates in the publication details line, all with different text and length, which is an interesting finding. This means that the duplicates are most likely not exact duplicates, but differ in some features. "
   ]
  },
  {
   "cell_type": "code",
   "execution_count": 91,
   "metadata": {
    "colab": {
     "base_uri": "https://localhost:8080/",
     "height": 0
    },
    "colab_type": "code",
    "id": "gEpb9JBf6Jq-",
    "outputId": "7a6aa0cc-a89d-428b-bb48-d4dbca01a8fc"
   },
   "outputs": [
    {
     "name": "stdout",
     "output_type": "stream",
     "text": [
      "Category                                                          Freq\n",
      "--------------------------------------------------------------  ------\n",
      "How We Build Code at Netflix                                         3\n",
      "Data Science and the Art of Producing Entertainment at Netflix       3\n",
      "Lessons from Building Observability Tools at Netflix                 3\n",
      "Implementing the Netflix Media Database                              2\n",
      "Delivering Meaning with Previews on Web                              2\n",
      "Scaling Time Series Data Storage — Part II                           2\n",
      "Scaling Time Series Data Storage — Part I                            2\n",
      "Hystrix Dashboard + Turbine Stream Aggregator                        2\n",
      "Crafting a high-performance TV user interface using React            2\n",
      "Quasi Experimentation at Netflix                                     2 \n",
      "\n",
      "count                              506\n",
      "unique                             428\n",
      "top       How We Build Code at Netflix\n",
      "freq                                 3\n",
      "Name: header, dtype: object \n",
      "\n",
      "Missing values:  8\n"
     ]
    }
   ],
   "source": [
    "explore_categorical_value(df=test, rows=10, category='header')"
   ]
  },
  {
   "cell_type": "code",
   "execution_count": 92,
   "metadata": {
    "colab": {
     "base_uri": "https://localhost:8080/",
     "height": 0
    },
    "colab_type": "code",
    "id": "pQ_SWUaeE0mK",
    "outputId": "b09390ca-92db-4d2d-8477-5db49fdf7933"
   },
   "outputs": [
    {
     "data": {
      "text/html": [
       "<div>\n",
       "<style scoped>\n",
       "    .dataframe tbody tr th:only-of-type {\n",
       "        vertical-align: middle;\n",
       "    }\n",
       "\n",
       "    .dataframe tbody tr th {\n",
       "        vertical-align: top;\n",
       "    }\n",
       "\n",
       "    .dataframe thead th {\n",
       "        text-align: right;\n",
       "    }\n",
       "</style>\n",
       "<table border=\"1\" class=\"dataframe\">\n",
       "  <thead>\n",
       "    <tr style=\"text-align: right;\">\n",
       "      <th></th>\n",
       "      <th>index</th>\n",
       "      <th>author</th>\n",
       "      <th>publicationdetails</th>\n",
       "      <th>responses</th>\n",
       "      <th>header</th>\n",
       "      <th>text</th>\n",
       "      <th>length</th>\n",
       "    </tr>\n",
       "  </thead>\n",
       "  <tbody>\n",
       "    <tr>\n",
       "      <th>128</th>\n",
       "      <td>156</td>\n",
       "      <td>Jeremy Puma</td>\n",
       "      <td>Jeremy PumaMar 13, 2018</td>\n",
       "      <td>2</td>\n",
       "      <td>NaN</td>\n",
       "      <td>So you’re thinking of growing your own food? A...</td>\n",
       "      <td>283</td>\n",
       "    </tr>\n",
       "    <tr>\n",
       "      <th>204</th>\n",
       "      <td>252</td>\n",
       "      <td>Scott Stavrou</td>\n",
       "      <td>Scott StavrouSep 7, 2017</td>\n",
       "      <td>1</td>\n",
       "      <td>NaN</td>\n",
       "      <td>Food is plummeting down, bouncing, rolling aro...</td>\n",
       "      <td>353</td>\n",
       "    </tr>\n",
       "    <tr>\n",
       "      <th>216</th>\n",
       "      <td>269</td>\n",
       "      <td>Ryan Scott</td>\n",
       "      <td>Ryan Scott in Design @ DoorDashJul 14, 2016</td>\n",
       "      <td>0</td>\n",
       "      <td>NaN</td>\n",
       "      <td>A photograph is worth 1,000 words, but food ph...</td>\n",
       "      <td>5163</td>\n",
       "    </tr>\n",
       "    <tr>\n",
       "      <th>239</th>\n",
       "      <td>300</td>\n",
       "      <td>Julie Zhuo</td>\n",
       "      <td>Julie Zhuo in The Year of the Looking GlassMay...</td>\n",
       "      <td>23</td>\n",
       "      <td>NaN</td>\n",
       "      <td>The number of retailers accepting cryptocurren...</td>\n",
       "      <td>435</td>\n",
       "    </tr>\n",
       "    <tr>\n",
       "      <th>336</th>\n",
       "      <td>422</td>\n",
       "      <td>Julie Zhuo</td>\n",
       "      <td>Julie Zhuo in The Year of the Looking GlassMay...</td>\n",
       "      <td>23</td>\n",
       "      <td>NaN</td>\n",
       "      <td>The Future of Design in Technology10 predictio...</td>\n",
       "      <td>3097</td>\n",
       "    </tr>\n",
       "    <tr>\n",
       "      <th>474</th>\n",
       "      <td>562</td>\n",
       "      <td>Esri</td>\n",
       "      <td>Esri in ArcNews by EsriFeb 3, 2015</td>\n",
       "      <td>0</td>\n",
       "      <td>NaN</td>\n",
       "      <td>Geospatial Technology and the Future of the Ci...</td>\n",
       "      <td>8674</td>\n",
       "    </tr>\n",
       "    <tr>\n",
       "      <th>485</th>\n",
       "      <td>573</td>\n",
       "      <td>Oct 5, 2015</td>\n",
       "      <td>Mitchell Harper in The StartupOct 5, 2015</td>\n",
       "      <td>92</td>\n",
       "      <td>NaN</td>\n",
       "      <td>Fuck your drinking culture too. Please stop ce...</td>\n",
       "      <td>290</td>\n",
       "    </tr>\n",
       "    <tr>\n",
       "      <th>493</th>\n",
       "      <td>582</td>\n",
       "      <td>Jul 17, 2015</td>\n",
       "      <td>Stelios Constantinides in The StartupJul 17, 2015</td>\n",
       "      <td>18</td>\n",
       "      <td>NaN</td>\n",
       "      <td>Fuck your open space floor plans- You really t...</td>\n",
       "      <td>343</td>\n",
       "    </tr>\n",
       "  </tbody>\n",
       "</table>\n",
       "</div>"
      ],
      "text/plain": [
       "     index         author                                 publicationdetails  \\\n",
       "128    156    Jeremy Puma                            Jeremy PumaMar 13, 2018   \n",
       "204    252  Scott Stavrou                           Scott StavrouSep 7, 2017   \n",
       "216    269     Ryan Scott        Ryan Scott in Design @ DoorDashJul 14, 2016   \n",
       "239    300     Julie Zhuo  Julie Zhuo in The Year of the Looking GlassMay...   \n",
       "336    422     Julie Zhuo  Julie Zhuo in The Year of the Looking GlassMay...   \n",
       "474    562           Esri                 Esri in ArcNews by EsriFeb 3, 2015   \n",
       "485    573    Oct 5, 2015          Mitchell Harper in The StartupOct 5, 2015   \n",
       "493    582   Jul 17, 2015  Stelios Constantinides in The StartupJul 17, 2015   \n",
       "\n",
       "     responses header                                               text  \\\n",
       "128          2    NaN  So you’re thinking of growing your own food? A...   \n",
       "204          1    NaN  Food is plummeting down, bouncing, rolling aro...   \n",
       "216          0    NaN  A photograph is worth 1,000 words, but food ph...   \n",
       "239         23    NaN  The number of retailers accepting cryptocurren...   \n",
       "336         23    NaN  The Future of Design in Technology10 predictio...   \n",
       "474          0    NaN  Geospatial Technology and the Future of the Ci...   \n",
       "485         92    NaN  Fuck your drinking culture too. Please stop ce...   \n",
       "493         18    NaN  Fuck your open space floor plans- You really t...   \n",
       "\n",
       "     length  \n",
       "128     283  \n",
       "204     353  \n",
       "216    5163  \n",
       "239     435  \n",
       "336    3097  \n",
       "474    8674  \n",
       "485     290  \n",
       "493     343  "
      ]
     },
     "execution_count": 92,
     "metadata": {
      "tags": []
     },
     "output_type": "execute_result"
    }
   ],
   "source": [
    "test[test['header'].isnull()]"
   ]
  },
  {
   "cell_type": "markdown",
   "metadata": {
    "colab_type": "text",
    "id": "-vwCSUT8AlMS"
   },
   "source": [
    "#### Text\n",
    "\n",
    "The text feature has 442 unique texts and 0 missing values. If we take a closer look at all the text in the first line, we can see that it contains html tags, which mainly contain links and images. There are also different Unicode hex character codes like '\\xa0'. Other texts also contain dates. The most common words that do not contain stop words in all texts are 'data', 'netflix' and 'food', which already gives us a general idea of the content of the texts. It will be interesting to see if the texts in the train dataset have a similar frequency order of the words."
   ]
  },
  {
   "cell_type": "code",
   "execution_count": 93,
   "metadata": {
    "colab": {
     "base_uri": "https://localhost:8080/",
     "height": 0
    },
    "colab_type": "code",
    "id": "eZ_7N9DpAoVN",
    "outputId": "2d9bef27-e76e-40ad-9a08-c08b905171a7"
   },
   "outputs": [
    {
     "name": "stdout",
     "output_type": "stream",
     "text": [
      "count                                                   514\n",
      "unique                                                  442\n",
      "top       Lessons from Building Observability Tools at N...\n",
      "freq                                                      2\n",
      "Name: text, dtype: object \n",
      "\n",
      "Missing values:  0\n"
     ]
    }
   ],
   "source": [
    "print(test['text'].describe(), \"\\n\")\n",
    "print(\"Missing values: \" , str(test['text'].isnull().sum()))"
   ]
  },
  {
   "cell_type": "code",
   "execution_count": 95,
   "metadata": {
    "colab": {
     "base_uri": "https://localhost:8080/",
     "height": 0
    },
    "colab_type": "code",
    "id": "OZ3LbqVd2QsR",
    "outputId": "ae88812b-7321-435d-affa-1395e9cb1994"
   },
   "outputs": [
    {
     "name": "stdout",
     "output_type": "stream",
     "text": [
      "[nltk_data] Downloading package stopwords to /root/nltk_data...\n",
      "[nltk_data]   Package stopwords is already up-to-date!\n",
      "Total words: 24168\n"
     ]
    },
    {
     "data": {
      "text/html": [
       "<div>\n",
       "<style scoped>\n",
       "    .dataframe tbody tr th:only-of-type {\n",
       "        vertical-align: middle;\n",
       "    }\n",
       "\n",
       "    .dataframe tbody tr th {\n",
       "        vertical-align: top;\n",
       "    }\n",
       "\n",
       "    .dataframe thead th {\n",
       "        text-align: right;\n",
       "    }\n",
       "</style>\n",
       "<table border=\"1\" class=\"dataframe\">\n",
       "  <thead>\n",
       "    <tr style=\"text-align: right;\">\n",
       "      <th></th>\n",
       "      <th>word</th>\n",
       "      <th>test_freq</th>\n",
       "    </tr>\n",
       "  </thead>\n",
       "  <tbody>\n",
       "    <tr>\n",
       "      <th>0</th>\n",
       "      <td>data</td>\n",
       "      <td>2371</td>\n",
       "    </tr>\n",
       "    <tr>\n",
       "      <th>1</th>\n",
       "      <td>netflix</td>\n",
       "      <td>1733</td>\n",
       "    </tr>\n",
       "    <tr>\n",
       "      <th>2</th>\n",
       "      <td>food</td>\n",
       "      <td>1519</td>\n",
       "    </tr>\n",
       "    <tr>\n",
       "      <th>3</th>\n",
       "      <td>one</td>\n",
       "      <td>1426</td>\n",
       "    </tr>\n",
       "    <tr>\n",
       "      <th>4</th>\n",
       "      <td>time</td>\n",
       "      <td>1278</td>\n",
       "    </tr>\n",
       "    <tr>\n",
       "      <th>5</th>\n",
       "      <td>like</td>\n",
       "      <td>1146</td>\n",
       "    </tr>\n",
       "    <tr>\n",
       "      <th>6</th>\n",
       "      <td>also</td>\n",
       "      <td>1110</td>\n",
       "    </tr>\n",
       "    <tr>\n",
       "      <th>7</th>\n",
       "      <td>use</td>\n",
       "      <td>1089</td>\n",
       "    </tr>\n",
       "    <tr>\n",
       "      <th>8</th>\n",
       "      <td>new</td>\n",
       "      <td>1054</td>\n",
       "    </tr>\n",
       "    <tr>\n",
       "      <th>9</th>\n",
       "      <td>video</td>\n",
       "      <td>983</td>\n",
       "    </tr>\n",
       "  </tbody>\n",
       "</table>\n",
       "</div>"
      ],
      "text/plain": [
       "      word  test_freq\n",
       "0     data       2371\n",
       "1  netflix       1733\n",
       "2     food       1519\n",
       "3      one       1426\n",
       "4     time       1278\n",
       "5     like       1146\n",
       "6     also       1110\n",
       "7      use       1089\n",
       "8      new       1054\n",
       "9    video        983"
      ]
     },
     "execution_count": 95,
     "metadata": {
      "tags": []
     },
     "output_type": "execute_result"
    }
   ],
   "source": [
    "from sklearn.feature_extraction.text import CountVectorizer\n",
    "import nltk\n",
    "nltk.download('stopwords')\n",
    "from nltk.corpus import stopwords   \n",
    "stop_words = list(set(stopwords.words('english')))\n",
    "\n",
    "#get most common words\n",
    "vect_count = CountVectorizer()\n",
    "word_counts = vect_count.fit_transform(test['text'])\n",
    "sum_words = word_counts.sum(axis=0)\n",
    "frequencies = [(word, sum_words[0, idx]) for word, idx in vect_count.vocabulary_.items() if not word in stop_words]\n",
    "frequencies = sorted(frequencies, key=lambda x: x[1], reverse=True)\n",
    "print(f'Total words: {len(frequencies)}')\n",
    "frequent_test_words = pd.DataFrame(frequencies)[:100]\n",
    "frequent_test_words.columns = ['word','test_freq']\n",
    "frequent_test_words.head(10)"
   ]
  },
  {
   "cell_type": "markdown",
   "metadata": {
    "colab_type": "text",
    "id": "6pcWZ9px5iu7"
   },
   "source": [
    "#### Length\n",
    "\n",
    "With a median of 5228 and a mean value of 6545, the length feature is also left skewed. The smallest length is 251 and the longest 32766. If we look at the text of the smallest length attribute, we can see that the text is very short, but with a real number of characters of only 81 it differs from the smallest length attribute of 251. Therefore the length feature might not represent the actual length of the text. "
   ]
  },
  {
   "cell_type": "code",
   "execution_count": 96,
   "metadata": {
    "colab": {
     "base_uri": "https://localhost:8080/",
     "height": 0
    },
    "colab_type": "code",
    "id": "hVgjb-XL5kIz",
    "outputId": "c010befe-359f-445e-b61a-3800140d3007",
    "scrolled": true
   },
   "outputs": [
    {
     "name": "stdout",
     "output_type": "stream",
     "text": [
      "count      514.000000\n",
      "mean      6545.963035\n",
      "std       6449.069641\n",
      "min        251.000000\n",
      "25%        908.750000\n",
      "50%       5228.000000\n",
      "75%      10433.250000\n",
      "max      32766.000000\n",
      "Name: length, dtype: float64 \n",
      "\n",
      "Missing values:  0 \n",
      "\n"
     ]
    },
    {
     "data": {
      "image/png": "[encoded data removed]",
      "text/plain": [
       "<Figure size 1800x360 with 4 Axes>"
      ]
     },
     "metadata": {
      "needs_background": "light",
      "tags": []
     },
     "output_type": "display_data"
    }
   ],
   "source": [
    "explore_numerical_value(test['length'])"
   ]
  },
  {
   "cell_type": "code",
   "execution_count": 97,
   "metadata": {
    "colab": {
     "base_uri": "https://localhost:8080/",
     "height": 0
    },
    "colab_type": "code",
    "id": "Rz_4IDA3nWcB",
    "outputId": "c7ae1005-df12-4585-b238-8626b85a5bb0",
    "scrolled": true
   },
   "outputs": [
    {
     "name": "stdout",
     "output_type": "stream",
     "text": [
      "55    When I was a teenager, I used to occasionally ...\n",
      "Name: text, dtype: object\n",
      "Length of text:  81\n"
     ]
    }
   ],
   "source": [
    "print(test[test['length'] == min(test['length'])]['text'])\n",
    "print(\"Length of text: \", len(str(test[test['length'] == min(test['length'])]['text'])))"
   ]
  },
  {
   "cell_type": "markdown",
   "metadata": {
    "colab_type": "text",
    "id": "njt2rdyxZWos"
   },
   "source": [
    "### Train Data"
   ]
  },
  {
   "cell_type": "markdown",
   "metadata": {
    "colab_type": "text",
    "id": "aYlztGj9pJAz"
   },
   "source": [
    "Now we will take a look at the train dataset. Here the focus will be on finding features that have a high correlation with the target variable and that can also be found or somehow extracted from the test dataset. \n",
    "At first glance we can see that the train dataset has a total of 50 columns and 279577 rows."
   ]
  },
  {
   "cell_type": "code",
   "execution_count": 98,
   "metadata": {
    "colab": {
     "base_uri": "https://localhost:8080/",
     "height": 0
    },
    "colab_type": "code",
    "id": "JLArSxJVSIzK",
    "outputId": "a21aaa1b-8c68-42fb-8e26-53d1a96ba8aa"
   },
   "outputs": [
    {
     "data": {
      "text/html": [
       "<div>\n",
       "<style scoped>\n",
       "    .dataframe tbody tr th:only-of-type {\n",
       "        vertical-align: middle;\n",
       "    }\n",
       "\n",
       "    .dataframe tbody tr th {\n",
       "        vertical-align: top;\n",
       "    }\n",
       "\n",
       "    .dataframe thead th {\n",
       "        text-align: right;\n",
       "    }\n",
       "</style>\n",
       "<table border=\"1\" class=\"dataframe\">\n",
       "  <thead>\n",
       "    <tr style=\"text-align: right;\">\n",
       "      <th></th>\n",
       "      <th>audioversiondurationsec</th>\n",
       "      <th>codeblock</th>\n",
       "      <th>codeblockcount</th>\n",
       "      <th>collectionid</th>\n",
       "      <th>createddate</th>\n",
       "      <th>createddatetime</th>\n",
       "      <th>firstpublisheddate</th>\n",
       "      <th>...</th>\n",
       "      <th>author</th>\n",
       "      <th>bio</th>\n",
       "      <th>userid</th>\n",
       "      <th>username</th>\n",
       "      <th>usersfollowedbycount</th>\n",
       "      <th>usersfollowedcount</th>\n",
       "      <th>scrappeddate</th>\n",
       "    </tr>\n",
       "  </thead>\n",
       "  <tbody>\n",
       "    <tr>\n",
       "      <th>0</th>\n",
       "      <td>0</td>\n",
       "      <td>NaN</td>\n",
       "      <td>0.0</td>\n",
       "      <td>638f418c8464</td>\n",
       "      <td>2018-09-18</td>\n",
       "      <td>2018-09-18 20:55:34</td>\n",
       "      <td>2018-09-18</td>\n",
       "      <td>...</td>\n",
       "      <td>Anar Babaev</td>\n",
       "      <td>NaN</td>\n",
       "      <td>f1ad85af0169</td>\n",
       "      <td>babaevanar</td>\n",
       "      <td>450.0</td>\n",
       "      <td>404.0</td>\n",
       "      <td>20181104</td>\n",
       "    </tr>\n",
       "    <tr>\n",
       "      <th>1</th>\n",
       "      <td>0</td>\n",
       "      <td>NaN</td>\n",
       "      <td>0.0</td>\n",
       "      <td>638f418c8464</td>\n",
       "      <td>2018-09-18</td>\n",
       "      <td>2018-09-18 20:55:34</td>\n",
       "      <td>2018-09-18</td>\n",
       "      <td>...</td>\n",
       "      <td>Anar Babaev</td>\n",
       "      <td>NaN</td>\n",
       "      <td>f1ad85af0169</td>\n",
       "      <td>babaevanar</td>\n",
       "      <td>450.0</td>\n",
       "      <td>404.0</td>\n",
       "      <td>20181104</td>\n",
       "    </tr>\n",
       "    <tr>\n",
       "      <th>2</th>\n",
       "      <td>0</td>\n",
       "      <td>NaN</td>\n",
       "      <td>0.0</td>\n",
       "      <td>638f418c8464</td>\n",
       "      <td>2018-09-18</td>\n",
       "      <td>2018-09-18 20:55:34</td>\n",
       "      <td>2018-09-18</td>\n",
       "      <td>...</td>\n",
       "      <td>Anar Babaev</td>\n",
       "      <td>NaN</td>\n",
       "      <td>f1ad85af0169</td>\n",
       "      <td>babaevanar</td>\n",
       "      <td>450.0</td>\n",
       "      <td>404.0</td>\n",
       "      <td>20181104</td>\n",
       "    </tr>\n",
       "  </tbody>\n",
       "</table>\n",
       "<p>3 rows × 50 columns</p>\n",
       "</div>"
      ],
      "text/plain": [
       "   audioversiondurationsec codeblock  codeblockcount  collectionid  \\\n",
       "0                        0       NaN             0.0  638f418c8464   \n",
       "1                        0       NaN             0.0  638f418c8464   \n",
       "2                        0       NaN             0.0  638f418c8464   \n",
       "\n",
       "  createddate      createddatetime firstpublisheddate  ...       author  bio  \\\n",
       "0  2018-09-18  2018-09-18 20:55:34         2018-09-18  ...  Anar Babaev  NaN   \n",
       "1  2018-09-18  2018-09-18 20:55:34         2018-09-18  ...  Anar Babaev  NaN   \n",
       "2  2018-09-18  2018-09-18 20:55:34         2018-09-18  ...  Anar Babaev  NaN   \n",
       "\n",
       "         userid    username usersfollowedbycount usersfollowedcount  \\\n",
       "0  f1ad85af0169  babaevanar                450.0              404.0   \n",
       "1  f1ad85af0169  babaevanar                450.0              404.0   \n",
       "2  f1ad85af0169  babaevanar                450.0              404.0   \n",
       "\n",
       "   scrappeddate  \n",
       "0      20181104  \n",
       "1      20181104  \n",
       "2      20181104  \n",
       "\n",
       "[3 rows x 50 columns]"
      ]
     },
     "execution_count": 98,
     "metadata": {
      "tags": []
     },
     "output_type": "execute_result"
    }
   ],
   "source": [
    "train = pd.read_csv('Train.csv')\n",
    "train = train.rename(str.lower, axis='columns')\n",
    "train.head(3)"
   ]
  },
  {
   "cell_type": "code",
   "execution_count": 99,
   "metadata": {
    "colab": {
     "base_uri": "https://localhost:8080/",
     "height": 0
    },
    "colab_type": "code",
    "id": "YRH2kYHYXbhV",
    "outputId": "b7e47fb1-d5a5-43de-f63a-0d2bb683321b"
   },
   "outputs": [
    {
     "name": "stdout",
     "output_type": "stream",
     "text": [
      "<class 'pandas.core.frame.DataFrame'>\n",
      "RangeIndex: 279577 entries, 0 to 279576\n",
      "Data columns (total 50 columns):\n",
      " #   Column                       Non-Null Count   Dtype  \n",
      "---  ------                       --------------   -----  \n",
      " 0   audioversiondurationsec      279577 non-null  int64  \n",
      " 1   codeblock                    25179 non-null   object \n",
      " 2   codeblockcount               279577 non-null  float64\n",
      " 3   collectionid                 137878 non-null  object \n",
      " 4   createddate                  279577 non-null  object \n",
      " 5   createddatetime              279577 non-null  object \n",
      " 6   firstpublisheddate           279577 non-null  object \n",
      " 7   firstpublisheddatetime       279577 non-null  object \n",
      " 8   imagecount                   279577 non-null  int64  \n",
      " 9   issubscriptionlocked         279577 non-null  bool   \n",
      " 10  language                     279577 non-null  object \n",
      " 11  latestpublisheddate          279577 non-null  object \n",
      " 12  latestpublisheddatetime      279577 non-null  object \n",
      " 13  linkscount                   279577 non-null  int64  \n",
      " 14  postid                       279577 non-null  object \n",
      " 15  readingtime                  279577 non-null  float64\n",
      " 16  recommends                   279577 non-null  int64  \n",
      " 17  responsescreatedcount        279577 non-null  int64  \n",
      " 18  socialrecommendscount        279577 non-null  int64  \n",
      " 19  subtitle                     271217 non-null  object \n",
      " 20  tagscount                    279577 non-null  int64  \n",
      " 21  text                         279577 non-null  object \n",
      " 22  title                        279572 non-null  object \n",
      " 23  totalclapcount               279577 non-null  int64  \n",
      " 24  uniqueslug                   279577 non-null  object \n",
      " 25  updateddate                  279577 non-null  object \n",
      " 26  updateddatetime              279577 non-null  object \n",
      " 27  url                          279577 non-null  object \n",
      " 28  vote                         279577 non-null  bool   \n",
      " 29  wordcount                    279577 non-null  int64  \n",
      " 30  publicationdescription       137231 non-null  object \n",
      " 31  publicationdomain            53972 non-null   object \n",
      " 32  publicationfacebookpagename  100874 non-null  object \n",
      " 33  publicationfollowercount     0 non-null       float64\n",
      " 34  publicationname              137231 non-null  object \n",
      " 35  publicationpublicemail       101982 non-null  object \n",
      " 36  publicationslug              137231 non-null  object \n",
      " 37  publicationtags              130298 non-null  object \n",
      " 38  publicationtwitterusername   119851 non-null  object \n",
      " 39  tag_name                     279577 non-null  object \n",
      " 40  slug                         279577 non-null  object \n",
      " 41  name                         279577 non-null  object \n",
      " 42  postcount                    279577 non-null  float64\n",
      " 43  author                       279577 non-null  object \n",
      " 44  bio                          225480 non-null  object \n",
      " 45  userid                       279577 non-null  object \n",
      " 46  username                     279577 non-null  object \n",
      " 47  usersfollowedbycount         279577 non-null  float64\n",
      " 48  usersfollowedcount           279577 non-null  float64\n",
      " 49  scrappeddate                 279577 non-null  int64  \n",
      "dtypes: bool(2), float64(6), int64(10), object(32)\n",
      "memory usage: 102.9+ MB\n"
     ]
    }
   ],
   "source": [
    "train.info()"
   ]
  },
  {
   "cell_type": "markdown",
   "metadata": {
    "colab_type": "text",
    "id": "XqF65dJiEGCQ"
   },
   "source": [
    "#### Target Variable : totalClapCount  \n",
    "\n",
    "The first feature we will look at is our target variable. It is clear to see that our target, the total number of collapses of a medium article, has a wide range from 0 to 291,706 and is strongly skewed to the left. This shows some interesting similarities with the responses feature of the test dataset we have already examined. \n",
    "\n",
    "Nevertheless, it could be challenging to accurately predict a target that has such large outliers and is so strongly left skewed without other features being closely correlated with the target variable. Therefore, our next step will be to get an overview of which features show a high correlation to our target variable. A first overview will be especially helpful in cases like here where we have a high number of features. It will allow us to better plan which features we should devote more attention to.\n"
   ]
  },
  {
   "cell_type": "code",
   "execution_count": 100,
   "metadata": {
    "colab": {
     "base_uri": "https://localhost:8080/",
     "height": 0
    },
    "colab_type": "code",
    "id": "AFBJ4F7fHmGI",
    "outputId": "0d858a1e-39dc-4cf8-f780-28a9a0378dbc"
   },
   "outputs": [
    {
     "name": "stdout",
     "output_type": "stream",
     "text": [
      "count    279577.000000\n",
      "mean        184.963473\n",
      "std        1985.353004\n",
      "min           0.000000\n",
      "25%           0.000000\n",
      "50%           8.000000\n",
      "75%          72.000000\n",
      "max      291706.000000\n",
      "Name: totalclapcount, dtype: float64 \n",
      "\n",
      "Missing values:  0 \n",
      "\n",
      "Pearsons correlation: 1.000 \n",
      "\n"
     ]
    },
    {
     "data": {
      "image/png": "[encoded data removed]",
      "text/plain": [
       "<Figure size 1800x360 with 5 Axes>"
      ]
     },
     "metadata": {
      "needs_background": "light",
      "tags": []
     },
     "output_type": "display_data"
    }
   ],
   "source": [
    "explore_numerical_value(train['totalclapcount'], target=train['totalclapcount'])"
   ]
  },
  {
   "cell_type": "markdown",
   "metadata": {
    "colab_type": "text",
    "id": "vy8xyptp0aEo"
   },
   "source": [
    "**Correlation of continuous features to target variable**\n",
    "\n",
    "Since the measurement of the correlation between continuous and categorical values to a continuous target variable is very different, we will examine them separately. The following correlation diagram contains the correlation of each characteristic with itself, which is always 1, which is the reason why this diagram type always shows the red diagonal from top left to bottom right. Apart from the diagonal, the remaining squares show the correlation between different characteristics.\n",
    "\n",
    "As we can see, the feature \"recommends\" has by far the highest correlation to our target value. Since this feature and our target have such a high correlation, it is likely that we could predict the target value fairly precisely with this feature alone. Unfortunately, this feature is not included in the test dataset, nor can it somehow be extracted from other features in the test data. The second highest correlation has the feature \"responsescreatedcount\". Even if the name differs from the feature \"responses\" in the test data set, these features are most likely the same. Other features that are in some way correlated with the target are \"socialrecommendscount\" and \"usersfollowedcount\", which however are also not included in the test data. "
   ]
  },
  {
   "cell_type": "code",
   "execution_count": 101,
   "metadata": {
    "colab": {
     "base_uri": "https://localhost:8080/",
     "height": 0
    },
    "colab_type": "code",
    "id": "Ar9KmLsOJVWm",
    "outputId": "fc39ae70-0d57-47f1-88c4-8b8c89eb5305"
   },
   "outputs": [
    {
     "data": {
      "image/png": "[encoded data removed]",
      "text/plain": [
       "<Figure size 432x288 with 2 Axes>"
      ]
     },
     "metadata": {
      "needs_background": "light",
      "tags": []
     },
     "output_type": "display_data"
    }
   ],
   "source": [
    "data = train.select_dtypes(include=['float64', 'int64'])\n",
    "corr = data.corr()\n",
    "fig = plt.figure()\n",
    "ax = fig.add_subplot(111)\n",
    "cax = ax.matshow(corr,cmap='coolwarm', vmin=-1, vmax=1)\n",
    "fig.colorbar(cax)\n",
    "ticks = np.arange(0,len(data.columns),1)\n",
    "ax.set_xticks(ticks)\n",
    "plt.xticks(rotation=90)\n",
    "ax.set_yticks(ticks)\n",
    "ax.set_xticklabels(data.columns)\n",
    "ax.set_yticklabels(data.columns)\n",
    "plt.show()"
   ]
  },
  {
   "cell_type": "markdown",
   "metadata": {
    "colab_type": "text",
    "id": "SV2zFjxlODO0"
   },
   "source": [
    "#### Responds Created Count\n",
    "\n",
    "Similar to the \"Response\" feature in the testset, the \"Responsecreatedcount\" feature is strongly left-skewed. However, the median and mean values differ significantly between the two features. \n",
    "While the \"Response\" feature has a mean value of 19.8 and a median of 4, the \"Responsecreatedcount\" feature has a mean value of only 0.94 and a median of 0. The maximum value is with 3076 also much higher. \n",
    "\n",
    "If the \"Responsecreatedcount\" and \"Response\" feature are still considered to be the same, this means that the articles from the test dataset have significantly more responses on average. Due to the fact that the \"Responsecreatedcount\" has a comparatively high correlation to the target variable of 0.6, the target value in the test data is likely to be significantly higher on average. This could indicate that the testdata was predominantly scraped from popular articles, while the traindata consists of more randomly scraped articles. "
   ]
  },
  {
   "cell_type": "code",
   "execution_count": 102,
   "metadata": {
    "colab": {
     "base_uri": "https://localhost:8080/",
     "height": 0
    },
    "colab_type": "code",
    "id": "4YmkkQB7OKC9",
    "outputId": "d52ff518-da74-43fa-d00b-752f5dafe520"
   },
   "outputs": [
    {
     "name": "stdout",
     "output_type": "stream",
     "text": [
      "count    279577.000000\n",
      "mean          0.948404\n",
      "std          14.910367\n",
      "min           0.000000\n",
      "25%           0.000000\n",
      "50%           0.000000\n",
      "75%           0.000000\n",
      "max        3076.000000\n",
      "Name: responsescreatedcount, dtype: float64 \n",
      "\n",
      "Missing values:  0 \n",
      "\n",
      "Pearsons correlation: 0.599 \n",
      "\n"
     ]
    },
    {
     "data": {
      "image/png": "[encoded data removed]",
      "text/plain": [
       "<Figure size 1800x360 with 5 Axes>"
      ]
     },
     "metadata": {
      "needs_background": "light",
      "tags": []
     },
     "output_type": "display_data"
    }
   ],
   "source": [
    "explore_numerical_value(train['responsescreatedcount'], target=train['totalclapcount'])"
   ]
  },
  {
   "cell_type": "markdown",
   "metadata": {
    "colab_type": "text",
    "id": "BParRDaSWBzh"
   },
   "source": [
    "#### Image & Links Count\n",
    "\n",
    "Even though the image and link numbers show a very low correlation to the target variable of 0.062 and 0.065, respectively, it might be worth trying to extract these features from the text of the test data set. The distribution of both characteristics looks similar and are strongly left skewed."
   ]
  },
  {
   "cell_type": "code",
   "execution_count": 103,
   "metadata": {
    "colab": {
     "base_uri": "https://localhost:8080/",
     "height": 0
    },
    "colab_type": "code",
    "id": "XxuIQFIgV_Nq",
    "outputId": "95daa8fc-86a9-44e1-ae7b-a655ff7afaec"
   },
   "outputs": [
    {
     "name": "stdout",
     "output_type": "stream",
     "text": [
      "count    279577.000000\n",
      "mean          3.766948\n",
      "std           5.463126\n",
      "min           0.000000\n",
      "25%           1.000000\n",
      "50%           2.000000\n",
      "75%           5.000000\n",
      "max         263.000000\n",
      "Name: imagecount, dtype: float64 \n",
      "\n",
      "Missing values:  0 \n",
      "\n",
      "Pearsons correlation: 0.062 \n",
      "\n"
     ]
    },
    {
     "data": {
      "image/png": "[encoded data removed]",
      "text/plain": [
       "<Figure size 1800x360 with 5 Axes>"
      ]
     },
     "metadata": {
      "needs_background": "light",
      "tags": []
     },
     "output_type": "display_data"
    }
   ],
   "source": [
    "explore_numerical_value(train['imagecount'],  target=train['totalclapcount'])"
   ]
  },
  {
   "cell_type": "code",
   "execution_count": 104,
   "metadata": {
    "colab": {
     "base_uri": "https://localhost:8080/",
     "height": 0
    },
    "colab_type": "code",
    "id": "hFmaA15xWUxw",
    "outputId": "c86925fd-88b5-4733-fc42-c46377e2d186"
   },
   "outputs": [
    {
     "name": "stdout",
     "output_type": "stream",
     "text": [
      "count    279577.000000\n",
      "mean          6.869785\n",
      "std          11.962162\n",
      "min           0.000000\n",
      "25%           1.000000\n",
      "50%           4.000000\n",
      "75%           9.000000\n",
      "max        1180.000000\n",
      "Name: linkscount, dtype: float64 \n",
      "\n",
      "Missing values:  0 \n",
      "\n",
      "Pearsons correlation: 0.065 \n",
      "\n"
     ]
    },
    {
     "data": {
      "image/png": "[encoded data removed]",
      "text/plain": [
       "<Figure size 1800x360 with 5 Axes>"
      ]
     },
     "metadata": {
      "needs_background": "light",
      "tags": []
     },
     "output_type": "display_data"
    }
   ],
   "source": [
    "explore_numerical_value(train['linkscount'], target=train['totalclapcount'])"
   ]
  },
  {
   "cell_type": "markdown",
   "metadata": {
    "colab_type": "text",
    "id": "U2iTKj8fGeCx"
   },
   "source": [
    "#### Title\n",
    "\n",
    "The \"Title\" feature most likely corresponds to the \"Header\" feature of the test data. Similar to the testdata, some titles of the traindata appear several times. The title \"10 new things to read in the AI\" has the highest frequency of 186. If we look at the mean and median of items with the same title, we can clearly see that they also have different target values, which means that they are not exact duplicates. If we look at the text of articles with the same title, we can see that they have both, duplicate texts and completely different texts. "
   ]
  },
  {
   "cell_type": "code",
   "execution_count": 105,
   "metadata": {
    "colab": {
     "base_uri": "https://localhost:8080/",
     "height": 0
    },
    "colab_type": "code",
    "id": "vKnPDZiHGeig",
    "outputId": "adf6a966-c5c7-4656-dcdf-62a90183b36b"
   },
   "outputs": [
    {
     "name": "stdout",
     "output_type": "stream",
     "text": [
      "Category                                                                                               Freq    Mean_totalclapcount    Median_totalclapcount\n",
      "---------------------------------------------------------------------------------------------------  ------  ---------------------  -----------------------\n",
      "10 new things to read in AI                                                                             186               0.193548                      0\n",
      "11 new things to read in AI                                                                             147               0.122449                      0\n",
      "Artificial Intelligence                                                                                  78              11.7821                        0\n",
      "12 new things to read in AI                                                                              75               0.28                          0\n",
      "9 new things to read in AI                                                                               69               0.173913                      0\n",
      "13 new things to read in AI                                                                              69               0.130435                      0\n",
      "Echobox Weekly                                                                                           68              89.2941                       62\n",
      "Machine Learning                                                                                         51               5.70588                       0\n",
      "UNICUM ORGANUM                                                                                           44              19.3409                        6\n",
      "Linear Regression                                                                                        41              75.439                        10\n",
      "14 new things to read in AI                                                                              36               0                             0\n",
      "8 new things to read in AI                                                                               36               0.25                          0\n",
      "Introduction to Machine Learning                                                                         34              11.2059                        1\n",
      "What is Artificial Intelligence?                                                                         34               8.52941                       0\n",
      "An AI Walks Into a Bar                                                                                   32              26.7188                       20\n",
      "What is Machine Learning?                                                                                31              74.5484                        1\n",
      "6 new things to read in AI                                                                               30               0                             0\n",
      "Updates from Aalto Analytics Society                                                                     29               6.7931                        1\n",
      "Rise of the Machines                                                                                     28             337.393                        77.5\n",
      "Reinforcement Learning                                                                                   26              14.6154                       10\n",
      "Introduction to Deep Learning                                                                            26               9                             3\n",
      "Logistic Regression                                                                                      24              91.5417                       82\n",
      "7 new things to read in AI                                                                               24               0                             0\n",
      "The Curse of Dimensionality                                                                              24             307.917                        63\n",
      "Descriptive Statistics                                                                                   21              25.0952                        1\n",
      "AI                                                                                                       21               3.66667                       2\n",
      "Data Science                                                                                             21              22.381                         0\n",
      "Free Online Programming Courses of the Day                                                               20               6                             6.5\n",
      "What is machine learning?                                                                                20              15.05                          0\n",
      "Learn Colors for Children with Little Monsters Fun Play Color Chicken Legs Machine 3D Kids Cartoons      20               0                             0\n",
      "Learning Machine Learning                                                                                19              22.4737                        6\n",
      "Machine Learning 101                                                                                     19               7.78947                      13\n",
      "Untitled                                                                                                 18               0.277778                      0\n",
      "Report: “Company”                                                                                        18             170.278                       130.5\n",
      "Genetic Algorithms                                                                                       18              84.8333                        0\n",
      "Ten Machine Learning Algorithms You Should Know to Become a Data Scientist                               18            1463.17                        166\n",
      "The Chatbot Dictionary                                                                                   17              26.7647                       36\n",
      "Hello World                                                                                              17               2.88235                       1\n",
      "What is data science?                                                                                    17              12.1765                        0\n",
      "Deep Learning                                                                                            17              24.3529                        0\n",
      "About                                                                                                    16              49.9375                       14\n",
      "Financial data analysis                                                                                  16              37                            31.5\n",
      "Will machine learning be the death of content A/B testing?                                               16               1                             0\n",
      "Sentiment Analysis: Concept, Analysis and Applications                                                   16             307.75                        132\n",
      "A Beginner’s Guide to Machine Learning                                                                   16              75.25                         49.5\n",
      "Intro to Data Science                                                                                    16             271.062                       273\n",
      "15 new things to read in AI                                                                              15               0                             0\n",
      "From Lost Opportunities to Unfair Advantages in the Insurance Industry — Bridging the Gap with…          15               0.666667                      1\n",
      "Modeling of Cryptocurrency Prices                                                                        15               1                             1\n",
      "The introverts guide to success in online community learning: Bertlesmann-Udacity Data Science…          15              18                            13 \n",
      "\n",
      "count                          279572\n",
      "unique                          70275\n",
      "top       10 new things to read in AI\n",
      "freq                              186\n",
      "Name: title, dtype: object \n",
      "\n",
      "Missing values:  5\n"
     ]
    }
   ],
   "source": [
    "explore_categorical_value(train, 'title', rows=50, target='totalclapcount')"
   ]
  },
  {
   "cell_type": "code",
   "execution_count": 106,
   "metadata": {
    "colab": {
     "base_uri": "https://localhost:8080/",
     "height": 0
    },
    "colab_type": "code",
    "id": "R5p-8rC08s9g",
    "outputId": "933e49f0-5a5b-400a-d181-f4d224e11166"
   },
   "outputs": [
    {
     "data": {
      "text/html": [
       "<div>\n",
       "<style scoped>\n",
       "    .dataframe tbody tr th:only-of-type {\n",
       "        vertical-align: middle;\n",
       "    }\n",
       "\n",
       "    .dataframe tbody tr th {\n",
       "        vertical-align: top;\n",
       "    }\n",
       "\n",
       "    .dataframe thead th {\n",
       "        text-align: right;\n",
       "    }\n",
       "</style>\n",
       "<table border=\"1\" class=\"dataframe\">\n",
       "  <thead>\n",
       "    <tr style=\"text-align: right;\">\n",
       "      <th></th>\n",
       "      <th>audioversiondurationsec</th>\n",
       "      <th>codeblock</th>\n",
       "      <th>codeblockcount</th>\n",
       "      <th>collectionid</th>\n",
       "      <th>createddate</th>\n",
       "      <th>createddatetime</th>\n",
       "      <th>firstpublisheddate</th>\n",
       "      <th>...</th>\n",
       "      <th>author</th>\n",
       "      <th>bio</th>\n",
       "      <th>userid</th>\n",
       "      <th>username</th>\n",
       "      <th>usersfollowedbycount</th>\n",
       "      <th>usersfollowedcount</th>\n",
       "      <th>scrappeddate</th>\n",
       "    </tr>\n",
       "  </thead>\n",
       "  <tbody>\n",
       "    <tr>\n",
       "      <th>6104</th>\n",
       "      <td>0</td>\n",
       "      <td>NaN</td>\n",
       "      <td>0.0</td>\n",
       "      <td>f702855ffe47</td>\n",
       "      <td>2017-11-03</td>\n",
       "      <td>2017-11-03 15:00:24</td>\n",
       "      <td>2017-11-03</td>\n",
       "      <td>...</td>\n",
       "      <td>AI Hawk</td>\n",
       "      <td>NaN</td>\n",
       "      <td>a9a7e4d2b403</td>\n",
       "      <td>aihawk1089</td>\n",
       "      <td>15.0</td>\n",
       "      <td>6.0</td>\n",
       "      <td>20181104</td>\n",
       "    </tr>\n",
       "    <tr>\n",
       "      <th>6105</th>\n",
       "      <td>0</td>\n",
       "      <td>NaN</td>\n",
       "      <td>0.0</td>\n",
       "      <td>f702855ffe47</td>\n",
       "      <td>2017-11-03</td>\n",
       "      <td>2017-11-03 15:00:24</td>\n",
       "      <td>2017-11-03</td>\n",
       "      <td>...</td>\n",
       "      <td>AI Hawk</td>\n",
       "      <td>NaN</td>\n",
       "      <td>a9a7e4d2b403</td>\n",
       "      <td>aihawk1089</td>\n",
       "      <td>15.0</td>\n",
       "      <td>6.0</td>\n",
       "      <td>20181104</td>\n",
       "    </tr>\n",
       "    <tr>\n",
       "      <th>6106</th>\n",
       "      <td>0</td>\n",
       "      <td>NaN</td>\n",
       "      <td>0.0</td>\n",
       "      <td>f702855ffe47</td>\n",
       "      <td>2017-11-03</td>\n",
       "      <td>2017-11-03 15:00:24</td>\n",
       "      <td>2017-11-03</td>\n",
       "      <td>...</td>\n",
       "      <td>AI Hawk</td>\n",
       "      <td>NaN</td>\n",
       "      <td>a9a7e4d2b403</td>\n",
       "      <td>aihawk1089</td>\n",
       "      <td>15.0</td>\n",
       "      <td>6.0</td>\n",
       "      <td>20181104</td>\n",
       "    </tr>\n",
       "    <tr>\n",
       "      <th>9225</th>\n",
       "      <td>0</td>\n",
       "      <td>NaN</td>\n",
       "      <td>0.0</td>\n",
       "      <td>f702855ffe47</td>\n",
       "      <td>2017-11-18</td>\n",
       "      <td>2017-11-18 20:00:25</td>\n",
       "      <td>2017-11-18</td>\n",
       "      <td>...</td>\n",
       "      <td>AI Hawk</td>\n",
       "      <td>NaN</td>\n",
       "      <td>a9a7e4d2b403</td>\n",
       "      <td>aihawk1089</td>\n",
       "      <td>15.0</td>\n",
       "      <td>6.0</td>\n",
       "      <td>20181104</td>\n",
       "    </tr>\n",
       "    <tr>\n",
       "      <th>9226</th>\n",
       "      <td>0</td>\n",
       "      <td>NaN</td>\n",
       "      <td>0.0</td>\n",
       "      <td>f702855ffe47</td>\n",
       "      <td>2017-11-18</td>\n",
       "      <td>2017-11-18 20:00:25</td>\n",
       "      <td>2017-11-18</td>\n",
       "      <td>...</td>\n",
       "      <td>AI Hawk</td>\n",
       "      <td>NaN</td>\n",
       "      <td>a9a7e4d2b403</td>\n",
       "      <td>aihawk1089</td>\n",
       "      <td>15.0</td>\n",
       "      <td>6.0</td>\n",
       "      <td>20181104</td>\n",
       "    </tr>\n",
       "  </tbody>\n",
       "</table>\n",
       "<p>5 rows × 50 columns</p>\n",
       "</div>"
      ],
      "text/plain": [
       "      audioversiondurationsec codeblock  codeblockcount  collectionid  \\\n",
       "6104                        0       NaN             0.0  f702855ffe47   \n",
       "6105                        0       NaN             0.0  f702855ffe47   \n",
       "6106                        0       NaN             0.0  f702855ffe47   \n",
       "9225                        0       NaN             0.0  f702855ffe47   \n",
       "9226                        0       NaN             0.0  f702855ffe47   \n",
       "\n",
       "     createddate      createddatetime firstpublisheddate  ...   author  bio  \\\n",
       "6104  2017-11-03  2017-11-03 15:00:24         2017-11-03  ...  AI Hawk  NaN   \n",
       "6105  2017-11-03  2017-11-03 15:00:24         2017-11-03  ...  AI Hawk  NaN   \n",
       "6106  2017-11-03  2017-11-03 15:00:24         2017-11-03  ...  AI Hawk  NaN   \n",
       "9225  2017-11-18  2017-11-18 20:00:25         2017-11-18  ...  AI Hawk  NaN   \n",
       "9226  2017-11-18  2017-11-18 20:00:25         2017-11-18  ...  AI Hawk  NaN   \n",
       "\n",
       "            userid    username usersfollowedbycount usersfollowedcount  \\\n",
       "6104  a9a7e4d2b403  aihawk1089                 15.0                6.0   \n",
       "6105  a9a7e4d2b403  aihawk1089                 15.0                6.0   \n",
       "6106  a9a7e4d2b403  aihawk1089                 15.0                6.0   \n",
       "9225  a9a7e4d2b403  aihawk1089                 15.0                6.0   \n",
       "9226  a9a7e4d2b403  aihawk1089                 15.0                6.0   \n",
       "\n",
       "      scrappeddate  \n",
       "6104      20181104  \n",
       "6105      20181104  \n",
       "6106      20181104  \n",
       "9225      20181104  \n",
       "9226      20181104  \n",
       "\n",
       "[5 rows x 50 columns]"
      ]
     },
     "execution_count": 106,
     "metadata": {
      "tags": []
     },
     "output_type": "execute_result"
    }
   ],
   "source": [
    "train[train['title'] == \"10 new things to read in AI\"].head(5)"
   ]
  },
  {
   "cell_type": "markdown",
   "metadata": {
    "colab_type": "text",
    "id": "MwzcSV5f9i1r"
   },
   "source": [
    "#### Text\n",
    "\n",
    "None of the texts in the traindata has missing values, but as we can see in the texts with the highest frquencie, these are texts, which consist only of a line break (\"\\n\"). Furthermore, the dataset contains only 72,024 unique texts out of a total of 279,577. Especially if we want to work with text embeddings later on to predict the target value, it may be necessary to delete most or all of the duplicates.\n",
    "\n",
    "A good sign is that the most frequent word of all texts is the word \"data\", just like in the testdata. Also, almost all of the 100 most frequent words from the texts in the testdata are included in the 1000 most frequent words of the texts in the traindata."
   ]
  },
  {
   "cell_type": "code",
   "execution_count": 107,
   "metadata": {
    "colab": {
     "base_uri": "https://localhost:8080/",
     "height": 0
    },
    "colab_type": "code",
    "id": "IYoQN8zWDMvs",
    "outputId": "3a39133c-c0d3-4707-e365-1433dcf7957c"
   },
   "outputs": [
    {
     "name": "stdout",
     "output_type": "stream",
     "text": [
      "count     279577\n",
      "unique     72024\n",
      "top           \\n\n",
      "freq          32\n",
      "Name: text, dtype: object \n",
      "\n",
      "Missing values:  0\n"
     ]
    }
   ],
   "source": [
    "print(train['text'].describe(), \"\\n\")\n",
    "print(\"Missing values: \" , str(train['text'].isnull().sum()))"
   ]
  },
  {
   "cell_type": "code",
   "execution_count": 108,
   "metadata": {
    "colab": {
     "base_uri": "https://localhost:8080/",
     "height": 0
    },
    "colab_type": "code",
    "id": "oav5RVtK9kSQ",
    "outputId": "7a498efe-6d7a-4fec-ff1d-ed7e99ff2e46"
   },
   "outputs": [
    {
     "name": "stdout",
     "output_type": "stream",
     "text": [
      "Total words: 769539\n"
     ]
    },
    {
     "data": {
      "text/html": [
       "<div>\n",
       "<style scoped>\n",
       "    .dataframe tbody tr th:only-of-type {\n",
       "        vertical-align: middle;\n",
       "    }\n",
       "\n",
       "    .dataframe tbody tr th {\n",
       "        vertical-align: top;\n",
       "    }\n",
       "\n",
       "    .dataframe thead th {\n",
       "        text-align: right;\n",
       "    }\n",
       "</style>\n",
       "<table border=\"1\" class=\"dataframe\">\n",
       "  <thead>\n",
       "    <tr style=\"text-align: right;\">\n",
       "      <th></th>\n",
       "      <th>word</th>\n",
       "      <th>train_freq</th>\n",
       "    </tr>\n",
       "  </thead>\n",
       "  <tbody>\n",
       "    <tr>\n",
       "      <th>0</th>\n",
       "      <td>data</td>\n",
       "      <td>1750410</td>\n",
       "    </tr>\n",
       "    <tr>\n",
       "      <th>1</th>\n",
       "      <td>ai</td>\n",
       "      <td>989344</td>\n",
       "    </tr>\n",
       "    <tr>\n",
       "      <th>2</th>\n",
       "      <td>learning</td>\n",
       "      <td>822357</td>\n",
       "    </tr>\n",
       "    <tr>\n",
       "      <th>3</th>\n",
       "      <td>one</td>\n",
       "      <td>627261</td>\n",
       "    </tr>\n",
       "    <tr>\n",
       "      <th>4</th>\n",
       "      <td>time</td>\n",
       "      <td>540385</td>\n",
       "    </tr>\n",
       "    <tr>\n",
       "      <th>5</th>\n",
       "      <td>machine</td>\n",
       "      <td>532761</td>\n",
       "    </tr>\n",
       "    <tr>\n",
       "      <th>6</th>\n",
       "      <td>de</td>\n",
       "      <td>531373</td>\n",
       "    </tr>\n",
       "    <tr>\n",
       "      <th>7</th>\n",
       "      <td>like</td>\n",
       "      <td>527999</td>\n",
       "    </tr>\n",
       "    <tr>\n",
       "      <th>8</th>\n",
       "      <td>use</td>\n",
       "      <td>478675</td>\n",
       "    </tr>\n",
       "    <tr>\n",
       "      <th>9</th>\n",
       "      <td>new</td>\n",
       "      <td>469711</td>\n",
       "    </tr>\n",
       "  </tbody>\n",
       "</table>\n",
       "</div>"
      ],
      "text/plain": [
       "       word  train_freq\n",
       "0      data     1750410\n",
       "1        ai      989344\n",
       "2  learning      822357\n",
       "3       one      627261\n",
       "4      time      540385\n",
       "5   machine      532761\n",
       "6        de      531373\n",
       "7      like      527999\n",
       "8       use      478675\n",
       "9       new      469711"
      ]
     },
     "execution_count": 108,
     "metadata": {
      "tags": []
     },
     "output_type": "execute_result"
    }
   ],
   "source": [
    "#most common words\n",
    "vect_count = CountVectorizer()\n",
    "word_counts = vect_count.fit_transform(train['text'])\n",
    "sum_words = word_counts.sum(axis=0)\n",
    "frequencies = [(word, sum_words[0, idx]) for word, idx in vect_count.vocabulary_.items() if not word in stop_words]\n",
    "frequencies = sorted(frequencies, key=lambda x: x[1], reverse=True)\n",
    "print(f'Total words: {len(frequencies)}')\n",
    "frequent_train_words = pd.DataFrame(frequencies)[:1000]\n",
    "frequent_train_words.columns = ['word','train_freq']\n",
    "frequent_train_words.head(10)"
   ]
  },
  {
   "cell_type": "code",
   "execution_count": 109,
   "metadata": {
    "colab": {
     "base_uri": "https://localhost:8080/",
     "height": 0
    },
    "colab_type": "code",
    "id": "y0xGol-t-KNK",
    "outputId": "bc081e7f-06dd-4f20-e253-ef2fea4fa0c2"
   },
   "outputs": [
    {
     "data": {
      "text/html": [
       "<div>\n",
       "<style scoped>\n",
       "    .dataframe tbody tr th:only-of-type {\n",
       "        vertical-align: middle;\n",
       "    }\n",
       "\n",
       "    .dataframe tbody tr th {\n",
       "        vertical-align: top;\n",
       "    }\n",
       "\n",
       "    .dataframe thead th {\n",
       "        text-align: right;\n",
       "    }\n",
       "</style>\n",
       "<table border=\"1\" class=\"dataframe\">\n",
       "  <thead>\n",
       "    <tr style=\"text-align: right;\">\n",
       "      <th></th>\n",
       "      <th>word</th>\n",
       "      <th>test_freq</th>\n",
       "      <th>train_freq</th>\n",
       "    </tr>\n",
       "  </thead>\n",
       "  <tbody>\n",
       "    <tr>\n",
       "      <th>0</th>\n",
       "      <td>data</td>\n",
       "      <td>2371</td>\n",
       "      <td>1750410.0</td>\n",
       "    </tr>\n",
       "    <tr>\n",
       "      <th>1</th>\n",
       "      <td>netflix</td>\n",
       "      <td>1733</td>\n",
       "      <td>NaN</td>\n",
       "    </tr>\n",
       "    <tr>\n",
       "      <th>2</th>\n",
       "      <td>food</td>\n",
       "      <td>1519</td>\n",
       "      <td>30143.0</td>\n",
       "    </tr>\n",
       "    <tr>\n",
       "      <th>3</th>\n",
       "      <td>one</td>\n",
       "      <td>1426</td>\n",
       "      <td>627261.0</td>\n",
       "    </tr>\n",
       "    <tr>\n",
       "      <th>4</th>\n",
       "      <td>time</td>\n",
       "      <td>1278</td>\n",
       "      <td>540385.0</td>\n",
       "    </tr>\n",
       "    <tr>\n",
       "      <th>5</th>\n",
       "      <td>like</td>\n",
       "      <td>1146</td>\n",
       "      <td>527999.0</td>\n",
       "    </tr>\n",
       "    <tr>\n",
       "      <th>6</th>\n",
       "      <td>also</td>\n",
       "      <td>1110</td>\n",
       "      <td>449758.0</td>\n",
       "    </tr>\n",
       "    <tr>\n",
       "      <th>7</th>\n",
       "      <td>use</td>\n",
       "      <td>1089</td>\n",
       "      <td>478675.0</td>\n",
       "    </tr>\n",
       "    <tr>\n",
       "      <th>8</th>\n",
       "      <td>new</td>\n",
       "      <td>1054</td>\n",
       "      <td>469711.0</td>\n",
       "    </tr>\n",
       "    <tr>\n",
       "      <th>9</th>\n",
       "      <td>video</td>\n",
       "      <td>983</td>\n",
       "      <td>80641.0</td>\n",
       "    </tr>\n",
       "  </tbody>\n",
       "</table>\n",
       "</div>"
      ],
      "text/plain": [
       "      word  test_freq  train_freq\n",
       "0     data       2371   1750410.0\n",
       "1  netflix       1733         NaN\n",
       "2     food       1519     30143.0\n",
       "3      one       1426    627261.0\n",
       "4     time       1278    540385.0\n",
       "5     like       1146    527999.0\n",
       "6     also       1110    449758.0\n",
       "7      use       1089    478675.0\n",
       "8      new       1054    469711.0\n",
       "9    video        983     80641.0"
      ]
     },
     "execution_count": 109,
     "metadata": {
      "tags": []
     },
     "output_type": "execute_result"
    }
   ],
   "source": [
    "common_freq_words = pd.merge(frequent_test_words, frequent_train_words, on='word', how='left')\n",
    "common_freq_words.head(10)"
   ]
  },
  {
   "cell_type": "markdown",
   "metadata": {
    "colab_type": "text",
    "id": "HMI6aye0G2Wa"
   },
   "source": [
    "#### Author & User\n",
    "\n",
    "At first impression the features author and user are equal in their distribution and differ only in their unique values of 31,317 for the user name and 31,021 for the author name. The difference may be that some users publish articles with the same author names.\n",
    "\n",
    "A very interesting finding is that the mean value and the median number of claps differ significantly between the authors. This could be a very valuable insight for the prediction of the target if most authors of the traindata appear also in the testdata. \n",
    "In this case, we might reasonably expect that authors who have a high or low clap count in the traindata will also have a similar clap count in the testdata. Therefore, let us have a look at how many of the authors appear in both datasets. \n",
    "\n"
   ]
  },
  {
   "cell_type": "code",
   "execution_count": 110,
   "metadata": {
    "colab": {
     "base_uri": "https://localhost:8080/",
     "height": 0
    },
    "colab_type": "code",
    "id": "9Dnly2PzG00p",
    "outputId": "eb2060cc-94af-46be-a403-57feb704443b"
   },
   "outputs": [
    {
     "name": "stdout",
     "output_type": "stream",
     "text": [
      "Category             Freq    Mean_totalclapcount    Median_totalclapcount\n",
      "-----------------  ------  ---------------------  -----------------------\n",
      "Synced               1477              88.4733                         60\n",
      "YvesMulkers          1267               9.67877                         1\n",
      "SeoJaeDuk             778             129.733                          87\n",
      "winwood66             754               0.297082                        0\n",
      "aihawk1089            735               0.35102                         0\n",
      "WELTAREStrategies     711               0.361463                        0\n",
      "twimlai               674               0.964392                        0\n",
      "Michael_Spencer       608             455.339                         274\n",
      "Corsairs              580             742.781                         760\n",
      "deepaerodrones        563               8.11723                         0 \n",
      "\n",
      "count     279577\n",
      "unique     31317\n",
      "top       Synced\n",
      "freq        1477\n",
      "Name: username, dtype: object \n",
      "\n",
      "Missing values:  0\n",
      "Category                Freq    Mean_totalclapcount    Median_totalclapcount\n",
      "--------------------  ------  ---------------------  -----------------------\n",
      "Synced                  1477              88.4733                         60\n",
      "Yves Mulkers            1267               9.67877                         1\n",
      "Jae Duk Seo              778             129.733                          87\n",
      "C Gavilanes              754               0.297082                        0\n",
      "AI Hawk                  735               0.35102                         0\n",
      "WELTARE Strategies       711               0.361463                        0\n",
      "TWiML & AI               674               0.964392                        0\n",
      "Michael K. Spencer       608             455.339                         274\n",
      "Corsair's Publishing     580             742.781                         760\n",
      "DEEP AERO DRONES         563               8.11723                         0 \n",
      "\n",
      "count     279577\n",
      "unique     31021\n",
      "top       Synced\n",
      "freq        1477\n",
      "Name: author, dtype: object \n",
      "\n",
      "Missing values:  0\n"
     ]
    }
   ],
   "source": [
    "explore_categorical_value(train, 'username', rows=10, target='totalclapcount')  \n",
    "explore_categorical_value(train, 'author', rows=10, target='totalclapcount')  "
   ]
  },
  {
   "cell_type": "markdown",
   "metadata": {
    "colab_type": "text",
    "id": "rPweZML1LPeI"
   },
   "source": [
    "As we can see, there are only 37 of 225 authors from the test data included in the train data. But if we also look at how many articles with the same authors are contained in the test data, the situation looks different. Here 264 of 514 articles are included. Furthermore, we know that the feature \"Author\" in the testset contains a lot of wrong values. So if we clean up this feature and replace the wrong values with the right author, we can expect an even higher match rate."
   ]
  },
  {
   "cell_type": "code",
   "execution_count": 111,
   "metadata": {
    "colab": {
     "base_uri": "https://localhost:8080/",
     "height": 0
    },
    "colab_type": "code",
    "id": "JTCv3et5OAhV",
    "outputId": "a7d85832-01e3-487e-a688-8030239689a2"
   },
   "outputs": [
    {
     "name": "stdout",
     "output_type": "stream",
     "text": [
      "Number of common authors: 37 /225\n",
      "Number of articles with same authors: 264 /442\n"
     ]
    },
    {
     "data": {
      "text/html": [
       "<div>\n",
       "<style scoped>\n",
       "    .dataframe tbody tr th:only-of-type {\n",
       "        vertical-align: middle;\n",
       "    }\n",
       "\n",
       "    .dataframe tbody tr th {\n",
       "        vertical-align: top;\n",
       "    }\n",
       "\n",
       "    .dataframe thead th {\n",
       "        text-align: right;\n",
       "    }\n",
       "</style>\n",
       "<table border=\"1\" class=\"dataframe\">\n",
       "  <thead>\n",
       "    <tr style=\"text-align: right;\">\n",
       "      <th></th>\n",
       "      <th>Category</th>\n",
       "      <th>Freq_Test</th>\n",
       "      <th>Freq_Train</th>\n",
       "      <th>Mean</th>\n",
       "      <th>Median</th>\n",
       "    </tr>\n",
       "  </thead>\n",
       "  <tbody>\n",
       "    <tr>\n",
       "      <th>0</th>\n",
       "      <td>Netflix Technology Blog</td>\n",
       "      <td>175</td>\n",
       "      <td>68.0</td>\n",
       "      <td>4712.102941</td>\n",
       "      <td>1317.5</td>\n",
       "    </tr>\n",
       "    <tr>\n",
       "      <th>1</th>\n",
       "      <td>TE-FOOD</td>\n",
       "      <td>38</td>\n",
       "      <td>5.0</td>\n",
       "      <td>588.000000</td>\n",
       "      <td>588.0</td>\n",
       "    </tr>\n",
       "    <tr>\n",
       "      <th>2</th>\n",
       "      <td>Food Republic</td>\n",
       "      <td>7</td>\n",
       "      <td>NaN</td>\n",
       "      <td>NaN</td>\n",
       "      <td>NaN</td>\n",
       "    </tr>\n",
       "    <tr>\n",
       "      <th>3</th>\n",
       "      <td>Micki Seibel</td>\n",
       "      <td>5</td>\n",
       "      <td>NaN</td>\n",
       "      <td>NaN</td>\n",
       "      <td>NaN</td>\n",
       "    </tr>\n",
       "    <tr>\n",
       "      <th>4</th>\n",
       "      <td>Shannon Ashley</td>\n",
       "      <td>4</td>\n",
       "      <td>NaN</td>\n",
       "      <td>NaN</td>\n",
       "      <td>NaN</td>\n",
       "    </tr>\n",
       "    <tr>\n",
       "      <th>5</th>\n",
       "      <td>Mike Lee</td>\n",
       "      <td>4</td>\n",
       "      <td>NaN</td>\n",
       "      <td>NaN</td>\n",
       "      <td>NaN</td>\n",
       "    </tr>\n",
       "    <tr>\n",
       "      <th>6</th>\n",
       "      <td>Daniel Jeffries</td>\n",
       "      <td>4</td>\n",
       "      <td>33.0</td>\n",
       "      <td>11034.666667</td>\n",
       "      <td>5334.0</td>\n",
       "    </tr>\n",
       "    <tr>\n",
       "      <th>7</th>\n",
       "      <td>Zach J. Payne</td>\n",
       "      <td>4</td>\n",
       "      <td>NaN</td>\n",
       "      <td>NaN</td>\n",
       "      <td>NaN</td>\n",
       "    </tr>\n",
       "    <tr>\n",
       "      <th>8</th>\n",
       "      <td>Shaunta Grimes</td>\n",
       "      <td>3</td>\n",
       "      <td>NaN</td>\n",
       "      <td>NaN</td>\n",
       "      <td>NaN</td>\n",
       "    </tr>\n",
       "    <tr>\n",
       "      <th>9</th>\n",
       "      <td>OriginTrail</td>\n",
       "      <td>3</td>\n",
       "      <td>NaN</td>\n",
       "      <td>NaN</td>\n",
       "      <td>NaN</td>\n",
       "    </tr>\n",
       "  </tbody>\n",
       "</table>\n",
       "</div>"
      ],
      "text/plain": [
       "                  Category  Freq_Test  Freq_Train          Mean  Median\n",
       "0  Netflix Technology Blog        175        68.0   4712.102941  1317.5\n",
       "1                  TE-FOOD         38         5.0    588.000000   588.0\n",
       "2            Food Republic          7         NaN           NaN     NaN\n",
       "3             Micki Seibel          5         NaN           NaN     NaN\n",
       "4           Shannon Ashley          4         NaN           NaN     NaN\n",
       "5                 Mike Lee          4         NaN           NaN     NaN\n",
       "6          Daniel Jeffries          4        33.0  11034.666667  5334.0\n",
       "7            Zach J. Payne          4         NaN           NaN     NaN\n",
       "8           Shaunta Grimes          3         NaN           NaN     NaN\n",
       "9              OriginTrail          3         NaN           NaN     NaN"
      ]
     },
     "execution_count": 111,
     "metadata": {
      "tags": []
     },
     "output_type": "execute_result"
    }
   ],
   "source": [
    "author_test = explore_categorical_value(test, 'author', explore=False)  \n",
    "author_train = explore_categorical_value(train, 'author', target='totalclapcount', explore=False)  \n",
    "\n",
    "same_authors = pd.merge(author_test, author_train, on = \"Category\").rename(columns={\"Freq_x\": \"Freq_Test\", \"Freq_y\": \"Freq_Train\"})\n",
    "\n",
    "print(\"Number of common authors:\", len(same_authors), \"/225\")\n",
    "print(\"Number of articles with same authors:\", same_authors['Freq_Test'].sum(), \"/442\")\n",
    "\n",
    "common_authors = pd.merge(author_test, author_train, on = \"Category\", how = 'left').rename(columns={\"Freq_x\": \"Freq_Test\", \"Freq_y\": \"Freq_Train\"})\n",
    "common_authors.head(10)"
   ]
  },
  {
   "cell_type": "markdown",
   "metadata": {
    "colab_type": "text",
    "id": "ldCU85SJHRA9"
   },
   "source": [
    "#### Publication Name & Tags & Domain\n",
    "\n",
    "The publication name indicates the name of the publisher and has 142,346 missing values. With a frequency of more than 16,500, Towards Data Science is the publisher with the most articles. If we look at the articles without publication names, we see that the reason for the high number of missing values is that most likely not every author belongs to a publisher. It is also interesting to observe that the mean values and the median clap count of the publishers differ widely, which could be a good predictor for the target variable in addition to the authors.\n",
    "\n",
    "The characteristics \"publicationtags\" and \"publicationdomain\" are tags and the domains that belong to the publisher. It seems that the most frequent publishers are mostly associated with articles about artificial intelligence. Besides publicationanme, these features most likely do not have much predictive relevance and can be ignored."
   ]
  },
  {
   "cell_type": "code",
   "execution_count": 112,
   "metadata": {
    "colab": {
     "base_uri": "https://localhost:8080/",
     "height": 0
    },
    "colab_type": "code",
    "id": "m6amhh20HTE1",
    "outputId": "5cfcf967-5397-4476-92e7-bf6b5bc8fbb0"
   },
   "outputs": [
    {
     "name": "stdout",
     "output_type": "stream",
     "text": [
      "Category                                                                  Freq    Mean_totalclapcount    Median_totalclapcount\n",
      "----------------------------------------------------------------------  ------  ---------------------  -----------------------\n",
      "Towards Data Science                                                     16589               576.504                     172\n",
      "Hacker Noon                                                               5540               670.322                     122\n",
      "Becoming Human: Artificial Intelligence Magazine                          3086               182.158                      53\n",
      "Data Driven Investor                                                      2834                51.9266                     40\n",
      "Chatbots Life                                                             2041               106.463                      29\n",
      "Chatbots Magazine                                                         1439               136.27                       54\n",
      "SyncedReview                                                              1433                85.7669                     58\n",
      "Planeta Chatbot : todo sobre los Chatbots y la Inteligencia Artificial    1427                30.1787                      5\n",
      "The Startup                                                               1383               729.975                     180\n",
      "Good Audience                                                             1058               262.595                     122.5 \n",
      "\n",
      "count                   137231\n",
      "unique                    6507\n",
      "top       Towards Data Science\n",
      "freq                     16589\n",
      "Name: publicationname, dtype: object \n",
      "\n",
      "Missing values:  142346\n",
      "\n",
      "\n",
      "Category                                                                                    Freq    Mean_totalclapcount    Median_totalclapcount\n",
      "----------------------------------------------------------------------------------------  ------  ---------------------  -----------------------\n",
      "DATA SCIENCE,MACHINE LEARNING,ARTIFICIAL INTELLIGENCE,BIG DATA,ANALYTICS                   16589               576.504                     172\n",
      "HACKATHONS,HACKING,PROGRAMMING,TECH,HACKER                                                  5540               670.322                     122\n",
      "ARTIFICIAL INTELLIGENCE,DEEP LEARNING,MACHINE LEARNING,AI,DATA SCIENCE                      3114               181.053                      53\n",
      "CRYPTOCURRENCY,ARTIFICIAL INTELLIGENCE,BLOCKCHAIN,FINANCE AND BANKING,TECHNOLOGY            2834                51.9266                     40\n",
      "CHATBOTS,BOTS,ARTIFICIAL INTELLIGENCE,CONVERSATIONAL UI,MESSAGING                           2041               106.463                      29\n",
      "CHATBOTS,ARTIFICIAL INTELLIGENCE,BOTS,TECH,MESSAGING                                        1439               136.27                       54\n",
      "ARTIFICIAL INTELLIGENCE,MACHINE INTELLIGENCE,MACHINE LEARNING,ROBOTICS,SELF DRIVING CARS    1433                85.7669                     58\n",
      "CHATBOTS,ESPAÑOL,IA,INTELIGENCIA ARTIFICIAL,NLP                                             1427                30.1787                      5\n",
      "STARTUP,TECH,ENTREPRENEURSHIP,DESIGN,LIFE                                                   1383               729.975                     180\n",
      "CRYPTOCURRENCY,BLOCKCHAIN,ICO,ARTIFICIAL INTELLIGENCE,MACHINE LEARNING                      1058               262.595                     122.5 \n",
      "\n",
      "count                                                130298\n",
      "unique                                                 5697\n",
      "top       DATA SCIENCE,MACHINE LEARNING,ARTIFICIAL INTEL...\n",
      "freq                                                  16589\n",
      "Name: publicationtags, dtype: object \n",
      "\n",
      "Missing values:  149279\n",
      "\n",
      "\n",
      "Category                   Freq    Mean_totalclapcount    Median_totalclapcount\n",
      "-----------------------  ------  ---------------------  -----------------------\n",
      "towardsdatascience.com    16589               576.504                     172\n",
      "hackernoon.com             5540               670.322                     122\n",
      "becominghuman.ai           3086               182.158                      53\n",
      "chatbotslife.com           2041               106.463                      29\n",
      "chatbotsmagazine.com       1439               136.27                       54\n",
      "planetachatbot.com         1427                30.1787                      5\n",
      "blog.goodaudience.com      1058               262.595                     122.5\n",
      "medium.freecodecamp.org    1005              3634.02                      856\n",
      "buzzrobot.com               787                82.0915                     18\n",
      "heartbeat.fritz.ai          653               209.827                     107 \n",
      "\n",
      "count                      53972\n",
      "unique                      1062\n",
      "top       towardsdatascience.com\n",
      "freq                       16589\n",
      "Name: publicationdomain, dtype: object \n",
      "\n",
      "Missing values:  225605\n"
     ]
    }
   ],
   "source": [
    "explore_categorical_value(train, 'publicationname', rows=10, target='totalclapcount') \n",
    "print(\"\\n\")\n",
    "explore_categorical_value(train, 'publicationtags', rows=10, target='totalclapcount')  \n",
    "print(\"\\n\")\n",
    "explore_categorical_value(train, 'publicationdomain', rows=10, target='totalclapcount')   \n",
    "\n",
    " "
   ]
  },
  {
   "cell_type": "code",
   "execution_count": 113,
   "metadata": {
    "colab": {
     "base_uri": "https://localhost:8080/",
     "height": 0
    },
    "colab_type": "code",
    "id": "R7Zuhx0NNvJ8",
    "outputId": "dcfb7677-bd52-4e8e-c726-cb4c16cbfdeb"
   },
   "outputs": [
    {
     "data": {
      "text/html": [
       "<div>\n",
       "<style scoped>\n",
       "    .dataframe tbody tr th:only-of-type {\n",
       "        vertical-align: middle;\n",
       "    }\n",
       "\n",
       "    .dataframe tbody tr th {\n",
       "        vertical-align: top;\n",
       "    }\n",
       "\n",
       "    .dataframe thead th {\n",
       "        text-align: right;\n",
       "    }\n",
       "</style>\n",
       "<table border=\"1\" class=\"dataframe\">\n",
       "  <thead>\n",
       "    <tr style=\"text-align: right;\">\n",
       "      <th></th>\n",
       "      <th>audioversiondurationsec</th>\n",
       "      <th>codeblock</th>\n",
       "      <th>codeblockcount</th>\n",
       "      <th>collectionid</th>\n",
       "      <th>createddate</th>\n",
       "      <th>createddatetime</th>\n",
       "      <th>firstpublisheddate</th>\n",
       "      <th>...</th>\n",
       "      <th>author</th>\n",
       "      <th>bio</th>\n",
       "      <th>userid</th>\n",
       "      <th>username</th>\n",
       "      <th>usersfollowedbycount</th>\n",
       "      <th>usersfollowedcount</th>\n",
       "      <th>scrappeddate</th>\n",
       "    </tr>\n",
       "  </thead>\n",
       "  <tbody>\n",
       "    <tr>\n",
       "      <th>3</th>\n",
       "      <td>0</td>\n",
       "      <td>NaN</td>\n",
       "      <td>0.0</td>\n",
       "      <td>NaN</td>\n",
       "      <td>2018-01-07</td>\n",
       "      <td>2018-01-07 17:04:37</td>\n",
       "      <td>2018-01-07</td>\n",
       "      <td>...</td>\n",
       "      <td>George Sykes</td>\n",
       "      <td>NaN</td>\n",
       "      <td>93b9e94f08ca</td>\n",
       "      <td>tasty231</td>\n",
       "      <td>6.0</td>\n",
       "      <td>22.0</td>\n",
       "      <td>20181104</td>\n",
       "    </tr>\n",
       "    <tr>\n",
       "      <th>4</th>\n",
       "      <td>0</td>\n",
       "      <td>NaN</td>\n",
       "      <td>0.0</td>\n",
       "      <td>NaN</td>\n",
       "      <td>2018-01-07</td>\n",
       "      <td>2018-01-07 17:04:37</td>\n",
       "      <td>2018-01-07</td>\n",
       "      <td>...</td>\n",
       "      <td>George Sykes</td>\n",
       "      <td>NaN</td>\n",
       "      <td>93b9e94f08ca</td>\n",
       "      <td>tasty231</td>\n",
       "      <td>6.0</td>\n",
       "      <td>22.0</td>\n",
       "      <td>20181104</td>\n",
       "    </tr>\n",
       "    <tr>\n",
       "      <th>5</th>\n",
       "      <td>0</td>\n",
       "      <td>NaN</td>\n",
       "      <td>0.0</td>\n",
       "      <td>NaN</td>\n",
       "      <td>2018-01-07</td>\n",
       "      <td>2018-01-07 17:04:37</td>\n",
       "      <td>2018-01-07</td>\n",
       "      <td>...</td>\n",
       "      <td>George Sykes</td>\n",
       "      <td>NaN</td>\n",
       "      <td>93b9e94f08ca</td>\n",
       "      <td>tasty231</td>\n",
       "      <td>6.0</td>\n",
       "      <td>22.0</td>\n",
       "      <td>20181104</td>\n",
       "    </tr>\n",
       "    <tr>\n",
       "      <th>6</th>\n",
       "      <td>0</td>\n",
       "      <td>NaN</td>\n",
       "      <td>0.0</td>\n",
       "      <td>NaN</td>\n",
       "      <td>2018-01-07</td>\n",
       "      <td>2018-01-07 17:04:37</td>\n",
       "      <td>2018-01-07</td>\n",
       "      <td>...</td>\n",
       "      <td>George Sykes</td>\n",
       "      <td>NaN</td>\n",
       "      <td>93b9e94f08ca</td>\n",
       "      <td>tasty231</td>\n",
       "      <td>6.0</td>\n",
       "      <td>22.0</td>\n",
       "      <td>20181104</td>\n",
       "    </tr>\n",
       "    <tr>\n",
       "      <th>7</th>\n",
       "      <td>0</td>\n",
       "      <td>NaN</td>\n",
       "      <td>0.0</td>\n",
       "      <td>NaN</td>\n",
       "      <td>2018-03-08</td>\n",
       "      <td>2018-03-08 07:04:31</td>\n",
       "      <td>2018-03-08</td>\n",
       "      <td>...</td>\n",
       "      <td>tech data</td>\n",
       "      <td>Tech data Providing Courses Like SaS Training ...</td>\n",
       "      <td>60a3bfd83742</td>\n",
       "      <td>techdatasolutions18</td>\n",
       "      <td>4.0</td>\n",
       "      <td>1.0</td>\n",
       "      <td>20181104</td>\n",
       "    </tr>\n",
       "  </tbody>\n",
       "</table>\n",
       "<p>5 rows × 50 columns</p>\n",
       "</div>"
      ],
      "text/plain": [
       "   audioversiondurationsec codeblock  codeblockcount collectionid createddate  \\\n",
       "3                        0       NaN             0.0          NaN  2018-01-07   \n",
       "4                        0       NaN             0.0          NaN  2018-01-07   \n",
       "5                        0       NaN             0.0          NaN  2018-01-07   \n",
       "6                        0       NaN             0.0          NaN  2018-01-07   \n",
       "7                        0       NaN             0.0          NaN  2018-03-08   \n",
       "\n",
       "       createddatetime firstpublisheddate  ...        author  \\\n",
       "3  2018-01-07 17:04:37         2018-01-07  ...  George Sykes   \n",
       "4  2018-01-07 17:04:37         2018-01-07  ...  George Sykes   \n",
       "5  2018-01-07 17:04:37         2018-01-07  ...  George Sykes   \n",
       "6  2018-01-07 17:04:37         2018-01-07  ...  George Sykes   \n",
       "7  2018-03-08 07:04:31         2018-03-08  ...     tech data   \n",
       "\n",
       "                                                 bio        userid  \\\n",
       "3                                                NaN  93b9e94f08ca   \n",
       "4                                                NaN  93b9e94f08ca   \n",
       "5                                                NaN  93b9e94f08ca   \n",
       "6                                                NaN  93b9e94f08ca   \n",
       "7  Tech data Providing Courses Like SaS Training ...  60a3bfd83742   \n",
       "\n",
       "              username usersfollowedbycount usersfollowedcount  scrappeddate  \n",
       "3             tasty231                  6.0               22.0      20181104  \n",
       "4             tasty231                  6.0               22.0      20181104  \n",
       "5             tasty231                  6.0               22.0      20181104  \n",
       "6             tasty231                  6.0               22.0      20181104  \n",
       "7  techdatasolutions18                  4.0                1.0      20181104  \n",
       "\n",
       "[5 rows x 50 columns]"
      ]
     },
     "execution_count": 113,
     "metadata": {
      "tags": []
     },
     "output_type": "execute_result"
    }
   ],
   "source": [
    "train[train['publicationname'].isna()].head()"
   ]
  },
  {
   "cell_type": "markdown",
   "metadata": {
    "colab_type": "text",
    "id": "Fuo6ICMyzHbX"
   },
   "source": [
    "#### Date\n",
    "\n",
    "If we take a look at the train data, we notice that there are several different date features. The \"Creation Date\", \"First Release Date\", \"Last Release Date\" and \"Update Date\". All these dates have in turn another date with a date-time extension, which also contains the exact time. \n",
    "\n",
    "We can see that the earliest release date was 05/26/2015 and the latest was 11/04/2018 and that almost all articles in the train dataset were released between the 3rd quarter of 2017 and the 4th quarter of 2017.\n",
    "\n",
    "After carefully examining all dates, we can use the last_published_date and the scrape date to calculate the article age. The average age of all articles is only 20 days and the median is 184 days."
   ]
  },
  {
   "cell_type": "code",
   "execution_count": 114,
   "metadata": {
    "colab": {
     "base_uri": "https://localhost:8080/",
     "height": 0
    },
    "colab_type": "code",
    "id": "TIna8xVizePe",
    "outputId": "2d5987aa-b56e-452f-8950-fdf854c23439"
   },
   "outputs": [
    {
     "data": {
      "text/html": [
       "<div>\n",
       "<style scoped>\n",
       "    .dataframe tbody tr th:only-of-type {\n",
       "        vertical-align: middle;\n",
       "    }\n",
       "\n",
       "    .dataframe tbody tr th {\n",
       "        vertical-align: top;\n",
       "    }\n",
       "\n",
       "    .dataframe thead th {\n",
       "        text-align: right;\n",
       "    }\n",
       "</style>\n",
       "<table border=\"1\" class=\"dataframe\">\n",
       "  <thead>\n",
       "    <tr style=\"text-align: right;\">\n",
       "      <th></th>\n",
       "      <th>createddate</th>\n",
       "      <th>createddatetime</th>\n",
       "      <th>firstpublisheddate</th>\n",
       "      <th>firstpublisheddatetime</th>\n",
       "      <th>latestpublisheddate</th>\n",
       "      <th>latestpublisheddatetime</th>\n",
       "      <th>updateddate</th>\n",
       "      <th>updateddatetime</th>\n",
       "    </tr>\n",
       "  </thead>\n",
       "  <tbody>\n",
       "    <tr>\n",
       "      <th>0</th>\n",
       "      <td>2018-09-18</td>\n",
       "      <td>2018-09-18 20:55:34</td>\n",
       "      <td>2018-09-18</td>\n",
       "      <td>2018-09-18 20:57:03</td>\n",
       "      <td>2018-09-18</td>\n",
       "      <td>2018-09-18 20:58:20</td>\n",
       "      <td>2018-09-18</td>\n",
       "      <td>2018-09-18 20:58:20</td>\n",
       "    </tr>\n",
       "    <tr>\n",
       "      <th>1</th>\n",
       "      <td>2018-09-18</td>\n",
       "      <td>2018-09-18 20:55:34</td>\n",
       "      <td>2018-09-18</td>\n",
       "      <td>2018-09-18 20:57:03</td>\n",
       "      <td>2018-09-18</td>\n",
       "      <td>2018-09-18 20:58:20</td>\n",
       "      <td>2018-09-18</td>\n",
       "      <td>2018-09-18 20:58:20</td>\n",
       "    </tr>\n",
       "    <tr>\n",
       "      <th>2</th>\n",
       "      <td>2018-09-18</td>\n",
       "      <td>2018-09-18 20:55:34</td>\n",
       "      <td>2018-09-18</td>\n",
       "      <td>2018-09-18 20:57:03</td>\n",
       "      <td>2018-09-18</td>\n",
       "      <td>2018-09-18 20:58:20</td>\n",
       "      <td>2018-09-18</td>\n",
       "      <td>2018-09-18 20:58:20</td>\n",
       "    </tr>\n",
       "    <tr>\n",
       "      <th>3</th>\n",
       "      <td>2018-01-07</td>\n",
       "      <td>2018-01-07 17:04:37</td>\n",
       "      <td>2018-01-07</td>\n",
       "      <td>2018-01-07 17:06:29</td>\n",
       "      <td>2018-01-07</td>\n",
       "      <td>2018-01-07 17:18:38</td>\n",
       "      <td>2018-01-07</td>\n",
       "      <td>2018-01-07 17:18:39</td>\n",
       "    </tr>\n",
       "    <tr>\n",
       "      <th>4</th>\n",
       "      <td>2018-01-07</td>\n",
       "      <td>2018-01-07 17:04:37</td>\n",
       "      <td>2018-01-07</td>\n",
       "      <td>2018-01-07 17:06:29</td>\n",
       "      <td>2018-01-07</td>\n",
       "      <td>2018-01-07 17:18:38</td>\n",
       "      <td>2018-01-07</td>\n",
       "      <td>2018-01-07 17:18:39</td>\n",
       "    </tr>\n",
       "    <tr>\n",
       "      <th>...</th>\n",
       "      <td>...</td>\n",
       "      <td>...</td>\n",
       "      <td>...</td>\n",
       "      <td>...</td>\n",
       "      <td>...</td>\n",
       "      <td>...</td>\n",
       "      <td>...</td>\n",
       "      <td>...</td>\n",
       "    </tr>\n",
       "    <tr>\n",
       "      <th>279572</th>\n",
       "      <td>2018-03-21</td>\n",
       "      <td>2018-03-21 15:19:32</td>\n",
       "      <td>2018-03-21</td>\n",
       "      <td>2018-03-21 15:36:37</td>\n",
       "      <td>2018-03-21</td>\n",
       "      <td>2018-03-21 15:36:37</td>\n",
       "      <td>2018-06-20</td>\n",
       "      <td>2018-06-20 14:24:30</td>\n",
       "    </tr>\n",
       "    <tr>\n",
       "      <th>279573</th>\n",
       "      <td>2018-03-21</td>\n",
       "      <td>2018-03-21 15:19:32</td>\n",
       "      <td>2018-03-21</td>\n",
       "      <td>2018-03-21 15:36:37</td>\n",
       "      <td>2018-03-21</td>\n",
       "      <td>2018-03-21 15:36:37</td>\n",
       "      <td>2018-06-20</td>\n",
       "      <td>2018-06-20 14:24:30</td>\n",
       "    </tr>\n",
       "    <tr>\n",
       "      <th>279574</th>\n",
       "      <td>2018-03-21</td>\n",
       "      <td>2018-03-21 15:19:32</td>\n",
       "      <td>2018-03-21</td>\n",
       "      <td>2018-03-21 15:36:37</td>\n",
       "      <td>2018-03-21</td>\n",
       "      <td>2018-03-21 15:36:37</td>\n",
       "      <td>2018-06-20</td>\n",
       "      <td>2018-06-20 14:24:30</td>\n",
       "    </tr>\n",
       "    <tr>\n",
       "      <th>279575</th>\n",
       "      <td>2018-03-21</td>\n",
       "      <td>2018-03-21 15:19:32</td>\n",
       "      <td>2018-03-21</td>\n",
       "      <td>2018-03-21 15:36:37</td>\n",
       "      <td>2018-03-21</td>\n",
       "      <td>2018-03-21 15:36:37</td>\n",
       "      <td>2018-06-20</td>\n",
       "      <td>2018-06-20 14:24:30</td>\n",
       "    </tr>\n",
       "    <tr>\n",
       "      <th>279576</th>\n",
       "      <td>2018-03-21</td>\n",
       "      <td>2018-03-21 15:19:32</td>\n",
       "      <td>2018-03-21</td>\n",
       "      <td>2018-03-21 15:36:37</td>\n",
       "      <td>2018-03-21</td>\n",
       "      <td>2018-03-21 15:36:37</td>\n",
       "      <td>2018-06-20</td>\n",
       "      <td>2018-06-20 14:24:30</td>\n",
       "    </tr>\n",
       "  </tbody>\n",
       "</table>\n",
       "<p>279577 rows × 8 columns</p>\n",
       "</div>"
      ],
      "text/plain": [
       "       createddate      createddatetime firstpublisheddate  \\\n",
       "0       2018-09-18  2018-09-18 20:55:34         2018-09-18   \n",
       "1       2018-09-18  2018-09-18 20:55:34         2018-09-18   \n",
       "2       2018-09-18  2018-09-18 20:55:34         2018-09-18   \n",
       "3       2018-01-07  2018-01-07 17:04:37         2018-01-07   \n",
       "4       2018-01-07  2018-01-07 17:04:37         2018-01-07   \n",
       "...            ...                  ...                ...   \n",
       "279572  2018-03-21  2018-03-21 15:19:32         2018-03-21   \n",
       "279573  2018-03-21  2018-03-21 15:19:32         2018-03-21   \n",
       "279574  2018-03-21  2018-03-21 15:19:32         2018-03-21   \n",
       "279575  2018-03-21  2018-03-21 15:19:32         2018-03-21   \n",
       "279576  2018-03-21  2018-03-21 15:19:32         2018-03-21   \n",
       "\n",
       "       firstpublisheddatetime latestpublisheddate latestpublisheddatetime  \\\n",
       "0         2018-09-18 20:57:03          2018-09-18     2018-09-18 20:58:20   \n",
       "1         2018-09-18 20:57:03          2018-09-18     2018-09-18 20:58:20   \n",
       "2         2018-09-18 20:57:03          2018-09-18     2018-09-18 20:58:20   \n",
       "3         2018-01-07 17:06:29          2018-01-07     2018-01-07 17:18:38   \n",
       "4         2018-01-07 17:06:29          2018-01-07     2018-01-07 17:18:38   \n",
       "...                       ...                 ...                     ...   \n",
       "279572    2018-03-21 15:36:37          2018-03-21     2018-03-21 15:36:37   \n",
       "279573    2018-03-21 15:36:37          2018-03-21     2018-03-21 15:36:37   \n",
       "279574    2018-03-21 15:36:37          2018-03-21     2018-03-21 15:36:37   \n",
       "279575    2018-03-21 15:36:37          2018-03-21     2018-03-21 15:36:37   \n",
       "279576    2018-03-21 15:36:37          2018-03-21     2018-03-21 15:36:37   \n",
       "\n",
       "       updateddate      updateddatetime  \n",
       "0       2018-09-18  2018-09-18 20:58:20  \n",
       "1       2018-09-18  2018-09-18 20:58:20  \n",
       "2       2018-09-18  2018-09-18 20:58:20  \n",
       "3       2018-01-07  2018-01-07 17:18:39  \n",
       "4       2018-01-07  2018-01-07 17:18:39  \n",
       "...            ...                  ...  \n",
       "279572  2018-06-20  2018-06-20 14:24:30  \n",
       "279573  2018-06-20  2018-06-20 14:24:30  \n",
       "279574  2018-06-20  2018-06-20 14:24:30  \n",
       "279575  2018-06-20  2018-06-20 14:24:30  \n",
       "279576  2018-06-20  2018-06-20 14:24:30  \n",
       "\n",
       "[279577 rows x 8 columns]"
      ]
     },
     "execution_count": 114,
     "metadata": {
      "tags": []
     },
     "output_type": "execute_result"
    }
   ],
   "source": [
    "train[['createddate', 'createddatetime', 'firstpublisheddate', 'firstpublisheddatetime', 'latestpublisheddate', 'latestpublisheddatetime', 'updateddate', 'updateddatetime']]           "
   ]
  },
  {
   "cell_type": "code",
   "execution_count": 115,
   "metadata": {
    "colab": {},
    "colab_type": "code",
    "id": "aX2uzCSO12gR"
   },
   "outputs": [],
   "source": [
    "train['createddate'] = pd.to_datetime(train['createddate'])\n",
    "train['updateddate'] = pd.to_datetime(train['updateddate'])\n",
    "train['firstpublisheddate'] = pd.to_datetime(train['firstpublisheddate'])\n",
    "train['latestpublisheddate'] = pd.to_datetime(train['latestpublisheddate'])\n",
    "train['create_firstpublished_diff'] = (train['firstpublisheddate'] - train['createddate']).dt.days\n",
    "train['create_lastpublished_diff'] = (train['latestpublisheddate'] - train['createddate']).dt.days\n",
    "train['latestpublished_update_diff'] = (train['updateddate'] - train['latestpublisheddate']).dt.days\n",
    "train = train.rename(columns={\"latestpublisheddate\": \"published_date\", \"create_lastpublished_diff\": \"diff_days_create\", \"latestpublished_update_diff\": \"diff_days_update\"})"
   ]
  },
  {
   "cell_type": "code",
   "execution_count": 116,
   "metadata": {
    "colab": {
     "base_uri": "https://localhost:8080/",
     "height": 0
    },
    "colab_type": "code",
    "id": "hpZOT-pzAstd",
    "outputId": "f66684e3-834a-4aa7-b06d-b26ef5c6e1c7"
   },
   "outputs": [
    {
     "name": "stdout",
     "output_type": "stream",
     "text": [
      "count      279577.0\n",
      "mean     20181104.0\n",
      "std             0.0\n",
      "min      20181104.0\n",
      "25%      20181104.0\n",
      "50%      20181104.0\n",
      "75%      20181104.0\n",
      "max      20181104.0\n",
      "Name: scrappeddate, dtype: float64\n",
      "Latest publication date: 2018-11-04 00:00:00\n",
      "Latest update date: 2018-11-04 00:00:00\n"
     ]
    }
   ],
   "source": [
    "print(train['scrappeddate'].describe())\n",
    "print(\"Latest publication date: \" + str(max(train['published_date'])))\n",
    "print(\"Latest update date: \" + str(max(train['updateddate'])))\n",
    "train['article_age'] = (max(train['published_date']) - (train['published_date'])).dt.days"
   ]
  },
  {
   "cell_type": "code",
   "execution_count": 117,
   "metadata": {
    "colab": {
     "base_uri": "https://localhost:8080/",
     "height": 0
    },
    "colab_type": "code",
    "id": "xYTpbm3pZ7Fm",
    "outputId": "e64135be-b27f-4b6d-fead-3bcb269a45c9"
   },
   "outputs": [
    {
     "name": "stdout",
     "output_type": "stream",
     "text": [
      "Earliest publication date: 2015-05-26 00:00:00\n",
      "Last publication date: 2018-11-04 00:00:00\n"
     ]
    },
    {
     "data": {
      "text/plain": [
       "<matplotlib.axes._subplots.AxesSubplot at 0x7f05e778d748>"
      ]
     },
     "execution_count": 117,
     "metadata": {
      "tags": []
     },
     "output_type": "execute_result"
    },
    {
     "data": {
      "image/png": "[encoded data removed]",
      "text/plain": [
       "<Figure size 432x288 with 1 Axes>"
      ]
     },
     "metadata": {
      "needs_background": "light",
      "tags": []
     },
     "output_type": "display_data"
    }
   ],
   "source": [
    "print(\"Earliest publication date: \" + str(min(train['published_date'])))\n",
    "print(\"Last publication date: \" + str(max(train['published_date'])))\n",
    "\n",
    "train[[\"published_date\"]].groupby([train[\"published_date\"].dt.year, \n",
    "train[\"published_date\"].dt.quarter]).count().plot(kind=\"bar\")"
   ]
  },
  {
   "cell_type": "code",
   "execution_count": 118,
   "metadata": {
    "colab": {
     "base_uri": "https://localhost:8080/",
     "height": 0
    },
    "colab_type": "code",
    "id": "53Dl3AzbSkMg",
    "outputId": "1f191459-9c04-4b66-c1c8-504de63d9f32"
   },
   "outputs": [
    {
     "name": "stdout",
     "output_type": "stream",
     "text": [
      "count    279577.000000\n",
      "mean        198.210929\n",
      "std         114.872660\n",
      "min           0.000000\n",
      "25%         101.000000\n",
      "50%         184.000000\n",
      "75%         286.000000\n",
      "max        1258.000000\n",
      "Name: article_age, dtype: float64 \n",
      "\n",
      "Missing values:  0 \n",
      "\n",
      "Pearsons correlation: -0.004 \n",
      "\n"
     ]
    },
    {
     "data": {
      "image/png": "[encoded data removed]",
      "text/plain": [
       "<Figure size 1800x360 with 5 Axes>"
      ]
     },
     "metadata": {
      "needs_background": "light",
      "tags": []
     },
     "output_type": "display_data"
    }
   ],
   "source": [
    "explore_numerical_value(train['article_age'], target=train['totalclapcount'])"
   ]
  },
  {
   "cell_type": "markdown",
   "metadata": {
    "colab_type": "text",
    "id": "VEmz_3InZ8FW"
   },
   "source": [
    "#### Language\n",
    "\n",
    "By far the most common language in the train data is English. There are a total of 52 different languages, which also differ significantly in the mean and median clap count. Therefore the language could also be a good predictor for our target. However, since we do not have a language feature for the test set, it may be necessary to first predict all languages of the articles in the test data to make use of this feature."
   ]
  },
  {
   "cell_type": "code",
   "execution_count": 119,
   "metadata": {
    "colab": {
     "base_uri": "https://localhost:8080/",
     "height": 0
    },
    "colab_type": "code",
    "id": "qNiG1A4Sflgm",
    "outputId": "04f008ff-cd63-4986-9c87-eb67edb09bd8"
   },
   "outputs": [
    {
     "name": "stdout",
     "output_type": "stream",
     "text": [
      "Category      Freq    Mean_totalclapcount    Median_totalclapcount\n",
      "----------  ------  ---------------------  -----------------------\n",
      "en          257655               196.535                         9\n",
      "es            3714                20.7135                        2\n",
      "pt            3518                51.2032                        6\n",
      "zh-Hant       2703               117.503                         7\n",
      "fr            2035                27.3651                        3\n",
      "tr            1558                73.9628                        5\n",
      "ru            1220                86.6205                        4\n",
      "th            1217                51.0781                       14\n",
      "ja            1035                18.8512                        1\n",
      "it             851                22.859                         3 \n",
      "\n",
      "count     279577\n",
      "unique        52\n",
      "top           en\n",
      "freq      257655\n",
      "Name: language, dtype: object \n",
      "\n",
      "Missing values:  0\n"
     ]
    }
   ],
   "source": [
    "explore_categorical_value(train, 'language', rows=10, target='totalclapcount')  "
   ]
  },
  {
   "cell_type": "markdown",
   "metadata": {
    "colab_type": "text",
    "id": "x-terHxCHLWH"
   },
   "source": [
    "#### Unique identifier for posts\n",
    "\n",
    "In order to be able to remove the duplicates correctly without losing important information, we must first find a feature that must be unique for each article.  For this purpose, url and postid seem to be good features, because they have no missing values and especially the url seems appropriate for this purpose, because every article will have their unique url. If we take a look at the most common url, we can see that the values of all features are the same, except for the feature \"tag_name\", which indicates that the duplicates originate from different tag names."
   ]
  },
  {
   "cell_type": "code",
   "execution_count": 120,
   "metadata": {
    "colab": {
     "base_uri": "https://localhost:8080/",
     "height": 0
    },
    "colab_type": "code",
    "id": "VffykjnlHKVc",
    "outputId": "525d5fc3-439f-4fed-fd06-2edb5110b568"
   },
   "outputs": [
    {
     "name": "stdout",
     "output_type": "stream",
     "text": [
      "Category        Freq    Mean_totalclapcount    Median_totalclapcount\n",
      "------------  ------  ---------------------  -----------------------\n",
      "7f60cf5620c9   16589               576.504                     172\n",
      "3a8144eabfe3    5540               670.322                     122\n",
      "5e5bef33608a    3086               182.158                      53\n",
      "32881626c9c9    2834                51.9266                     40\n",
      "a49517e4c30b    2041               106.463                      29\n",
      "d6dc2c824f17    1439               136.27                       54\n",
      "863f502aede2    1433                85.7669                     58\n",
      "ef0ea5f8686c    1427                30.1787                      5\n",
      "f5af2b715248    1383               729.975                     180\n",
      "cb942d4b5d89    1058               262.595                     122.5 \n",
      "\n",
      "count           137878\n",
      "unique            6527\n",
      "top       7f60cf5620c9\n",
      "freq             16589\n",
      "Name: collectionid, dtype: object \n",
      "\n",
      "Missing values:  141699\n",
      "Category        Freq    Mean_totalclapcount    Median_totalclapcount\n",
      "------------  ------  ---------------------  -----------------------\n",
      "c3d8b6551bbe       6                      0                        0\n",
      "5075c17c66a2       5                      1                        1\n",
      "bb404274799c       5                      0                        0\n",
      "5f3c6b20e61        5                     13                       13\n",
      "5f3b1169b34        5                      0                        0\n",
      "5f3a9f5026fe       5                      0                        0\n",
      "bb4260713a6b       5                      3                        3\n",
      "bb435f75c4ce       5                      0                        0\n",
      "bb43c10dfbb8       5                     67                       67\n",
      "5f35251437ae       5                      0                        0 \n",
      "\n",
      "count           279577\n",
      "unique           72337\n",
      "top       c3d8b6551bbe\n",
      "freq                 6\n",
      "Name: postid, dtype: object \n",
      "\n",
      "Missing values:  0\n",
      "Category                                                                                        Freq    Mean_totalclapcount    Median_totalclapcount\n",
      "--------------------------------------------------------------------------------------------  ------  ---------------------  -----------------------\n",
      "https://medium.com/s/story/análise-de-dados-docentes-na-usp-c3d8b6551bbe                           6                      0                        0\n",
      "https://36chapters.com/economics-my-stomach-76b39d3807e6                                           5                     27                       27\n",
      "https://medium.com/s/story/superpowered-sequences-a009ccc1ae43                                     5                    191                      191\n",
      "https://medium.com/s/story/supercharge-your-spoofing-surveillance-with-tt-score-86f45d07939f       5                      0                        0\n",
      "https://medium.com/s/story/deep-learning-on-amazon-web-services-c7be853bfa8f                       5                     14                       14 \n",
      "\n",
      "count                                                279577\n",
      "unique                                                72337\n",
      "top       https://medium.com/s/story/análise-de-dados-do...\n",
      "freq                                                      6\n",
      "Name: url, dtype: object \n",
      "\n",
      "Missing values:  0\n"
     ]
    }
   ],
   "source": [
    "explore_categorical_value(train, 'collectionid', rows=10, target='totalclapcount')  \n",
    "explore_categorical_value(train, 'postid', rows=10, target='totalclapcount')\n",
    "explore_categorical_value(train, 'url', rows=5, target='totalclapcount')"
   ]
  },
  {
   "cell_type": "code",
   "execution_count": 121,
   "metadata": {
    "colab": {
     "base_uri": "https://localhost:8080/",
     "height": 0
    },
    "colab_type": "code",
    "id": "usLOgQliHhyI",
    "outputId": "462f889f-13b3-4d48-ece7-fd05672bc4ff"
   },
   "outputs": [
    {
     "data": {
      "text/html": [
       "<div>\n",
       "<style scoped>\n",
       "    .dataframe tbody tr th:only-of-type {\n",
       "        vertical-align: middle;\n",
       "    }\n",
       "\n",
       "    .dataframe tbody tr th {\n",
       "        vertical-align: top;\n",
       "    }\n",
       "\n",
       "    .dataframe thead th {\n",
       "        text-align: right;\n",
       "    }\n",
       "</style>\n",
       "<table border=\"1\" class=\"dataframe\">\n",
       "  <thead>\n",
       "    <tr style=\"text-align: right;\">\n",
       "      <th></th>\n",
       "      <th>audioversiondurationsec</th>\n",
       "      <th>codeblock</th>\n",
       "      <th>codeblockcount</th>\n",
       "      <th>collectionid</th>\n",
       "      <th>createddate</th>\n",
       "      <th>createddatetime</th>\n",
       "      <th>firstpublisheddate</th>\n",
       "      <th>...</th>\n",
       "      <th>usersfollowedbycount</th>\n",
       "      <th>usersfollowedcount</th>\n",
       "      <th>scrappeddate</th>\n",
       "      <th>create_firstpublished_diff</th>\n",
       "      <th>diff_days_create</th>\n",
       "      <th>diff_days_update</th>\n",
       "      <th>article_age</th>\n",
       "    </tr>\n",
       "  </thead>\n",
       "  <tbody>\n",
       "    <tr>\n",
       "      <th>170290</th>\n",
       "      <td>0</td>\n",
       "      <td>NaN</td>\n",
       "      <td>0.0</td>\n",
       "      <td>NaN</td>\n",
       "      <td>2017-12-08</td>\n",
       "      <td>2017-12-08 12:54:22</td>\n",
       "      <td>2017-12-12</td>\n",
       "      <td>...</td>\n",
       "      <td>5.0</td>\n",
       "      <td>3.0</td>\n",
       "      <td>20181104</td>\n",
       "      <td>4</td>\n",
       "      <td>47</td>\n",
       "      <td>0</td>\n",
       "      <td>284</td>\n",
       "    </tr>\n",
       "    <tr>\n",
       "      <th>170291</th>\n",
       "      <td>0</td>\n",
       "      <td>NaN</td>\n",
       "      <td>0.0</td>\n",
       "      <td>NaN</td>\n",
       "      <td>2017-12-08</td>\n",
       "      <td>2017-12-08 12:54:22</td>\n",
       "      <td>2017-12-12</td>\n",
       "      <td>...</td>\n",
       "      <td>5.0</td>\n",
       "      <td>3.0</td>\n",
       "      <td>20181104</td>\n",
       "      <td>4</td>\n",
       "      <td>47</td>\n",
       "      <td>0</td>\n",
       "      <td>284</td>\n",
       "    </tr>\n",
       "    <tr>\n",
       "      <th>170292</th>\n",
       "      <td>0</td>\n",
       "      <td>NaN</td>\n",
       "      <td>0.0</td>\n",
       "      <td>NaN</td>\n",
       "      <td>2017-12-08</td>\n",
       "      <td>2017-12-08 12:54:22</td>\n",
       "      <td>2017-12-12</td>\n",
       "      <td>...</td>\n",
       "      <td>5.0</td>\n",
       "      <td>3.0</td>\n",
       "      <td>20181104</td>\n",
       "      <td>4</td>\n",
       "      <td>47</td>\n",
       "      <td>0</td>\n",
       "      <td>284</td>\n",
       "    </tr>\n",
       "    <tr>\n",
       "      <th>170293</th>\n",
       "      <td>0</td>\n",
       "      <td>NaN</td>\n",
       "      <td>0.0</td>\n",
       "      <td>NaN</td>\n",
       "      <td>2017-12-08</td>\n",
       "      <td>2017-12-08 12:54:22</td>\n",
       "      <td>2017-12-12</td>\n",
       "      <td>...</td>\n",
       "      <td>5.0</td>\n",
       "      <td>3.0</td>\n",
       "      <td>20181104</td>\n",
       "      <td>4</td>\n",
       "      <td>47</td>\n",
       "      <td>0</td>\n",
       "      <td>284</td>\n",
       "    </tr>\n",
       "    <tr>\n",
       "      <th>170294</th>\n",
       "      <td>0</td>\n",
       "      <td>NaN</td>\n",
       "      <td>0.0</td>\n",
       "      <td>NaN</td>\n",
       "      <td>2017-12-08</td>\n",
       "      <td>2017-12-08 12:54:22</td>\n",
       "      <td>2017-12-12</td>\n",
       "      <td>...</td>\n",
       "      <td>5.0</td>\n",
       "      <td>3.0</td>\n",
       "      <td>20181104</td>\n",
       "      <td>4</td>\n",
       "      <td>47</td>\n",
       "      <td>0</td>\n",
       "      <td>284</td>\n",
       "    </tr>\n",
       "    <tr>\n",
       "      <th>170295</th>\n",
       "      <td>0</td>\n",
       "      <td>NaN</td>\n",
       "      <td>0.0</td>\n",
       "      <td>NaN</td>\n",
       "      <td>2017-12-08</td>\n",
       "      <td>2017-12-08 12:54:22</td>\n",
       "      <td>2017-12-12</td>\n",
       "      <td>...</td>\n",
       "      <td>5.0</td>\n",
       "      <td>3.0</td>\n",
       "      <td>20181104</td>\n",
       "      <td>4</td>\n",
       "      <td>47</td>\n",
       "      <td>0</td>\n",
       "      <td>284</td>\n",
       "    </tr>\n",
       "  </tbody>\n",
       "</table>\n",
       "<p>6 rows × 54 columns</p>\n",
       "</div>"
      ],
      "text/plain": [
       "        audioversiondurationsec codeblock  codeblockcount collectionid  \\\n",
       "170290                        0       NaN             0.0          NaN   \n",
       "170291                        0       NaN             0.0          NaN   \n",
       "170292                        0       NaN             0.0          NaN   \n",
       "170293                        0       NaN             0.0          NaN   \n",
       "170294                        0       NaN             0.0          NaN   \n",
       "170295                        0       NaN             0.0          NaN   \n",
       "\n",
       "       createddate      createddatetime firstpublisheddate  ...  \\\n",
       "170290  2017-12-08  2017-12-08 12:54:22         2017-12-12  ...   \n",
       "170291  2017-12-08  2017-12-08 12:54:22         2017-12-12  ...   \n",
       "170292  2017-12-08  2017-12-08 12:54:22         2017-12-12  ...   \n",
       "170293  2017-12-08  2017-12-08 12:54:22         2017-12-12  ...   \n",
       "170294  2017-12-08  2017-12-08 12:54:22         2017-12-12  ...   \n",
       "170295  2017-12-08  2017-12-08 12:54:22         2017-12-12  ...   \n",
       "\n",
       "       usersfollowedbycount  usersfollowedcount  scrappeddate  \\\n",
       "170290                  5.0                 3.0      20181104   \n",
       "170291                  5.0                 3.0      20181104   \n",
       "170292                  5.0                 3.0      20181104   \n",
       "170293                  5.0                 3.0      20181104   \n",
       "170294                  5.0                 3.0      20181104   \n",
       "170295                  5.0                 3.0      20181104   \n",
       "\n",
       "       create_firstpublished_diff diff_days_create diff_days_update  \\\n",
       "170290                          4               47                0   \n",
       "170291                          4               47                0   \n",
       "170292                          4               47                0   \n",
       "170293                          4               47                0   \n",
       "170294                          4               47                0   \n",
       "170295                          4               47                0   \n",
       "\n",
       "        article_age  \n",
       "170290          284  \n",
       "170291          284  \n",
       "170292          284  \n",
       "170293          284  \n",
       "170294          284  \n",
       "170295          284  \n",
       "\n",
       "[6 rows x 54 columns]"
      ]
     },
     "execution_count": 121,
     "metadata": {
      "tags": []
     },
     "output_type": "execute_result"
    }
   ],
   "source": [
    "train[train['url'] == 'https://medium.com/s/story/análise-de-dados-docentes-na-usp-c3d8b6551bbe']"
   ]
  },
  {
   "cell_type": "markdown",
   "metadata": {
    "colab_type": "text",
    "id": "pKi0117GY7ME"
   },
   "source": [
    "#### Tag Name\n",
    "\n",
    "Now let's have a look at the \"tag_name\" feature. Since there are no missing values, this implies that every article has at least one tag. There are more than 190,000 unique tags and the most common tag is \"artificial intelligence\". The average and the number of median claps varies and ranges from a median of 3 to 32 among the 10 most common tags. This indicates that the tag_names may have some potential for better predicting the target feature.\n",
    "\n",
    "Although we do not have the tag_name feature in the test data set, we could filter the text for the tag names or try to use text classification to predict the tag labels. However, since there are more than 190,000 unique tags and each article can contain several different tags, it is unlikely that the accuracy of such a model based solely on text data would be high enough to be of great value for this project."
   ]
  },
  {
   "cell_type": "code",
   "execution_count": 122,
   "metadata": {
    "colab": {
     "base_uri": "https://localhost:8080/",
     "height": 0
    },
    "colab_type": "code",
    "id": "eWYdY_itY6If",
    "outputId": "b5f5f4c5-28c0-4ae7-9f6e-01e23f5ed724"
   },
   "outputs": [
    {
     "name": "stdout",
     "output_type": "stream",
     "text": [
      "Category                   Freq    Mean_totalclapcount    Median_totalclapcount\n",
      "-----------------------  ------  ---------------------  -----------------------\n",
      "Artificial Intelligence   34473               134.36                          5\n",
      "Machine Learning          29416               171.873                        11\n",
      "Data Science              18276               180.394                        10\n",
      "Deep Learning              6603               274.052                        32\n",
      "Technology                 6450               223.916                        10\n",
      "Blockchain                 5100               229.442                        32\n",
      "Python                     3413               259.992                        22\n",
      "Big Data                   2974               103.44                          3\n",
      "Chatbots                   2801                92.4256                       11\n",
      "Tech                       2700               445.638                        10 \n",
      "\n",
      "count                      279577\n",
      "unique                      19278\n",
      "top       Artificial Intelligence\n",
      "freq                        34473\n",
      "Name: tag_name, dtype: object \n",
      "\n",
      "Missing values:  0\n"
     ]
    }
   ],
   "source": [
    "explore_categorical_value(train, 'tag_name', rows=10, target='totalclapcount')  "
   ]
  },
  {
   "cell_type": "markdown",
   "metadata": {
    "colab_type": "text",
    "id": "alEhpbsdaMou"
   },
   "source": [
    "## Feature Engineering"
   ]
  },
  {
   "cell_type": "markdown",
   "metadata": {
    "colab_type": "text",
    "id": "2Tykg2tE4h0K"
   },
   "source": [
    "After we have gained deep insights into the two data sets and fully understood each important feature, we can now proceed with the creation of new features. The main goal in this process is to obtain new features from the test dataset that are present int the train dataset. "
   ]
  },
  {
   "cell_type": "markdown",
   "metadata": {
    "colab_type": "text",
    "id": "zkj_75QZ4ACx"
   },
   "source": [
    "### Test Data"
   ]
  },
  {
   "cell_type": "markdown",
   "metadata": {
    "colab_type": "text",
    "id": "VsquwRZRD7bH"
   },
   "source": [
    "#### Author, Publisher, Publish Date\n",
    "\n",
    "Let's start by dividing the feature \"publicationsdetails\" into author, publisher and publication date. We can do this by first searching for a date in the string using a simple regex. In case the date does not include a year, we will set the year \"2000\" as a placeholder for the time being. \n",
    "We already know that author and publisher are always separated by an 'in', so we can simply split the remaining string and store the first part as author variable and the second part as publisher name. \n",
    "Because the original \"author\" feature contains many wrong values such as dates, we will replace it with the \"author\" feature extracted from this string.\n",
    "\n"
   ]
  },
  {
   "cell_type": "code",
   "execution_count": 123,
   "metadata": {
    "colab": {},
    "colab_type": "code",
    "id": "sq4BsJZLrQZV"
   },
   "outputs": [],
   "source": [
    "def extract_publicationdetails(row):\n",
    "  \"\"\" extracts the date, author and publisher from string by using regex \"\"\"\n",
    "  \n",
    "  pdetails = row['publicationdetails']\n",
    "  date_found = re.search(r'[A-Z][a-z]{1,2}\\s\\d{1,2}.{0,6}$', pdetails)[0] #date regex\n",
    "  \n",
    "  if ' in ' in pdetails:\n",
    "    author = re.search(r'^.*(?=\\sin\\s)', pdetails)[0] #search for 'in'\n",
    "  else:\n",
    "    author = re.sub(date_found + '$', '', pdetails)\n",
    "  \n",
    "  #get the publisher by removing the date, author and 'in' from string\n",
    "  publication = re.sub(date_found + '$', '', pdetails) \n",
    "  publication = re.sub('^' + author, '', publication)\n",
    "  publication = publication.lstrip(' in ')\n",
    "\n",
    "  if not re.match(r'.*\\d{4}$', date_found):\n",
    "    date_found = date_found + ', 2000' #set year = 2000 if year is missing\n",
    "\n",
    "  return pd.Series([author, date_found, publication])\n",
    "\n",
    "pub_details_split = test.apply(lambda row: extract_publicationdetails(row), axis=1)\n",
    "pub_details_split.columns=['author', 'publish_date', 'publicationname']\n",
    "\n",
    "test['author'] = pub_details_split['author']\n",
    "test['publish_date'] = pub_details_split['publish_date']\n",
    "test['publicationname'] = pub_details_split['publicationname']\n",
    "test['publish_date'] = pd.to_datetime(test['publish_date'])\n",
    "\n"
   ]
  },
  {
   "cell_type": "markdown",
   "metadata": {
    "colab_type": "text",
    "id": "fmoeduOZx55D"
   },
   "source": [
    "#### Article Age\n",
    "\n",
    "Now that we have extracted the publication date, we can calculate how old the article is. But first let's have a look at the distribution of the dates. For better illustration, we will group them by quarters.  As we can see in the graph below, the distribution is right-skewed, which means that we have many new articles and only a few old articles. The articles with the year 2000 on the left side of the graph were articles with data that did not contain a year. So we need to replace them with a more appropriate year first. Since most of the articles are from the year 2018, we will simply replace the articles with a missing year with this year. "
   ]
  },
  {
   "cell_type": "code",
   "execution_count": 124,
   "metadata": {
    "colab": {
     "base_uri": "https://localhost:8080/",
     "height": 368
    },
    "colab_type": "code",
    "id": "L6GtZWEZpuIl",
    "outputId": "bf6b4b0b-599a-449a-bee3-1447e2a31e5d"
   },
   "outputs": [
    {
     "name": "stdout",
     "output_type": "stream",
     "text": [
      "Earliest publication date: 2000-01-03 00:00:00\n",
      "Last publication date: 2018-12-28 00:00:00\n"
     ]
    },
    {
     "data": {
      "text/plain": [
       "<matplotlib.axes._subplots.AxesSubplot at 0x7f05e4d816d8>"
      ]
     },
     "execution_count": 124,
     "metadata": {
      "tags": []
     },
     "output_type": "execute_result"
    },
    {
     "data": {
      "image/png": "[encoded data removed]",
      "text/plain": [
       "<Figure size 432x288 with 1 Axes>"
      ]
     },
     "metadata": {
      "needs_background": "light",
      "tags": []
     },
     "output_type": "display_data"
    }
   ],
   "source": [
    "print(\"Earliest publication date: \" + str(min(test['publish_date'])))\n",
    "print(\"Last publication date: \" + str(max(test['publish_date'])))\n",
    "\n",
    "test[[\"publish_date\"]].groupby([test[\"publish_date\"].dt.year, \n",
    "test[\"publish_date\"].dt.quarter]).count().plot(kind=\"bar\")"
   ]
  },
  {
   "cell_type": "code",
   "execution_count": 125,
   "metadata": {
    "colab": {
     "base_uri": "https://localhost:8080/",
     "height": 51
    },
    "colab_type": "code",
    "id": "FrMW-gQCdmVg",
    "outputId": "05964d10-8bd3-4ca1-e481-5e742b4a84ca"
   },
   "outputs": [
    {
     "name": "stderr",
     "output_type": "stream",
     "text": [
      "/usr/local/lib/python3.6/dist-packages/pandas/core/arrays/datetimes.py:694: PerformanceWarning: Non-vectorized DateOffset being applied to Series or DatetimeIndex\n",
      "  PerformanceWarning,\n"
     ]
    }
   ],
   "source": [
    "test['publish_date'] = test['publish_date'].mask(test['publish_date'].dt.year == 2000, test['publish_date'] + pd.offsets.DateOffset(year=2018))"
   ]
  },
  {
   "cell_type": "markdown",
   "metadata": {
    "colab_type": "text",
    "id": "h4iOL-teKLSY"
   },
   "source": [
    "Now we can calculate the age of the articles. It is important to use the scraping date and not the current date when calculating the age, because the number of claps of each article can change with each day. If we assume that the age of the article could be a good predictor, this would lead to a bad prediction if we do not use the scraped date. Unfortunately, we don't know when the articles were scraped, so we'll just assume that the last date of all articles is the scraped date. \n",
    "\n",
    "\n",
    "\n"
   ]
  },
  {
   "cell_type": "code",
   "execution_count": 126,
   "metadata": {
    "colab": {
     "base_uri": "https://localhost:8080/",
     "height": 34
    },
    "colab_type": "code",
    "id": "_LRcqBPLKKoc",
    "outputId": "ad1bd20f-e3a1-41a5-82b8-ba639cdcfd66"
   },
   "outputs": [
    {
     "name": "stdout",
     "output_type": "stream",
     "text": [
      "Estimated scrape date:  2018-12-28 00:00:00\n"
     ]
    }
   ],
   "source": [
    "print(\"Estimated scrape date: \", max(test['publish_date']))\n",
    "test['article_age'] = (max(test['publish_date']) - (test['publish_date'])).dt.days"
   ]
  },
  {
   "cell_type": "markdown",
   "metadata": {
    "colab_type": "text",
    "id": "X_fQck5z4ks6"
   },
   "source": [
    "#### Image, Link Count\n",
    "\n",
    "While the number of links and images has a relatively low correlation with the target variable, it may be still worth incorporating them into the model. \n",
    "The number of images and links is not found as features in the test data, but we can extract them from the text using regular expressions. \n",
    "For the number of images, we look for \"img\" tags in the text, and for the number of links, we look for a special regular expression that takes into account all possible patterns an url can have, such as \"www\" or \"http\".\n",
    "\n",
    "After comparing some randomly selected results of image and url counts with their respective article on the medium platform, it became clear that many of them had different image and url counts than we derived with these techniques. Since the correlation with the target variable is rather low and we do not want to risk having incorrect data, which can lead to even worse predictions than if we had not included these features at all, we will not include these features in our final data set. "
   ]
  },
  {
   "cell_type": "code",
   "execution_count": 127,
   "metadata": {
    "colab": {
     "base_uri": "https://localhost:8080/",
     "height": 0
    },
    "colab_type": "code",
    "id": "w8sF7MP5_UAi",
    "outputId": "ed1165a1-ae59-4466-9b7f-bd0e230a6566"
   },
   "outputs": [
    {
     "data": {
      "text/html": [
       "<div>\n",
       "<style scoped>\n",
       "    .dataframe tbody tr th:only-of-type {\n",
       "        vertical-align: middle;\n",
       "    }\n",
       "\n",
       "    .dataframe tbody tr th {\n",
       "        vertical-align: top;\n",
       "    }\n",
       "\n",
       "    .dataframe thead th {\n",
       "        text-align: right;\n",
       "    }\n",
       "</style>\n",
       "<table border=\"1\" class=\"dataframe\">\n",
       "  <thead>\n",
       "    <tr style=\"text-align: right;\">\n",
       "      <th></th>\n",
       "      <th>index</th>\n",
       "      <th>author</th>\n",
       "      <th>publicationdetails</th>\n",
       "      <th>responses</th>\n",
       "      <th>header</th>\n",
       "      <th>text</th>\n",
       "      <th>length</th>\n",
       "      <th>publish_date</th>\n",
       "      <th>publicationname</th>\n",
       "      <th>article_age</th>\n",
       "      <th>imgcount</th>\n",
       "    </tr>\n",
       "  </thead>\n",
       "  <tbody>\n",
       "    <tr>\n",
       "      <th>13</th>\n",
       "      <td>17</td>\n",
       "      <td>Mohit Mamoria</td>\n",
       "      <td>Mohit Mamoria in HackerNoon.comJun 30, 2017</td>\n",
       "      <td>323</td>\n",
       "      <td>WTF is The Blockchain?</td>\n",
       "      <td>Unless you’re hiding under the rock, I am sure...</td>\n",
       "      <td>19954</td>\n",
       "      <td>2017-06-30</td>\n",
       "      <td>HackerNoon.com</td>\n",
       "      <td>546</td>\n",
       "      <td>18</td>\n",
       "    </tr>\n",
       "    <tr>\n",
       "      <th>5</th>\n",
       "      <td>8</td>\n",
       "      <td>Daniel Jeffries</td>\n",
       "      <td>Daniel Jeffries in HackerNoon.comMay 30, 2018</td>\n",
       "      <td>23</td>\n",
       "      <td>Cryptocurrency Trading Bible Three: Winning in...</td>\n",
       "      <td>All trading is gambling.Some people refuse to ...</td>\n",
       "      <td>32477</td>\n",
       "      <td>2018-05-30</td>\n",
       "      <td>HackerNoon.com</td>\n",
       "      <td>212</td>\n",
       "      <td>17</td>\n",
       "    </tr>\n",
       "    <tr>\n",
       "      <th>22</th>\n",
       "      <td>27</td>\n",
       "      <td>Blake Urban</td>\n",
       "      <td>Blake Urban in HackerNoon.comMay 8, 2018</td>\n",
       "      <td>4</td>\n",
       "      <td>Sentiment Analysis in Cryptocurrency</td>\n",
       "      <td>“When everyone thinks alike, everyone is likel...</td>\n",
       "      <td>28056</td>\n",
       "      <td>2018-05-08</td>\n",
       "      <td>HackerNoon.com</td>\n",
       "      <td>234</td>\n",
       "      <td>15</td>\n",
       "    </tr>\n",
       "    <tr>\n",
       "      <th>8</th>\n",
       "      <td>12</td>\n",
       "      <td>Daniel Jeffries</td>\n",
       "      <td>Daniel Jeffries in HackerNoon.comJun 30, 2017</td>\n",
       "      <td>49</td>\n",
       "      <td>Eight Simple Rules for Protecting Your Cryptoc...</td>\n",
       "      <td>I ran a computer consulting company for a deca...</td>\n",
       "      <td>29811</td>\n",
       "      <td>2017-06-30</td>\n",
       "      <td>HackerNoon.com</td>\n",
       "      <td>546</td>\n",
       "      <td>11</td>\n",
       "    </tr>\n",
       "    <tr>\n",
       "      <th>0</th>\n",
       "      <td>0</td>\n",
       "      <td>Daniel Jeffries</td>\n",
       "      <td>Daniel Jeffries in HackerNoon.comJul 31, 2017</td>\n",
       "      <td>627</td>\n",
       "      <td>Why Everyone Missed the Most Mind-Blowing Feat...</td>\n",
       "      <td>There’s one incredible feature of cryptocurren...</td>\n",
       "      <td>23401</td>\n",
       "      <td>2017-07-31</td>\n",
       "      <td>HackerNoon.com</td>\n",
       "      <td>515</td>\n",
       "      <td>10</td>\n",
       "    </tr>\n",
       "  </tbody>\n",
       "</table>\n",
       "</div>"
      ],
      "text/plain": [
       "    index           author                             publicationdetails  \\\n",
       "13     17    Mohit Mamoria    Mohit Mamoria in HackerNoon.comJun 30, 2017   \n",
       "5       8  Daniel Jeffries  Daniel Jeffries in HackerNoon.comMay 30, 2018   \n",
       "22     27      Blake Urban       Blake Urban in HackerNoon.comMay 8, 2018   \n",
       "8      12  Daniel Jeffries  Daniel Jeffries in HackerNoon.comJun 30, 2017   \n",
       "0       0  Daniel Jeffries  Daniel Jeffries in HackerNoon.comJul 31, 2017   \n",
       "\n",
       "    responses                                             header  \\\n",
       "13        323                             WTF is The Blockchain?   \n",
       "5          23  Cryptocurrency Trading Bible Three: Winning in...   \n",
       "22          4               Sentiment Analysis in Cryptocurrency   \n",
       "8          49  Eight Simple Rules for Protecting Your Cryptoc...   \n",
       "0         627  Why Everyone Missed the Most Mind-Blowing Feat...   \n",
       "\n",
       "                                                 text  length publish_date  \\\n",
       "13  Unless you’re hiding under the rock, I am sure...   19954   2017-06-30   \n",
       "5   All trading is gambling.Some people refuse to ...   32477   2018-05-30   \n",
       "22  “When everyone thinks alike, everyone is likel...   28056   2018-05-08   \n",
       "8   I ran a computer consulting company for a deca...   29811   2017-06-30   \n",
       "0   There’s one incredible feature of cryptocurren...   23401   2017-07-31   \n",
       "\n",
       "   publicationname  article_age  imgcount  \n",
       "13  HackerNoon.com          546        18  \n",
       "5   HackerNoon.com          212        17  \n",
       "22  HackerNoon.com          234        15  \n",
       "8   HackerNoon.com          546        11  \n",
       "0   HackerNoon.com          515        10  "
      ]
     },
     "execution_count": 127,
     "metadata": {
      "tags": []
     },
     "output_type": "execute_result"
    }
   ],
   "source": [
    "test['imgcount'] = test.apply(lambda row: len(re.findall(r'<img', row['text'])), axis=1)\n",
    "test.sort_values(by=['imgcount'], ascending=False).head()"
   ]
  },
  {
   "cell_type": "code",
   "execution_count": 128,
   "metadata": {
    "colab": {
     "base_uri": "https://localhost:8080/",
     "height": 0
    },
    "colab_type": "code",
    "id": "6n__WlV94hkr",
    "outputId": "95ebe511-8cee-4bbe-add2-7f3716c37a66"
   },
   "outputs": [
    {
     "data": {
      "text/html": [
       "<div>\n",
       "<style scoped>\n",
       "    .dataframe tbody tr th:only-of-type {\n",
       "        vertical-align: middle;\n",
       "    }\n",
       "\n",
       "    .dataframe tbody tr th {\n",
       "        vertical-align: top;\n",
       "    }\n",
       "\n",
       "    .dataframe thead th {\n",
       "        text-align: right;\n",
       "    }\n",
       "</style>\n",
       "<table border=\"1\" class=\"dataframe\">\n",
       "  <thead>\n",
       "    <tr style=\"text-align: right;\">\n",
       "      <th></th>\n",
       "      <th>index</th>\n",
       "      <th>author</th>\n",
       "      <th>publicationdetails</th>\n",
       "      <th>responses</th>\n",
       "      <th>header</th>\n",
       "      <th>text</th>\n",
       "      <th>length</th>\n",
       "      <th>publish_date</th>\n",
       "      <th>publicationname</th>\n",
       "      <th>article_age</th>\n",
       "      <th>imgcount</th>\n",
       "      <th>linkscount</th>\n",
       "    </tr>\n",
       "  </thead>\n",
       "  <tbody>\n",
       "    <tr>\n",
       "      <th>63</th>\n",
       "      <td>75</td>\n",
       "      <td>Neo Ighodaro</td>\n",
       "      <td>Neo Ighodaro in freeCodeCamp.orgMay 4, 2018</td>\n",
       "      <td>1</td>\n",
       "      <td>How to build a food delivery app with push not...</td>\n",
       "      <td>A basic understanding of Swift and Node.js is ...</td>\n",
       "      <td>32766</td>\n",
       "      <td>2018-05-04</td>\n",
       "      <td>freeCodeCamp.org</td>\n",
       "      <td>238</td>\n",
       "      <td>0</td>\n",
       "      <td>84</td>\n",
       "    </tr>\n",
       "    <tr>\n",
       "      <th>16</th>\n",
       "      <td>20</td>\n",
       "      <td>Michelle Leech</td>\n",
       "      <td>Michelle Leech in Cosmos BlogJul 11</td>\n",
       "      <td>0</td>\n",
       "      <td>Cosmos HackAtom Berlin Recap</td>\n",
       "      <td>For the past several years, members of the Cos...</td>\n",
       "      <td>6991</td>\n",
       "      <td>2018-07-11</td>\n",
       "      <td>Cosmos Blog</td>\n",
       "      <td>170</td>\n",
       "      <td>5</td>\n",
       "      <td>36</td>\n",
       "    </tr>\n",
       "    <tr>\n",
       "      <th>434</th>\n",
       "      <td>522</td>\n",
       "      <td>Netflix Technology Blog</td>\n",
       "      <td>Netflix Technology Blog in Netflix TechBlogMay...</td>\n",
       "      <td>0</td>\n",
       "      <td>Netflixにおける日本語字幕の導入</td>\n",
       "      <td>Netflixにおける日本語字幕の導入Netflix Technology Blog in ...</td>\n",
       "      <td>17725</td>\n",
       "      <td>2018-05-14</td>\n",
       "      <td>Netflix TechBlog</td>\n",
       "      <td>228</td>\n",
       "      <td>0</td>\n",
       "      <td>31</td>\n",
       "    </tr>\n",
       "    <tr>\n",
       "      <th>22</th>\n",
       "      <td>27</td>\n",
       "      <td>Blake Urban</td>\n",
       "      <td>Blake Urban in HackerNoon.comMay 8, 2018</td>\n",
       "      <td>4</td>\n",
       "      <td>Sentiment Analysis in Cryptocurrency</td>\n",
       "      <td>“When everyone thinks alike, everyone is likel...</td>\n",
       "      <td>28056</td>\n",
       "      <td>2018-05-08</td>\n",
       "      <td>HackerNoon.com</td>\n",
       "      <td>234</td>\n",
       "      <td>15</td>\n",
       "      <td>28</td>\n",
       "    </tr>\n",
       "    <tr>\n",
       "      <th>13</th>\n",
       "      <td>17</td>\n",
       "      <td>Mohit Mamoria</td>\n",
       "      <td>Mohit Mamoria in HackerNoon.comJun 30, 2017</td>\n",
       "      <td>323</td>\n",
       "      <td>WTF is The Blockchain?</td>\n",
       "      <td>Unless you’re hiding under the rock, I am sure...</td>\n",
       "      <td>19954</td>\n",
       "      <td>2017-06-30</td>\n",
       "      <td>HackerNoon.com</td>\n",
       "      <td>546</td>\n",
       "      <td>18</td>\n",
       "      <td>21</td>\n",
       "    </tr>\n",
       "  </tbody>\n",
       "</table>\n",
       "</div>"
      ],
      "text/plain": [
       "     index                   author  \\\n",
       "63      75             Neo Ighodaro   \n",
       "16      20           Michelle Leech   \n",
       "434    522  Netflix Technology Blog   \n",
       "22      27              Blake Urban   \n",
       "13      17            Mohit Mamoria   \n",
       "\n",
       "                                    publicationdetails  responses  \\\n",
       "63         Neo Ighodaro in freeCodeCamp.orgMay 4, 2018          1   \n",
       "16                 Michelle Leech in Cosmos BlogJul 11          0   \n",
       "434  Netflix Technology Blog in Netflix TechBlogMay...          0   \n",
       "22            Blake Urban in HackerNoon.comMay 8, 2018          4   \n",
       "13         Mohit Mamoria in HackerNoon.comJun 30, 2017        323   \n",
       "\n",
       "                                                header  \\\n",
       "63   How to build a food delivery app with push not...   \n",
       "16                        Cosmos HackAtom Berlin Recap   \n",
       "434                                Netflixにおける日本語字幕の導入   \n",
       "22                Sentiment Analysis in Cryptocurrency   \n",
       "13                              WTF is The Blockchain?   \n",
       "\n",
       "                                                  text  length publish_date  \\\n",
       "63   A basic understanding of Swift and Node.js is ...   32766   2018-05-04   \n",
       "16   For the past several years, members of the Cos...    6991   2018-07-11   \n",
       "434  Netflixにおける日本語字幕の導入Netflix Technology Blog in ...   17725   2018-05-14   \n",
       "22   “When everyone thinks alike, everyone is likel...   28056   2018-05-08   \n",
       "13   Unless you’re hiding under the rock, I am sure...   19954   2017-06-30   \n",
       "\n",
       "      publicationname  article_age  imgcount  linkscount  \n",
       "63   freeCodeCamp.org          238         0          84  \n",
       "16        Cosmos Blog          170         5          36  \n",
       "434  Netflix TechBlog          228         0          31  \n",
       "22     HackerNoon.com          234        15          28  \n",
       "13     HackerNoon.com          546        18          21  "
      ]
     },
     "execution_count": 128,
     "metadata": {
      "tags": []
     },
     "output_type": "execute_result"
    }
   ],
   "source": [
    "URL_REGEX=r\"\\b((?:https?://)?(?:(?:www\\.)?(?:[\\da-z\\.-]+)\\.(?:[a-z]{2,6})|(?:(?:25[0-5]|2[0-4][0-9]|[01]?[0-9][0-9]?)\\.){3}(?:25[0-5]|2[0-4][0-9]|[01]?[0-9][0-9]?)|(?:(?:[0-9a-fA-F]{1,4}:){7,7}[0-9a-fA-F]{1,4}|(?:[0-9a-fA-F]{1,4}:){1,7}:|(?:[0-9a-fA-F]{1,4}:){1,6}:[0-9a-fA-F]{1,4}|(?:[0-9a-fA-F]{1,4}:){1,5}(?::[0-9a-fA-F]{1,4}){1,2}|(?:[0-9a-fA-F]{1,4}:){1,4}(?::[0-9a-fA-F]{1,4}){1,3}|(?:[0-9a-fA-F]{1,4}:){1,3}(?::[0-9a-fA-F]{1,4}){1,4}|(?:[0-9a-fA-F]{1,4}:){1,2}(?::[0-9a-fA-F]{1,4}){1,5}|[0-9a-fA-F]{1,4}:(?:(?::[0-9a-fA-F]{1,4}){1,6})|:(?:(?::[0-9a-fA-F]{1,4}){1,7}|:)|fe80:(?::[0-9a-fA-F]{0,4}){0,4}%[0-9a-zA-Z]{1,}|::(?:ffff(?::0{1,4}){0,1}:){0,1}(?:(?:25[0-5]|(?:2[0-4]|1{0,1}[0-9]){0,1}[0-9])\\.){3,3}(?:25[0-5]|(?:2[0-4]|1{0,1}[0-9]){0,1}[0-9])|(?:[0-9a-fA-F]{1,4}:){1,4}:(?:(?:25[0-5]|(?:2[0-4]|1{0,1}[0-9]){0,1}[0-9])\\.){3,3}(?:25[0-5]|(?:2[0-4]|1{0,1}[0-9]){0,1}[0-9])))(?::[0-9]{1,4}|[1-5][0-9]{4}|6[0-4][0-9]{3}|65[0-4][0-9]{2}|655[0-2][0-9]|6553[0-5])?(?:/[\\w\\.-]*)*/?)\\b\"\n",
    "\n",
    "test['linkscount'] = test.apply(lambda row: len(re.findall(URL_REGEX, row['text'])), axis=1)\n",
    "test.sort_values(by=['linkscount'], ascending=False).head()"
   ]
  },
  {
   "cell_type": "markdown",
   "metadata": {
    "colab_type": "text",
    "id": "jUw_Ben9mluH"
   },
   "source": [
    "#### Language\n",
    "\n",
    "As we previously observed, language could possibly be a good predictor for the target variable. Therefore it might be worthwhile to identify all texts with the corresponding language. The Python package \"langdetect\" is perfectly suited for this task and can predict the language of any text quickly and with high accuracy. A look at the frequency table below shows that all but three articles are written in English. This means that we should rather remove the non-English texts completely from the train set, as they would not be of much help anyway and rather would cause problems for the language model."
   ]
  },
  {
   "cell_type": "code",
   "execution_count": 129,
   "metadata": {
    "colab": {
     "base_uri": "https://localhost:8080/",
     "height": 0
    },
    "colab_type": "code",
    "id": "BdptGcazhM_J",
    "outputId": "08b5c7ce-1fed-49a4-87f9-a3b8130841d1"
   },
   "outputs": [
    {
     "name": "stdout",
     "output_type": "stream",
     "text": [
      "Requirement already satisfied: langdetect in /usr/local/lib/python3.6/dist-packages (1.0.8)\n",
      "Requirement already satisfied: six in /usr/local/lib/python3.6/dist-packages (from langdetect) (1.15.0)\n"
     ]
    }
   ],
   "source": [
    "!pip install langdetect\n",
    "from langdetect import detect\n",
    "\n",
    "test['language'] = test.apply(lambda row: detect(row['text']), axis=1)"
   ]
  },
  {
   "cell_type": "code",
   "execution_count": 130,
   "metadata": {
    "colab": {
     "base_uri": "https://localhost:8080/",
     "height": 0
    },
    "colab_type": "code",
    "id": "KFqcjkg50kZo",
    "outputId": "19b5699c-d0d8-49ec-bfe1-c881558e7843"
   },
   "outputs": [
    {
     "name": "stdout",
     "output_type": "stream",
     "text": [
      "Category      Freq\n",
      "----------  ------\n",
      "en             511\n",
      "ja               1\n",
      "pt               1\n",
      "zh-tw            1 \n",
      "\n",
      "count     514\n",
      "unique      4\n",
      "top        en\n",
      "freq      511\n",
      "Name: language, dtype: object \n",
      "\n",
      "Missing values:  0\n"
     ]
    },
    {
     "data": {
      "text/html": [
       "<div>\n",
       "<style scoped>\n",
       "    .dataframe tbody tr th:only-of-type {\n",
       "        vertical-align: middle;\n",
       "    }\n",
       "\n",
       "    .dataframe tbody tr th {\n",
       "        vertical-align: top;\n",
       "    }\n",
       "\n",
       "    .dataframe thead th {\n",
       "        text-align: right;\n",
       "    }\n",
       "</style>\n",
       "<table border=\"1\" class=\"dataframe\">\n",
       "  <thead>\n",
       "    <tr style=\"text-align: right;\">\n",
       "      <th></th>\n",
       "      <th>index</th>\n",
       "      <th>author</th>\n",
       "      <th>publicationdetails</th>\n",
       "      <th>responses</th>\n",
       "      <th>header</th>\n",
       "      <th>text</th>\n",
       "      <th>length</th>\n",
       "      <th>publish_date</th>\n",
       "      <th>publicationname</th>\n",
       "      <th>article_age</th>\n",
       "      <th>imgcount</th>\n",
       "      <th>linkscount</th>\n",
       "      <th>language</th>\n",
       "    </tr>\n",
       "  </thead>\n",
       "  <tbody>\n",
       "    <tr>\n",
       "      <th>196</th>\n",
       "      <td>243</td>\n",
       "      <td>平子／Ping ／ผิง</td>\n",
       "      <td>平子／Ping ／ผิง in 八百萬種食法Feb 10</td>\n",
       "      <td>0</td>\n",
       "      <td>【台北・食材】Good Food You：主廚與老饕的尋寶基地</td>\n",
       "      <td>原文刊載於《GQ》網站：吃貨老司機應該要知道的好地方：Good Food You不久之前，這...</td>\n",
       "      <td>396</td>\n",
       "      <td>2018-02-10</td>\n",
       "      <td>八百萬種食法</td>\n",
       "      <td>321</td>\n",
       "      <td>0</td>\n",
       "      <td>0</td>\n",
       "      <td>zh-tw</td>\n",
       "    </tr>\n",
       "    <tr>\n",
       "      <th>198</th>\n",
       "      <td>246</td>\n",
       "      <td>mariogarciajr</td>\n",
       "      <td>mariogarciajr in Revista Criado MudoNov 28, 2016</td>\n",
       "      <td>0</td>\n",
       "      <td>Fast Food</td>\n",
       "      <td>Bebi a noite como se fosse Coca-Cola. Mastigue...</td>\n",
       "      <td>278</td>\n",
       "      <td>2016-11-28</td>\n",
       "      <td>Revista Criado Mudo</td>\n",
       "      <td>760</td>\n",
       "      <td>0</td>\n",
       "      <td>0</td>\n",
       "      <td>pt</td>\n",
       "    </tr>\n",
       "    <tr>\n",
       "      <th>434</th>\n",
       "      <td>522</td>\n",
       "      <td>Netflix Technology Blog</td>\n",
       "      <td>Netflix Technology Blog in Netflix TechBlogMay...</td>\n",
       "      <td>0</td>\n",
       "      <td>Netflixにおける日本語字幕の導入</td>\n",
       "      <td>Netflixにおける日本語字幕の導入Netflix Technology Blog in ...</td>\n",
       "      <td>17725</td>\n",
       "      <td>2018-05-14</td>\n",
       "      <td>Netflix TechBlog</td>\n",
       "      <td>228</td>\n",
       "      <td>0</td>\n",
       "      <td>31</td>\n",
       "      <td>ja</td>\n",
       "    </tr>\n",
       "  </tbody>\n",
       "</table>\n",
       "</div>"
      ],
      "text/plain": [
       "     index                   author  \\\n",
       "196    243             平子／Ping ／ผิง   \n",
       "198    246            mariogarciajr   \n",
       "434    522  Netflix Technology Blog   \n",
       "\n",
       "                                    publicationdetails  responses  \\\n",
       "196                       平子／Ping ／ผิง in 八百萬種食法Feb 10          0   \n",
       "198   mariogarciajr in Revista Criado MudoNov 28, 2016          0   \n",
       "434  Netflix Technology Blog in Netflix TechBlogMay...          0   \n",
       "\n",
       "                              header  \\\n",
       "196  【台北・食材】Good Food You：主廚與老饕的尋寶基地   \n",
       "198                        Fast Food   \n",
       "434              Netflixにおける日本語字幕の導入   \n",
       "\n",
       "                                                  text  length publish_date  \\\n",
       "196  原文刊載於《GQ》網站：吃貨老司機應該要知道的好地方：Good Food You不久之前，這...     396   2018-02-10   \n",
       "198  Bebi a noite como se fosse Coca-Cola. Mastigue...     278   2016-11-28   \n",
       "434  Netflixにおける日本語字幕の導入Netflix Technology Blog in ...   17725   2018-05-14   \n",
       "\n",
       "         publicationname  article_age  imgcount  linkscount language  \n",
       "196               八百萬種食法          321         0           0    zh-tw  \n",
       "198  Revista Criado Mudo          760         0           0       pt  \n",
       "434     Netflix TechBlog          228         0          31       ja  "
      ]
     },
     "execution_count": 130,
     "metadata": {
      "tags": []
     },
     "output_type": "execute_result"
    }
   ],
   "source": [
    "explore_categorical_value(test, 'language', rows=10)\n",
    "test[test['language'] != 'en']"
   ]
  },
  {
   "cell_type": "markdown",
   "metadata": {
    "colab_type": "text",
    "id": "kjnMHv4oQIxj"
   },
   "source": [
    "### Train Data"
   ]
  },
  {
   "cell_type": "markdown",
   "metadata": {
    "colab_type": "text",
    "id": "9oQ0grsbQ36M"
   },
   "source": [
    "#### Length\n",
    "\n",
    "Since almost all important features are already available in the training set, only the length of the texts must be added\n"
   ]
  },
  {
   "cell_type": "code",
   "execution_count": 131,
   "metadata": {
    "colab": {},
    "colab_type": "code",
    "id": "OQqq-iYcREuJ"
   },
   "outputs": [],
   "source": [
    "train['length'] = train.apply(lambda row: len(row['text']), axis=1)"
   ]
  },
  {
   "cell_type": "markdown",
   "metadata": {
    "colab_type": "text",
    "id": "m2IIfLnpM182"
   },
   "source": [
    "## Data Cleaning"
   ]
  },
  {
   "cell_type": "markdown",
   "metadata": {
    "colab_type": "text",
    "id": "mrc1vz5uI7aK"
   },
   "source": [
    "Our two data sets still contain a large number of duplicates, unimportant features, and missing and incorrect values. Therefore, our next step will be to first cleanse, scale and finally unify the datasets. "
   ]
  },
  {
   "cell_type": "markdown",
   "metadata": {
    "colab_type": "text",
    "id": "gwnHY62FvKBV"
   },
   "source": [
    "### Remove non english articles and duplicates from training set\n",
    "\n",
    "We will start by removing all duplicates and non english articles. After we dropped them we have only 66.000 articles remaining. \n"
   ]
  },
  {
   "cell_type": "code",
   "execution_count": 132,
   "metadata": {
    "colab": {
     "base_uri": "https://localhost:8080/",
     "height": 68
    },
    "colab_type": "code",
    "id": "49Ewl2uMvLnd",
    "outputId": "12b33d8c-99c4-421d-f0f9-f180e31c0dc4"
   },
   "outputs": [
    {
     "name": "stdout",
     "output_type": "stream",
     "text": [
      "Dimensions before removal of non english and duplicate texts:  (279577, 55)\n",
      "After dropping of non english languages:  (257655, 55)\n",
      "After dropping of duplicates:  (66380, 55)\n"
     ]
    }
   ],
   "source": [
    "print('Dimensions before removal of non english and duplicate texts: ', train.shape)\n",
    "train = train[train['language'] == 'en']\n",
    "print('After dropping of non english languages: ', train.shape)\n",
    "train.drop_duplicates('postid', inplace=True)\n",
    "print('After dropping of duplicates: ', train.shape)"
   ]
  },
  {
   "cell_type": "markdown",
   "metadata": {
    "colab_type": "text",
    "id": "-m6F6PobAnKZ"
   },
   "source": [
    "### Publicationname and Author\n",
    "\n",
    "Different datasets often contain slightly different names for the same categories, which is also the case with our datasets. For example, while the publication name in the testset is \"hacker noon\", the name for the same publisher in the other dataset is \"hackernoon.com\". In order to make good predictions or simply to merge different data sets, it is important that the same categories have the same name. Therefore we will remove all Top-Level-Domains (TLD), spaces and non-alphabetical letters from the author and publication name. We will also replace missing values.\n",
    "\n"
   ]
  },
  {
   "cell_type": "code",
   "execution_count": 133,
   "metadata": {
    "colab": {},
    "colab_type": "code",
    "id": "hzaJW9d9xlNe"
   },
   "outputs": [],
   "source": [
    "#Text cleaning publicationname and authorname (have different formation on datasets)\n",
    "test.loc[test['author'] == '', 'author'] = 'unknown'\n",
    "train.loc[train['author'] == '', 'author'] = 'unknown'\n",
    "test.loc[test['publicationname'] == '', 'publicationname'] = test['author']\n",
    "train.loc[train['publicationname'].isnull(), 'publicationname'] = train['author']\n",
    "\n",
    "def clean_names(row):\n",
    "  row = row.lower() #lower letters\n",
    "  row = re.sub('(?:\\.[a-z\\.]+[\\/]?)', '', row) #remove TLD\n",
    "  row = re.sub(r'\\W+', '', row) #remove bad chars\n",
    "  row = row.replace(\" \", \"\") #remove spaces\n",
    "  return row\n",
    "\n",
    "test['author'] = test['author'].apply(clean_names)\n",
    "train['author'] = train['author'].apply(clean_names)\n",
    "test['publicationname'] = test['publicationname'].apply(clean_names)\n",
    "train['publicationname'] = train['publicationname'].apply(clean_names)"
   ]
  },
  {
   "cell_type": "markdown",
   "metadata": {
    "colab_type": "text",
    "id": "OcSVK9f_11Oc"
   },
   "source": [
    "### Split Train Dataset in Cross Validation and Train\n",
    "\n",
    "Before we remove outliers and scale the numerical features, we will split the train data into a train and a validation set. We do this to avoid any kind of data leakage. We have already seen that the test data have different min/max values and also different authors, publication names, etc. However, we cannot control the accuracy of our predictions on the test data because they do not contain the target characteristic. Nevertheless, in order to be able to make a reasonable estimate of how good the accuracy will be on the test set, we will use the validation set to test the accuracy. \n",
    "\n",
    "Therefore, we cannot perform some of the following steps for the validation set, as this steps should only be applied to the train set to avoid data leakage. Data leakage is when information from outside the training dataset is used to create the model. This additional information can allow the model to learn or know something that it otherwise would not know and in turn invalidate the estimated performance of the mode being constructed.\n",
    "\n",
    "To test our model on the validation set, we will split the Train data into 80% train and 20% validation. However, for the final prediction of the test set we will use 100% of the train data.  \n",
    "\n"
   ]
  },
  {
   "cell_type": "code",
   "execution_count": 134,
   "metadata": {
    "colab": {
     "base_uri": "https://localhost:8080/",
     "height": 0
    },
    "colab_type": "code",
    "id": "OhQ8s8iM18Kk",
    "outputId": "4d518872-fcc1-4510-804b-dd53c393e36e"
   },
   "outputs": [
    {
     "name": "stdout",
     "output_type": "stream",
     "text": [
      "Train dataset dimensions:  (53104, 55)\n",
      "Validation dataset dimensions:  (13276, 55)\n"
     ]
    }
   ],
   "source": [
    "from sklearn.model_selection import train_test_split\n",
    "\n",
    "train, validation = train_test_split(train, test_size=0.2, random_state=1)\n",
    "print(\"Train dataset dimensions: \", train.shape)\n",
    "print(\"Validation dataset dimensions: \", validation.shape)"
   ]
  },
  {
   "cell_type": "markdown",
   "metadata": {
    "colab_type": "text",
    "id": "F1Ue5ZTgnIFM"
   },
   "source": [
    "### Outlier Removal\n",
    "\n",
    "In general, we should avoid removing outliers unless they are caused by an error of some kind. However, all models were tested with and without outliers and showed significantly better predictions when the very large outliers were removed. In order not to lose too much information, only the upper 0.5 percent and the lower 2.5 percent of selected continuous features were removed from the train set. \n"
   ]
  },
  {
   "cell_type": "code",
   "execution_count": 135,
   "metadata": {
    "colab": {
     "base_uri": "https://localhost:8080/",
     "height": 0
    },
    "colab_type": "code",
    "id": "wOJYtSXbyGy6",
    "outputId": "9e675196-8662-4d8b-ec94-01582b5ba2ef"
   },
   "outputs": [
    {
     "data": {
      "text/html": [
       "<div>\n",
       "<style scoped>\n",
       "    .dataframe tbody tr th:only-of-type {\n",
       "        vertical-align: middle;\n",
       "    }\n",
       "\n",
       "    .dataframe tbody tr th {\n",
       "        vertical-align: top;\n",
       "    }\n",
       "\n",
       "    .dataframe thead th {\n",
       "        text-align: right;\n",
       "    }\n",
       "</style>\n",
       "<table border=\"1\" class=\"dataframe\">\n",
       "  <thead>\n",
       "    <tr style=\"text-align: right;\">\n",
       "      <th></th>\n",
       "      <th>linkscount</th>\n",
       "      <th>totalclapcount</th>\n",
       "      <th>responsescreatedcount</th>\n",
       "      <th>length</th>\n",
       "    </tr>\n",
       "  </thead>\n",
       "  <tbody>\n",
       "    <tr>\n",
       "      <th>0.025</th>\n",
       "      <td>0.0</td>\n",
       "      <td>0.00</td>\n",
       "      <td>0.0</td>\n",
       "      <td>476.00</td>\n",
       "    </tr>\n",
       "    <tr>\n",
       "      <th>0.995</th>\n",
       "      <td>58.0</td>\n",
       "      <td>4522.88</td>\n",
       "      <td>25.0</td>\n",
       "      <td>29647.79</td>\n",
       "    </tr>\n",
       "  </tbody>\n",
       "</table>\n",
       "</div>"
      ],
      "text/plain": [
       "       linkscount  totalclapcount  responsescreatedcount    length\n",
       "0.025         0.0            0.00                    0.0    476.00\n",
       "0.995        58.0         4522.88                   25.0  29647.79"
      ]
     },
     "execution_count": 135,
     "metadata": {
      "tags": []
     },
     "output_type": "execute_result"
    }
   ],
   "source": [
    "lower=0.025\n",
    "upper=0.995\n",
    "cols = ['linkscount','totalclapcount', 'responsescreatedcount','length']\n",
    "q = train[cols].quantile([lower, upper])\n",
    "q"
   ]
  },
  {
   "cell_type": "code",
   "execution_count": 136,
   "metadata": {
    "colab": {
     "base_uri": "https://localhost:8080/",
     "height": 0
    },
    "colab_type": "code",
    "id": "SpJcMZ4-_Ajg",
    "outputId": "6532e3aa-44be-4663-a2a2-bd446f068bca"
   },
   "outputs": [
    {
     "name": "stdout",
     "output_type": "stream",
     "text": [
      "Dimension after dropping of duplicates:  (50972, 55)\n"
     ]
    }
   ],
   "source": [
    "for col in cols:\n",
    "  train = train[(train[col] >= q[col][lower]) & (train[col] <= q[col][upper])]\n",
    "print('Dimension after dropping of duplicates: ', train.shape)"
   ]
  },
  {
   "cell_type": "markdown",
   "metadata": {
    "colab_type": "text",
    "id": "WzGoCXaXEgip"
   },
   "source": [
    "### Expected claps for Author and Publicationname\n",
    "\n",
    "We discovered already that both datasets often contain values in \"publicationaname\" and \"author\" that differ significantly in the amount of claps that they receive for their articles. Perhaps this knowledge can contain valuable information, and it is likely that it can be used to make a more educated guess about the target. For authors and publishers who do not appear in both data sets together, the average of all authors / publishers can be used. As we have already examined, it is clear that the distribution of the target is strongly biased towards the lower end of the range. For this reason, averaging is inappropriate because the few but massive values at the end of the distribution have an unbalanced effect on the statistics. The median is therefore more suitable here as an estimate of an \"average\" value.\n"
   ]
  },
  {
   "cell_type": "code",
   "execution_count": 137,
   "metadata": {
    "colab": {
     "base_uri": "https://localhost:8080/",
     "height": 0
    },
    "colab_type": "code",
    "id": "mre0Oco-whpM",
    "outputId": "21d53ff6-5bbc-4d5d-a7f6-417fde9ee80f"
   },
   "outputs": [
    {
     "name": "stdout",
     "output_type": "stream",
     "text": [
      "Number of common publicationname: 48 /225\n",
      "Number of articles with same publicationname: 338 /442 \n",
      "\n",
      "\n",
      "            Category  Freq_Test  Freq_Train         Mean  Median\n",
      "0    netflixtechblog      175.0         9.0  1080.777778   663.0\n",
      "1             tefood       38.0         1.0   588.000000   588.0\n",
      "2         thestartup       24.0       242.0   364.433884   175.0\n",
      "3         hackernoon       21.0       941.0   314.566419   113.0\n",
      "4       freecodecamp       15.0       139.0   873.863309   557.0\n",
      "5   onetableoneworld        9.0         NaN          NaN     NaN\n",
      "6       foodrepublic        7.0         NaN          NaN     NaN\n",
      "7  60monthstoironman        6.0         NaN          NaN     NaN\n",
      "8        thebillfold        5.0         NaN          NaN     NaN\n",
      "9    thefuturemarket        4.0         NaN          NaN     NaN \n",
      "\n",
      "\n",
      "            Category  median_publicationname\n",
      "0    netflixtechblog                   663.0\n",
      "1             tefood                   588.0\n",
      "2         thestartup                   175.0\n",
      "3         hackernoon                   113.0\n",
      "4       freecodecamp                   557.0\n",
      "5   onetableoneworld                     2.0\n",
      "6       foodrepublic                     2.0\n",
      "7  60monthstoironman                     2.0\n",
      "8        thebillfold                     2.0\n",
      "9    thefuturemarket                     2.0\n"
     ]
    }
   ],
   "source": [
    "#Merge train and test publicationname\n",
    "test_publicationname = explore_categorical_value(test, 'publicationname', explore=False)  \n",
    "train_publicationname = explore_categorical_value(train, 'publicationname', target='totalclapcount', explore=False)  \n",
    "same_publicationname = pd.merge(test_publicationname, train_publicationname, on = \"Category\").rename(columns={\"Freq_x\": \"Freq_Test\", \"Freq_y\": \"Freq_Train\"})\n",
    "print(\"Number of common publicationname:\", len(same_publicationname), \"/225\")\n",
    "print(\"Number of articles with same publicationname:\", same_publicationname['Freq_Test'].sum(), \"/442\", \"\\n\\n\")\n",
    "common_publicationname = pd.merge(test_publicationname, train_publicationname, on = \"Category\", how = 'outer').rename(columns={\"Freq_x\": \"Freq_Test\", \"Freq_y\": \"Freq_Train\"})\n",
    "print(common_publicationname.head(10), \"\\n\\n\")\n",
    "\n",
    "#Set median clap count for every publicationname\n",
    "publicationname_claps_median = int(common_publicationname['Median'].median())\n",
    "common_publicationname.loc[common_publicationname['Median'].isnull(), 'Median'] = publicationname_claps_median\n",
    "common_publicationname = common_publicationname[['Category', 'Median']].rename(columns={\"Median\": \"median_publicationname\"})\n",
    "print(common_publicationname.head(10))"
   ]
  },
  {
   "cell_type": "code",
   "execution_count": 138,
   "metadata": {
    "colab": {
     "base_uri": "https://localhost:8080/",
     "height": 0
    },
    "colab_type": "code",
    "id": "i3lB4nRm0dpy",
    "outputId": "5c915b06-9aae-4dd2-8bc9-82ac9791d43a"
   },
   "outputs": [
    {
     "name": "stdout",
     "output_type": "stream",
     "text": [
      "Number of common authors: 37 /225\n",
      "Number of articles with same authors: 266 /442 \n",
      "\n",
      "\n",
      "                Category  Freq_Test  Freq_Train         Mean  Median\n",
      "0  netflixtechnologyblog      175.0         9.0  1080.777778   663.0\n",
      "1                 tefood       38.0         1.0   588.000000   588.0\n",
      "2           foodrepublic        7.0         NaN          NaN     NaN\n",
      "3            mickiseibel        5.0         NaN          NaN     NaN\n",
      "4            aytekintank        4.0         NaN          NaN     NaN\n",
      "5         danieljeffries        4.0         1.0   219.000000   219.0\n",
      "6                mikelee        4.0         NaN          NaN     NaN\n",
      "7                 forbes        4.0         7.0   143.285714    57.0\n",
      "8          shannonashley        4.0         NaN          NaN     NaN\n",
      "9             zachjpayne        4.0         NaN          NaN     NaN \n",
      "\n",
      "\n",
      "                Category  median_author\n",
      "0  netflixtechnologyblog          663.0\n",
      "1                 tefood          588.0\n",
      "2           foodrepublic            6.0\n",
      "3            mickiseibel            6.0\n",
      "4            aytekintank            6.0\n",
      "5         danieljeffries          219.0\n",
      "6                mikelee            6.0\n",
      "7                 forbes           57.0\n",
      "8          shannonashley            6.0\n",
      "9             zachjpayne            6.0\n"
     ]
    }
   ],
   "source": [
    "#Merge train and test author\n",
    "author_test = explore_categorical_value(test, 'author', explore=False)  \n",
    "author_train = explore_categorical_value(train, 'author', target='totalclapcount', explore=False)  \n",
    "same_authors = pd.merge(author_test, author_train, on = \"Category\").rename(columns={\"Freq_x\": \"Freq_Test\", \"Freq_y\": \"Freq_Train\"})\n",
    "print(\"Number of common authors:\", len(same_authors), \"/225\")\n",
    "print(\"Number of articles with same authors:\", same_authors['Freq_Test'].sum(), \"/442\", \"\\n\\n\")\n",
    "common_authors = pd.merge(author_test, author_train, on = \"Category\", how = 'outer').rename(columns={\"Freq_x\": \"Freq_Test\", \"Freq_y\": \"Freq_Train\"})\n",
    "print(common_authors.head(10), \"\\n\\n\")\n",
    "\n",
    "#Set median clap count for every publicationname\n",
    "author_claps_median = int(common_authors['Median'].median())\n",
    "common_authors.loc[common_authors['Median'].isnull(), 'Median'] = author_claps_median\n",
    "common_authors = common_authors[['Category', 'Median']].rename(columns={\"Median\": \"median_author\"})\n",
    "print(common_authors.head(10))"
   ]
  },
  {
   "cell_type": "markdown",
   "metadata": {
    "colab_type": "text",
    "id": "A5ylCzZMrUwg"
   },
   "source": [
    "### Combine Test Train Cross Validation Dataset\n",
    "\n",
    "For easier handling and processing of the data in the following steps, it makes sense to combine the different datasets into one dataframe, which can easily be split into the different sets again later. This is only possible because all datasets were transformed to have the same structure."
   ]
  },
  {
   "cell_type": "code",
   "execution_count": 139,
   "metadata": {
    "colab": {},
    "colab_type": "code",
    "id": "DBozVTeRvN5v"
   },
   "outputs": [],
   "source": [
    "#select specific features\n",
    "test = test[['author','responses','header','text','length', 'publicationname','article_age']]\n",
    "validation = validation[['author', 'responsescreatedcount','title', 'text', 'length', 'publicationname', 'article_age', 'totalclapcount']]\n",
    "train = train[['author', 'responsescreatedcount','title', 'text', 'length', 'publicationname', 'article_age', 'totalclapcount']]\n",
    "\n",
    "#rename specific features\n",
    "test = test.rename(columns={\"responses\": \"responsecount\", \"header\": \"title\"})\n",
    "validation = validation.rename(columns={\"responsescreatedcount\": \"responsecount\"})\n",
    "train = train.rename(columns={\"responsescreatedcount\": \"responsecount\"})\n",
    "\n",
    "#add features to make test and train dataset features homogeneous\n",
    "test['totalclapcount'] = 0\n",
    "test['set'] = 'test'\n",
    "train['set'] = 'train'\n",
    "validation['set'] = 'validation'"
   ]
  },
  {
   "cell_type": "code",
   "execution_count": 140,
   "metadata": {
    "colab": {},
    "colab_type": "code",
    "id": "FHdMHLNNWc_s"
   },
   "outputs": [],
   "source": [
    "#set index as id for identification (needed later) set + id = unique identifier\n",
    "test['id'] = test.index\n",
    "train['id'] = train.index\n",
    "validation['id'] = validation.index"
   ]
  },
  {
   "cell_type": "code",
   "execution_count": 141,
   "metadata": {
    "colab": {
     "base_uri": "https://localhost:8080/",
     "height": 0
    },
    "colab_type": "code",
    "id": "-TZrcdsNud91",
    "outputId": "5ffb21ea-8aa0-4194-d745-de4798960b71"
   },
   "outputs": [
    {
     "name": "stdout",
     "output_type": "stream",
     "text": [
      "author             object\n",
      "responsecount       int64\n",
      "title              object\n",
      "text               object\n",
      "length              int64\n",
      "publicationname    object\n",
      "article_age         int64\n",
      "totalclapcount      int64\n",
      "set                object\n",
      "id                  int64\n",
      "dtype: object\n",
      "\n",
      "\n",
      "author             object\n",
      "responsecount       int64\n",
      "title              object\n",
      "text               object\n",
      "length              int64\n",
      "publicationname    object\n",
      "article_age         int64\n",
      "totalclapcount      int64\n",
      "set                object\n",
      "id                  int64\n",
      "dtype: object\n"
     ]
    }
   ],
   "source": [
    "print(test.dtypes)\n",
    "print('\\n')\n",
    "print(train.dtypes)"
   ]
  },
  {
   "cell_type": "code",
   "execution_count": 142,
   "metadata": {
    "colab": {
     "base_uri": "https://localhost:8080/",
     "height": 0
    },
    "colab_type": "code",
    "id": "pO0Ptvrhw2Lc",
    "outputId": "5864efcd-85b7-4547-c3de-645c420c8d17"
   },
   "outputs": [
    {
     "name": "stdout",
     "output_type": "stream",
     "text": [
      "<class 'pandas.core.frame.DataFrame'>\n",
      "RangeIndex: 64762 entries, 0 to 64761\n",
      "Data columns (total 10 columns):\n",
      " #   Column           Non-Null Count  Dtype \n",
      "---  ------           --------------  ----- \n",
      " 0   author           64762 non-null  object\n",
      " 1   responsecount    64762 non-null  int64 \n",
      " 2   title            64754 non-null  object\n",
      " 3   text             64762 non-null  object\n",
      " 4   length           64762 non-null  int64 \n",
      " 5   publicationname  64762 non-null  object\n",
      " 6   article_age      64762 non-null  int64 \n",
      " 7   totalclapcount   64762 non-null  int64 \n",
      " 8   set              64762 non-null  object\n",
      " 9   id               64762 non-null  int64 \n",
      "dtypes: int64(5), object(5)\n",
      "memory usage: 4.9+ MB\n",
      "None\n"
     ]
    }
   ],
   "source": [
    "data = pd.concat([test, train, validation], ignore_index=True)\n",
    "print(data.info())"
   ]
  },
  {
   "cell_type": "markdown",
   "metadata": {
    "colab_type": "text",
    "id": "eDI00UMcvfZa"
   },
   "source": [
    "### Add expected claps values\n",
    "\n",
    "Now we can finally add the total median clap values per category to the entire dataset. Since all values not included in the test set have received the median value of all median values of each category, each author and publication name now has a median value."
   ]
  },
  {
   "cell_type": "code",
   "execution_count": 143,
   "metadata": {
    "colab": {},
    "colab_type": "code",
    "id": "DexFWfbbvamK"
   },
   "outputs": [],
   "source": [
    "#add median values\n",
    "data = pd.merge(data, common_publicationname, left_on='publicationname',right_on='Category')\n",
    "data = pd.merge(data, common_authors, left_on='author',right_on='Category')\n",
    "data = data.drop(['Category_x', 'Category_y'], axis=1)"
   ]
  },
  {
   "cell_type": "markdown",
   "metadata": {
    "colab_type": "text",
    "id": "rGskmSjtKU7F"
   },
   "source": [
    "### Compare Datasets\n",
    "\n",
    "Let's see how much the datasets differ in their values. To make accurate predictions, it might be helpful if the values in the test and train data are not too heterogeneous. The train dataset has much higher averages and medians for number of responses, article age and expressed clapping for authors and publisher, and only slightly higher values for length. As far as we can see from the evidence already obtained, the total clap count of the test data set will probably be much higher than in the train data set. Since the validation set is only a random split from the original train data set, the values are as expected very similar."
   ]
  },
  {
   "cell_type": "code",
   "execution_count": 144,
   "metadata": {
    "colab": {
     "base_uri": "https://localhost:8080/",
     "height": 0
    },
    "colab_type": "code",
    "id": "nP6p-mXy0slb",
    "outputId": "54cd9678-be5c-48c9-ec5e-22a799f83f45"
   },
   "outputs": [
    {
     "name": "stdout",
     "output_type": "stream",
     "text": [
      "Test \n",
      "        responsecount        length  article_age  totalclapcount          id  \\\n",
      "count     514.000000    514.000000   514.000000           514.0  514.000000   \n",
      "mean       19.801556   6545.963035   534.299611             0.0  256.500000   \n",
      "std        61.560692   6449.069641   516.098979             0.0  148.523287   \n",
      "min         0.000000    251.000000     0.000000             0.0    0.000000   \n",
      "25%         1.000000    908.750000   215.250000             0.0  128.250000   \n",
      "50%         4.000000   5228.000000   350.500000             0.0  256.500000   \n",
      "75%        11.750000  10433.250000   714.000000             0.0  384.750000   \n",
      "max       827.000000  32766.000000  2949.000000             0.0  513.000000   \n",
      "\n",
      "       median_publicationname  median_author  \n",
      "count              514.000000     514.000000  \n",
      "mean               323.443580     295.086576  \n",
      "std                306.042104     315.319975  \n",
      "min                  0.000000       0.000000  \n",
      "25%                  2.000000       6.000000  \n",
      "50%                175.000000      54.000000  \n",
      "75%                663.000000     663.000000  \n",
      "max               1150.500000    1150.500000   \n",
      "\n",
      "\n",
      "Train \n",
      "        responsecount        length   article_age  totalclapcount  \\\n",
      "count   50972.000000  50972.000000  50972.000000    50972.000000   \n",
      "mean        0.489955   5404.508436    198.083458      100.908538   \n",
      "std         1.754217   4038.280139    115.042296      308.926771   \n",
      "min         0.000000    476.000000      0.000000        0.000000   \n",
      "25%         0.000000   2662.000000    100.000000        0.000000   \n",
      "50%         0.000000   4410.000000    184.000000        6.000000   \n",
      "75%         0.000000   6912.250000    286.000000       65.000000   \n",
      "max        25.000000  29641.000000   1181.000000     4519.000000   \n",
      "\n",
      "                  id  median_publicationname  median_author  \n",
      "count   50972.000000            50972.000000   50972.000000  \n",
      "mean   138399.910166               66.479008      84.165208  \n",
      "std     80018.653717              165.760740     237.722308  \n",
      "min         0.000000                0.000000       0.000000  \n",
      "25%     69154.500000                0.000000       0.000000  \n",
      "50%    138399.500000                8.000000       7.000000  \n",
      "75%    206872.250000               68.500000      62.000000  \n",
      "max    279572.000000             4083.000000    4193.000000   \n",
      "\n",
      "\n",
      "Validation \n",
      "        responsecount        length  article_age  totalclapcount  \\\n",
      "count    8602.000000   8602.000000  8602.000000     8602.000000   \n",
      "mean        0.712625   5453.318996   197.962916      151.251221   \n",
      "std         4.688849   5107.734284   113.706731      796.485043   \n",
      "min         0.000000     15.000000     0.000000        0.000000   \n",
      "25%         0.000000   2500.250000   101.250000        0.000000   \n",
      "50%         0.000000   4263.000000   184.000000        7.000000   \n",
      "75%         0.000000   6801.000000   286.750000       71.000000   \n",
      "max       241.000000  92387.000000   706.000000    27801.000000   \n",
      "\n",
      "                  id  median_publicationname  median_author  \n",
      "count    8602.000000             8602.000000    8602.000000  \n",
      "mean   141252.266217               69.952395      89.073471  \n",
      "std     81846.660745              167.488504     238.211697  \n",
      "min        39.000000                0.000000       0.000000  \n",
      "25%     70098.500000                0.000000       0.000000  \n",
      "50%    139928.000000                8.500000       7.000000  \n",
      "75%    213255.000000               79.000000      65.000000  \n",
      "max    279529.000000             2937.000000    3885.000000   \n",
      "\n",
      "\n"
     ]
    }
   ],
   "source": [
    "pd.set_option('display.max_columns', 15)\n",
    "print('Test', '\\n',data[data['set'] == 'test'].describe(), '\\n\\n')\n",
    "print('Train', '\\n',data[data['set'] == 'train'].describe(), '\\n\\n')\n",
    "print('Validation', '\\n',data[data['set'] == 'validation'].describe(), '\\n\\n')"
   ]
  },
  {
   "cell_type": "markdown",
   "metadata": {
    "colab_type": "text",
    "id": "iuWq_TnUm2CA"
   },
   "source": [
    "### Feature Scaling\n",
    "Feature scaling by standardization (or Z-score normalization) can be an important pre-processing step for many machine learning algorithms. In standardization, features are rescaled to have the properties of a standard normal distribution with a mean of zero and a standard deviation of one. Normalization is another method of scaling characteristics and is useful when the distribution of the data does not follow a Gaussian distribution. \n",
    "\n",
    "An important aspect to consider when deciding which scaling method to use is that, unlike normalization, standardization has no limiting range. Thus, even if the data contains large outliers, they are not affected by standardization. \n",
    "For this challenge, both scaling methods for prediction were compared, with standardization yielding slightly better results. \n",
    "For both scaling methods it is important to adjust the scaler only to the training data and then apply the scaler to the entire data set. "
   ]
  },
  {
   "cell_type": "code",
   "execution_count": 145,
   "metadata": {
    "colab": {},
    "colab_type": "code",
    "id": "IozSiicAe_rH"
   },
   "outputs": [],
   "source": [
    "#https://towardsdatascience.com/scale-standardize-or-normalize-with-scikit-learn-6ccc7d176a02\n",
    "\n",
    "from sklearn.preprocessing import StandardScaler\n",
    "from sklearn.preprocessing import MinMaxScaler\n",
    "\n",
    "scaler = StandardScaler()\n",
    "#scaler = MinMaxScaler()\n",
    "\n",
    "# numerical features\n",
    "num_cols = ['responsecount','length','article_age', 'median_author', 'median_publicationname']\n",
    "train = data[data['set'] == 'train']\n",
    "\n",
    "# apply standardization on numerical features\n",
    "for i in num_cols:\n",
    "    \n",
    "    # fit on training data column\n",
    "    scale = scaler.fit(train[[i]])\n",
    "    \n",
    "    # transform the training data column\n",
    "    data[i] = scale.transform(data[[i]])\n",
    "    \n",
    "#target_feature\n",
    "scale_target = scaler.fit(train[['totalclapcount']])\n",
    "data['totalclapcount_scaled'] = scale.transform(data[['totalclapcount']])\n",
    "\n",
    "#claps (back scaling)\n",
    "#y_new_inverse = scale_target.inverse_transform(data['totalclapcount'])\n",
    "#y_new_inverse"
   ]
  },
  {
   "cell_type": "markdown",
   "metadata": {
    "colab_type": "text",
    "id": "ce-PUpMt1Tid"
   },
   "source": [
    "#### Check for null values"
   ]
  },
  {
   "cell_type": "markdown",
   "metadata": {
    "colab_type": "text",
    "id": "WXizINnHcEJy"
   },
   "source": [
    "Before going to the next step we will have a quick look if any missing values are remaining in the dataset and remove them."
   ]
  },
  {
   "cell_type": "code",
   "execution_count": 146,
   "metadata": {
    "colab": {
     "base_uri": "https://localhost:8080/",
     "height": 0
    },
    "colab_type": "code",
    "id": "kOJFdaEajTlv",
    "outputId": "8c61c076-be76-4d05-b44a-b3ac985e3302"
   },
   "outputs": [
    {
     "name": "stdout",
     "output_type": "stream",
     "text": [
      "author                    0\n",
      "responsecount             0\n",
      "title                     8\n",
      "text                      0\n",
      "length                    0\n",
      "publicationname           0\n",
      "article_age               0\n",
      "totalclapcount            0\n",
      "set                       0\n",
      "id                        0\n",
      "median_publicationname    0\n",
      "median_author             0\n",
      "totalclapcount_scaled     0\n",
      "dtype: int64\n"
     ]
    }
   ],
   "source": [
    "print(data.isnull().sum(axis = 0))\n",
    "data['title'] = data['title'].fillna(value='')"
   ]
  },
  {
   "cell_type": "markdown",
   "metadata": {
    "colab_type": "text",
    "id": "HHSC4vW3WYyK"
   },
   "source": [
    "## Text preprocessing"
   ]
  },
  {
   "cell_type": "markdown",
   "metadata": {
    "colab_type": "text",
    "id": "b3TpEoshcnFM"
   },
   "source": [
    "In order to inject unstructured data like text into any kind of machine learning algorithm, it is necessary to first transform it into a numerical representation. In the following we will convert the text and header feature into an embedding that can be used by neural networks."
   ]
  },
  {
   "cell_type": "markdown",
   "metadata": {
    "colab_type": "text",
    "id": "BTtYD1fkxgkH"
   },
   "source": [
    "### Clean Textdata"
   ]
  },
  {
   "cell_type": "markdown",
   "metadata": {
    "colab_type": "text",
    "id": "c0KhvpSvdPA4"
   },
   "source": [
    "Machine learning requires data in numerical form. But the very first step in solving our NLP problem is to clean up the text data.\n",
    "When we looked at the texts during the data exploration, we noticed several things that do not belong in a cleaned text. First of all, we will remove titles that are included in some of the texts. Next, we will remove all html tags and remove certain characters by converting them to Unicode characters. A number of articles also have problems with missing spaces after punctuation. This is a problem when the text is tokenized later, using spaces as separators. So we also search the text for punctuation followed by an uppercase letter and insert a space there.\n"
   ]
  },
  {
   "cell_type": "code",
   "execution_count": 147,
   "metadata": {
    "colab": {
     "base_uri": "https://localhost:8080/",
     "height": 0
    },
    "colab_type": "code",
    "id": "Utr8hy7lxjhm",
    "outputId": "892bb7f9-ebfc-44a6-8a2e-18309623acc7"
   },
   "outputs": [
    {
     "name": "stdout",
     "output_type": "stream",
     "text": [
      "Requirement already satisfied: unicodedata2 in /usr/local/lib/python3.6/dist-packages (13.0.0.post2)\n"
     ]
    },
    {
     "name": "stderr",
     "output_type": "stream",
     "text": [
      "/usr/local/lib/python3.6/dist-packages/bs4/__init__.py:336: UserWarning: \"http://darques.eu/blog/index.php/2017/02/15/predire-les-chances-de-survie-au-naufrage-du-titanic/\n",
      "\" looks like a URL. Beautiful Soup is not an HTTP client. You should probably use an HTTP client like requests to get the document behind the URL, and feed that document to Beautiful Soup.\n",
      "  ' that document to Beautiful Soup.' % decoded_markup\n",
      "/usr/local/lib/python3.6/dist-packages/bs4/__init__.py:336: UserWarning: \"https://ipnews.com.br/ai-e-machine-learning-vao-ser-saida-para-se-adequar-ao-gdpr-aposta-especialista/\n",
      "#machinelearning\n",
      "\" looks like a URL. Beautiful Soup is not an HTTP client. You should probably use an HTTP client like requests to get the document behind the URL, and feed that document to Beautiful Soup.\n",
      "  ' that document to Beautiful Soup.' % decoded_markup\n",
      "/usr/local/lib/python3.6/dist-packages/bs4/__init__.py:336: UserWarning: \"http://m.huffpost.com/us/entry/us_59ad236be4b0c50640cd60a5\n",
      "#machinelearning\n",
      "\" looks like a URL. Beautiful Soup is not an HTTP client. You should probably use an HTTP client like requests to get the document behind the URL, and feed that document to Beautiful Soup.\n",
      "  ' that document to Beautiful Soup.' % decoded_markup\n",
      "/usr/local/lib/python3.6/dist-packages/bs4/__init__.py:336: UserWarning: \"http://tomtunguz.com/ml-cost-reduction/\n",
      "#machinelearning\n",
      "\" looks like a URL. Beautiful Soup is not an HTTP client. You should probably use an HTTP client like requests to get the document behind the URL, and feed that document to Beautiful Soup.\n",
      "  ' that document to Beautiful Soup.' % decoded_markup\n",
      "/usr/local/lib/python3.6/dist-packages/bs4/__init__.py:336: UserWarning: \"http://www.robolution.center/blog/wp-content/uploads/2017/10/2.jpg\n",
      "\n",
      "\" looks like a URL. Beautiful Soup is not an HTTP client. You should probably use an HTTP client like requests to get the document behind the URL, and feed that document to Beautiful Soup.\n",
      "  ' that document to Beautiful Soup.' % decoded_markup\n"
     ]
    }
   ],
   "source": [
    "from bs4 import BeautifulSoup as bs\n",
    "!pip install unicodedata2\n",
    "import unicodedata\n",
    "\n",
    "data['text'] = data.apply(lambda row: re.sub(re.escape(row['title']) + r'.{0,4}' + '\\n', '', row['text']), axis=1) #remove title from text\n",
    "data['text'] = data.apply(lambda row: bs(row['text']).text, axis=1) #remove html tags\n",
    "data['text'] = data.apply(lambda row: unicodedata.normalize(\"NFKD\", str(row['text'])), axis=1) #converts to unicode chars\n",
    "data['text'] = data.apply(lambda row: re.sub(r'(?<=[.,:;\"!?])(?=[^\\sa-z\\\"])', r' ', row['text']), axis=1) #Makes a space behind punctuation if it starts with an upper char\n",
    "data['text'] = data.apply(lambda row: re.sub('\\|\\?|\\,|\\\"|\\'|\\.|\\’|\\“|\\”|\\!|\\-|\\(|\\)|\\/|\\;|\\:', '', row['text']), axis=1) #remove specific chars like quitation marks and apostroph\n",
    "data['text'] = data.apply(lambda row: re.sub(' +', ' ', row['text']), axis=1) #remove double spaces"
   ]
  },
  {
   "cell_type": "markdown",
   "metadata": {
    "colab_type": "text",
    "id": "yo_ghFWuv0_8"
   },
   "source": [
    "### Lemmatize & Remove Stopwords"
   ]
  },
  {
   "cell_type": "markdown",
   "metadata": {
    "colab_type": "text",
    "id": "dlwzOYNadL7Y"
   },
   "source": [
    "In the following, a function was defined that performs the necessary preprocessing steps. First, stop words were removed. The reason why it is so important to remove stop words is that the machine learning model can concentrate on the important words while frequently used words without a large predictive value such as \"is, for, are\" are removed. \n",
    "\n",
    "Secondly, lemmatization was applied. Lemmatization is the process of identifying roots to which original words can be simplified if necessary. This differs from stemming in that words are reduced to real word lemmas or basic forms. Stemming, on the other hand, transforms words into sometimes non-wordly word stems. In practice, both try to simplify the vocabulary space by which the corpus as a whole is represented. Lemmatization is preferable here in part because the simplified forms remain recognizable.\n",
    "\n",
    "A second function handles the two operators and gives information about the current progress."
   ]
  },
  {
   "cell_type": "code",
   "execution_count": 148,
   "metadata": {
    "colab": {
     "base_uri": "https://localhost:8080/",
     "height": 102
    },
    "colab_type": "code",
    "id": "t92gQaYARd9S",
    "outputId": "c2c0cd71-ff72-4961-a6fc-c2a018a0232a"
   },
   "outputs": [
    {
     "name": "stdout",
     "output_type": "stream",
     "text": [
      "[nltk_data] Downloading package stopwords to /root/nltk_data...\n",
      "[nltk_data]   Package stopwords is already up-to-date!\n",
      "[nltk_data] Downloading package wordnet to /root/nltk_data...\n",
      "[nltk_data]   Package wordnet is already up-to-date!\n",
      "completed: 60087 of 60088"
     ]
    }
   ],
   "source": [
    "from nltk.stem import WordNetLemmatizer\n",
    "import re\n",
    "import nltk\n",
    "nltk.download('stopwords')\n",
    "nltk.download('wordnet')\n",
    "from nltk.corpus import stopwords \n",
    "   \n",
    "stop_words = list(set(stopwords.words('english')))\n",
    "BAD_SYMBOLS_RE = re.compile('[^a-z #+_]')    \n",
    "lemmatizer = WordNetLemmatizer()\n",
    "\n",
    "def clean_text(text):\n",
    "    \"\"\"removes stopwords, punctuation, bad symbols and lemmatizes\"\"\"                                             \n",
    "    text = text.lower()    \n",
    "    text = BAD_SYMBOLS_RE.sub(' ', text)        \n",
    "    text = ' '.join(word for word in text.split() if word not in stop_words)\n",
    "    text = ' '.join(lemmatizer.lemmatize(word, pos='v') for word in text.split())  \n",
    "    return text\n",
    "\n",
    "def cleaning_handler(row, df_length):\n",
    "  \"\"\"Handler for cleaning functions.\"\"\"\n",
    "  \n",
    "  row['text'] = clean_text(str(row['text']))  \n",
    "  row['title'] = clean_text(str(row['title']))\n",
    "\n",
    "  print(f'\\rcompleted: {row.name} of {df_length}', end='')\n",
    "  return row\n",
    "\n",
    "data = data.apply(lambda row: cleaning_handler(row, len(data)), axis=1)"
   ]
  },
  {
   "cell_type": "markdown",
   "metadata": {
    "colab_type": "text",
    "id": "PRYmjaQZWoVN"
   },
   "source": [
    "Lets take a look at a sample of a cleaned text."
   ]
  },
  {
   "cell_type": "code",
   "execution_count": 149,
   "metadata": {
    "colab": {
     "base_uri": "https://localhost:8080/",
     "height": 71
    },
    "colab_type": "code",
    "id": "0yUgJOQ8Wm2e",
    "outputId": "b889a842-a19b-48c7-d095-e6ffe4f495df"
   },
   "outputs": [
    {
     "name": "stdout",
     "output_type": "stream",
     "text": [
      "cryptocurrency trade bible\n",
      "want trade cryptocurrency youve see eyepopping return want dont want measly little roi year plain old stock market thats grandpas old people want quityourjob middle finger fuck money right right maybe dream jordan belfort wolf wall street gordon greed good gekko\n"
     ]
    }
   ],
   "source": [
    "print(data['title'][1])\n",
    "print(data['text'][1])"
   ]
  },
  {
   "cell_type": "code",
   "execution_count": 150,
   "metadata": {
    "colab": {},
    "colab_type": "code",
    "id": "RRlNFOEo69DU"
   },
   "outputs": [],
   "source": [
    "word_counts = vect_count.fit_transform(data['text'])\n",
    "sum_words = word_counts.sum(axis=0)\n",
    "frequencies = [(word, sum_words[0, idx]) for word, idx in vect_count.vocabulary_.items()]\n",
    "frequencies = sorted(frequencies, key=lambda x: x[1], reverse=True)"
   ]
  },
  {
   "cell_type": "markdown",
   "metadata": {
    "colab_type": "text",
    "id": "HpbzyKYSaY5w"
   },
   "source": [
    "After removing all stop words and breaking down the words to their root, all texts combined have a total of more than 360,000 unique words. However, many of them are spelling mistakes or hyperlinks and won't be included in our final embedding."
   ]
  },
  {
   "cell_type": "code",
   "execution_count": 151,
   "metadata": {
    "colab": {
     "base_uri": "https://localhost:8080/",
     "height": 408
    },
    "colab_type": "code",
    "id": "OTSLoNaj36jB",
    "outputId": "bfee69b6-573d-4fac-8ebf-0c124cf8aba3"
   },
   "outputs": [
    {
     "name": "stdout",
     "output_type": "stream",
     "text": [
      "Total unique words: 363293\n",
      "Most frequent words       word    freq\n",
      "0     data  363721\n",
      "1      use  271316\n",
      "2    learn  225398\n",
      "3       ai  192379\n",
      "4    model  149366\n",
      "5     make  143438\n",
      "6  machine  132479\n",
      "7      one  128990\n",
      "8     time  121964\n",
      "9     like  115658\n",
      "Least frequent words                               word  freq\n",
      "363283              pygamedrawrect     1\n",
      "363284         coderdojoathenryorg     1\n",
      "363285  pythonbeginnersdrivinggame     1\n",
      "363286          blogtankorsmashcom     1\n",
      "363287                   tolksdorf     1\n",
      "363288                    colorway     1\n",
      "363289              misimplemented     1\n",
      "363290                      drifty     1\n",
      "363291                     xbuffer     1\n",
      "363292                     ybuffer     1\n"
     ]
    }
   ],
   "source": [
    "print(f'Total unique words: {len(frequencies)}')\n",
    "frequent_data_words = pd.DataFrame(frequencies)\n",
    "frequent_data_words.columns = ['word','freq']\n",
    "\n",
    "print('Most frequent words', frequent_data_words.head(10))\n",
    "print('Least frequent words', frequent_data_words.tail(10))"
   ]
  },
  {
   "cell_type": "markdown",
   "metadata": {
    "colab_type": "text",
    "id": "kfBzQ9U0hEWM"
   },
   "source": [
    "### Spelling mistake correction"
   ]
  },
  {
   "cell_type": "markdown",
   "metadata": {
    "colab_type": "text",
    "id": "n_7S_fZ8gwt5"
   },
   "source": [
    "Many of the very rare words are just spelling mistakes. With the SpellChecker package we can scan the entire text and correct the spelling mistakes."
   ]
  },
  {
   "cell_type": "code",
   "execution_count": 2,
   "metadata": {
    "colab": {
     "base_uri": "https://localhost:8080/",
     "height": 0
    },
    "colab_type": "code",
    "id": "ygWQXcBUgfOe",
    "outputId": "e94710fa-0846-42e8-f0f4-e3eaaef807d6"
   },
   "outputs": [
    {
     "name": "stdout",
     "output_type": "stream",
     "text": [
      "Requirement already satisfied: pyspellchecker in c:\\users\\david\\anaconda3\\lib\\site-packages (0.5.5)\n"
     ]
    }
   ],
   "source": [
    "!pip install pyspellchecker\n",
    "import pandas as pd\n",
    "from spellchecker import SpellChecker\n",
    "\n",
    "spell  = SpellChecker()\n",
    "\n",
    "def spell_check(x):\n",
    "    correct_word = []\n",
    "    mispelled_word = x.split()\n",
    "    for word in mispelled_word:\n",
    "        correct_word.append(spell.correction(word))\n",
    "    return ' '.join(correct_word)\n",
    "\n",
    "\n",
    "def spellcheck_handler(row, df_length):  \n",
    "  row['text'] = spell_check(str(row['text']))  \n",
    "  row['title'] = spell_check(str(row['title']))\n",
    "\n",
    "  print(f'\\rcompleted: {row.name} of {df_length}', end='')\n",
    "  return row\n",
    "\n",
    " data = data.apply(lambda row: spellcheck_handler(row, len(data)), axis=1)"
   ]
  },
  {
   "cell_type": "markdown",
   "metadata": {
    "colab_type": "text",
    "id": "sKF3a_85BoZH"
   },
   "source": [
    "### Keras Tokenising & Sequencing\n",
    "\n",
    "As already mentioned, machine learning models can only work with numerical values. To be able to work with language data, we will convert them into numerical values in the following steps. Keras tokenization, sequencing and embedding is the chosen method for this problem. "
   ]
  },
  {
   "cell_type": "markdown",
   "metadata": {
    "colab_type": "text",
    "id": "rFMu6VVSA0q8"
   },
   "source": [
    "#### Tokenizer\n",
    "\n",
    "\n",
    "Keras provides a tokenization and sequencing API for representing text data as numeric values. It gives each word a unique integer identifier, which is then used by the sequencer, which converts an article into a list of integer representations of its words. \n",
    "\n",
    "After the previous text cleansing process, the wordspace is still above 300,000. To further reduce the wordspace  and to contain only the most important words, the Tokenizer uses only the most common 5,000 words. Other wordspaces between 1,000 and 50,000 unique words were also used but led to worse results or crashes due to not enough RAM available. Therefore a wordspace of 5,000 words were chosen. "
   ]
  },
  {
   "cell_type": "code",
   "execution_count": 153,
   "metadata": {
    "colab": {},
    "colab_type": "code",
    "id": "gfK270leBr5Y"
   },
   "outputs": [],
   "source": [
    "from keras.preprocessing.text import Tokenizer\n",
    "tokenizer = Tokenizer(num_words=5000, oov_token='new') \n",
    "\n",
    "tokenizer.fit_on_texts(data['text'].astype(str))\n",
    "data['text'] = tokenizer.texts_to_sequences(data['text'])#.astype(str))\n",
    "\n",
    "tokenizer.fit_on_texts(data['title'].astype(str))\n",
    "data['title'] = tokenizer.texts_to_sequences(data['title'])#.astype(str))"
   ]
  },
  {
   "cell_type": "markdown",
   "metadata": {
    "colab_type": "text",
    "id": "vd09ds2kCgDt"
   },
   "source": [
    "#### Optimal Input Length\n",
    "\n",
    "Before the sequences can be used as input for a standardized model, they must also be prepared as standardized input. This means that the length of the characteristics \"titel\" and \"text\" have to be standardized. In the following, we will use the mean value and the median to find out which sequence length is best suited for our data."
   ]
  },
  {
   "cell_type": "code",
   "execution_count": 154,
   "metadata": {
    "colab": {},
    "colab_type": "code",
    "id": "R3_9_k_MCkJN"
   },
   "outputs": [],
   "source": [
    "df=pd.DataFrame()\n",
    "df['text_len'] = data['text'].apply(lambda text: len(str(text).split()))\n",
    "df['title_len'] = data['title'].apply(lambda title: len(str(title).split()))"
   ]
  },
  {
   "cell_type": "code",
   "execution_count": 155,
   "metadata": {
    "colab": {
     "base_uri": "https://localhost:8080/",
     "height": 85
    },
    "colab_type": "code",
    "id": "nGEBjCGfC8o8",
    "outputId": "a6486001-70b1-4925-b7a7-d2b630492070"
   },
   "outputs": [
    {
     "name": "stdout",
     "output_type": "stream",
     "text": [
      "max text length:  8076\n",
      "min text length:  1\n",
      "average text length:  488.7521634935428\n",
      "median text length:  396.0\n"
     ]
    }
   ],
   "source": [
    "print('max text length: ', df.text_len.max())\n",
    "print('min text length: ', df.text_len.min())\n",
    "print('average text length: ',df.text_len.mean())\n",
    "print('median text length: ', df.text_len.median())"
   ]
  },
  {
   "cell_type": "code",
   "execution_count": 156,
   "metadata": {
    "colab": {
     "base_uri": "https://localhost:8080/",
     "height": 85
    },
    "colab_type": "code",
    "id": "VytlL0etDE5n",
    "outputId": "fbe90cf4-6531-450f-86b5-83dca1e66ddc"
   },
   "outputs": [
    {
     "name": "stdout",
     "output_type": "stream",
     "text": [
      "max title text length:  20\n",
      "min title text length:  1\n",
      "average title text length:  5.2669418186659565\n",
      "median title text length:  5.0\n"
     ]
    }
   ],
   "source": [
    "print('max title text length: ', df.title_len.max())\n",
    "print('min title text length: ', df.title_len.min())\n",
    "print('average title text length: ',df.title_len.mean())\n",
    "print('median title text length: ', df.title_len.median())"
   ]
  },
  {
   "cell_type": "markdown",
   "metadata": {
    "colab_type": "text",
    "id": "MfG1WuXc9keE"
   },
   "source": [
    "#### Sequencing\n",
    "\n",
    "Our model expects each text sequence (each training example) to have the same length (same number of words/token). We can control this with the parameter maxlen."
   ]
  },
  {
   "cell_type": "code",
   "execution_count": 157,
   "metadata": {
    "colab": {},
    "colab_type": "code",
    "id": "X2ZsyAro9ht4"
   },
   "outputs": [],
   "source": [
    "from keras.preprocessing.sequence import pad_sequences\n",
    "\n",
    "data['title'] = pad_sequences(data['title'], maxlen=5, padding='post', value=0).tolist()\n",
    "data['text'] = pad_sequences(data['text'], maxlen=400, padding='post', value=0).tolist()"
   ]
  },
  {
   "cell_type": "markdown",
   "metadata": {
    "colab_type": "text",
    "id": "8X7GriJg5AM_"
   },
   "source": [
    "### Export Dataset \n",
    "\n",
    "Finally we are finished with the data preprocessing and its time to save our progress by exporting the updated dataset. We can also drop some of the remaining features that have no value for the target prediction."
   ]
  },
  {
   "cell_type": "code",
   "execution_count": 158,
   "metadata": {
    "colab": {
     "base_uri": "https://localhost:8080/",
     "height": 34
    },
    "colab_type": "code",
    "id": "HgaJA-Bp5DxD",
    "outputId": "958d7d3a-ea38-462b-9a05-6bd5b154f06f"
   },
   "outputs": [
    {
     "name": "stdout",
     "output_type": "stream",
     "text": [
      "data_standardized_5kw_outlier_rem_final_validation.pickle  Test.csv  Train.csv\n"
     ]
    }
   ],
   "source": [
    "data = data.drop(['publicationname', 'author'], axis=1)\n",
    "\n",
    "import pickle \n",
    "\n",
    "with open('data_standardized_5kw_outlier_rem_final_validation.pickle', 'wb') as handle:\n",
    "    pickle.dump(data, handle, protocol=pickle.HIGHEST_PROTOCOL)\n",
    "\n",
    "!ls"
   ]
  },
  {
   "cell_type": "markdown",
   "metadata": {
    "colab_type": "text",
    "id": "7kYwkG1Z484P"
   },
   "source": [
    "***\n",
    "# Model Development"
   ]
  },
  {
   "cell_type": "markdown",
   "metadata": {
    "colab_type": "text",
    "id": "OrXupzzvr7rR"
   },
   "source": [
    "\n",
    "The next part of this notebook, and perhaps the most fun, is to create a model that predicts the target variable. In order to develop a suitable and accurate model, we will test different machine learning algorithms. First, we will build simple baseline models using Linear Regression and XGBoost. This is to provide a baseline against which the final models can be compared to. A feed forward neural network is then developed for numerical data, followed by an RNN for textual data. Finally, an RNN with both textual and numerical data is created. \n",
    "\n",
    "To be able to compare the difference in accurency between neural networks and basic machine learning models, as well as the difference between the accurency of only numerical and only textual data, we will start by developing different models to make predictions soley based on the numerical data. The loss will be the benchmark for judging their efficacy."
   ]
  },
  {
   "cell_type": "markdown",
   "metadata": {
    "colab_type": "text",
    "id": "dU_d1ycB5IrV"
   },
   "source": [
    "## Imports"
   ]
  },
  {
   "cell_type": "code",
   "execution_count": 159,
   "metadata": {
    "colab": {},
    "colab_type": "code",
    "id": "-U_GIDi_II_V"
   },
   "outputs": [],
   "source": [
    "import pandas as pd\n",
    "import numpy as np\n",
    "import matplotlib.pyplot as plt\n",
    "import os\n",
    "import tensorflow as tf\n",
    "os.environ['KERAS_BACKEND'] = 'tensorflow'"
   ]
  },
  {
   "cell_type": "code",
   "execution_count": 160,
   "metadata": {
    "colab": {
     "base_uri": "https://localhost:8080/",
     "height": 51
    },
    "colab_type": "code",
    "id": "izj6EGVB5FMn",
    "outputId": "77f33956-7baa-487b-f706-b739b3235126"
   },
   "outputs": [
    {
     "name": "stdout",
     "output_type": "stream",
     "text": [
      "Drive already mounted at /content/gdrive; to attempt to forcibly remount, call drive.mount(\"/content/gdrive\", force_remount=True).\n",
      "data_standardized_5kw_outlier_rem_final_validation.pickle  Test.csv  Train.csv\n"
     ]
    }
   ],
   "source": [
    "from google.colab import drive\n",
    "drive.mount('/content/gdrive')\n",
    "os.chdir('/content/gdrive/My Drive/ADAMS')\n",
    "os.getcwd()\n",
    "!ls"
   ]
  },
  {
   "cell_type": "code",
   "execution_count": 162,
   "metadata": {
    "colab": {
     "base_uri": "https://localhost:8080/",
     "height": 320
    },
    "colab_type": "code",
    "id": "Y9P1OI-wDZ-C",
    "outputId": "dcee420b-220a-4347-e9f5-fd1c278cbca3"
   },
   "outputs": [
    {
     "data": {
      "text/html": [
       "<div>\n",
       "<style scoped>\n",
       "    .dataframe tbody tr th:only-of-type {\n",
       "        vertical-align: middle;\n",
       "    }\n",
       "\n",
       "    .dataframe tbody tr th {\n",
       "        vertical-align: top;\n",
       "    }\n",
       "\n",
       "    .dataframe thead th {\n",
       "        text-align: right;\n",
       "    }\n",
       "</style>\n",
       "<table border=\"1\" class=\"dataframe\">\n",
       "  <thead>\n",
       "    <tr style=\"text-align: right;\">\n",
       "      <th></th>\n",
       "      <th>responsecount</th>\n",
       "      <th>title</th>\n",
       "      <th>text</th>\n",
       "      <th>length</th>\n",
       "      <th>article_age</th>\n",
       "      <th>totalclapcount</th>\n",
       "      <th>set</th>\n",
       "      <th>median_publicationname</th>\n",
       "      <th>median_author</th>\n",
       "      <th>totalclapcount_scaled</th>\n",
       "    </tr>\n",
       "    <tr>\n",
       "      <th>id</th>\n",
       "      <th></th>\n",
       "      <th></th>\n",
       "      <th></th>\n",
       "      <th></th>\n",
       "      <th></th>\n",
       "      <th></th>\n",
       "      <th></th>\n",
       "      <th></th>\n",
       "      <th></th>\n",
       "      <th></th>\n",
       "    </tr>\n",
       "  </thead>\n",
       "  <tbody>\n",
       "    <tr>\n",
       "      <th>0</th>\n",
       "      <td>357.148675</td>\n",
       "      <td>[572, 357, 3423, 54, 1585]</td>\n",
       "      <td>[1461, 79, 504, 176, 481, 15, 79, 19, 63, 358,...</td>\n",
       "      <td>4.456518</td>\n",
       "      <td>2.754810</td>\n",
       "      <td>0</td>\n",
       "      <td>test</td>\n",
       "      <td>0.280654</td>\n",
       "      <td>0.567200</td>\n",
       "      <td>-0.326645</td>\n",
       "    </tr>\n",
       "    <tr>\n",
       "      <th>0</th>\n",
       "      <td>-0.279304</td>\n",
       "      <td>[1070, 55, 777, 204, 0]</td>\n",
       "      <td>[501, 1069, 28, 328, 215, 45, 27, 414, 114, 69...</td>\n",
       "      <td>-1.030278</td>\n",
       "      <td>-1.313299</td>\n",
       "      <td>100</td>\n",
       "      <td>train</td>\n",
       "      <td>-0.099415</td>\n",
       "      <td>-0.143720</td>\n",
       "      <td>-0.002941</td>\n",
       "    </tr>\n",
       "    <tr>\n",
       "      <th>1</th>\n",
       "      <td>88.650145</td>\n",
       "      <td>[2229, 3805, 124, 4937, 1585]</td>\n",
       "      <td>[106, 147, 188, 2639, 180, 15, 2529, 13, 2884,...</td>\n",
       "      <td>4.597916</td>\n",
       "      <td>1.642165</td>\n",
       "      <td>0</td>\n",
       "      <td>test</td>\n",
       "      <td>0.280654</td>\n",
       "      <td>-0.328812</td>\n",
       "      <td>-0.326645</td>\n",
       "    </tr>\n",
       "    <tr>\n",
       "      <th>2</th>\n",
       "      <td>100.051357</td>\n",
       "      <td>[1585, 523, 15, 0, 0]</td>\n",
       "      <td>[47, 544, 1616, 1011, 20, 15, 459, 47, 96, 47,...</td>\n",
       "      <td>-1.238784</td>\n",
       "      <td>2.841735</td>\n",
       "      <td>0</td>\n",
       "      <td>test</td>\n",
       "      <td>0.280654</td>\n",
       "      <td>0.567200</td>\n",
       "      <td>-0.326645</td>\n",
       "    </tr>\n",
       "    <tr>\n",
       "      <th>3</th>\n",
       "      <td>40.765057</td>\n",
       "      <td>[15, 110, 266, 2641, 1585]</td>\n",
       "      <td>[539, 304, 664, 15, 283, 10, 1156, 1598, 15, 1...</td>\n",
       "      <td>3.547459</td>\n",
       "      <td>0.990224</td>\n",
       "      <td>0</td>\n",
       "      <td>test</td>\n",
       "      <td>0.280654</td>\n",
       "      <td>-0.328812</td>\n",
       "      <td>-0.326645</td>\n",
       "    </tr>\n",
       "  </tbody>\n",
       "</table>\n",
       "</div>"
      ],
      "text/plain": [
       "    responsecount                          title  \\\n",
       "id                                                 \n",
       "0      357.148675     [572, 357, 3423, 54, 1585]   \n",
       "0       -0.279304        [1070, 55, 777, 204, 0]   \n",
       "1       88.650145  [2229, 3805, 124, 4937, 1585]   \n",
       "2      100.051357          [1585, 523, 15, 0, 0]   \n",
       "3       40.765057     [15, 110, 266, 2641, 1585]   \n",
       "\n",
       "                                                 text    length  article_age  \\\n",
       "id                                                                             \n",
       "0   [1461, 79, 504, 176, 481, 15, 79, 19, 63, 358,...  4.456518     2.754810   \n",
       "0   [501, 1069, 28, 328, 215, 45, 27, 414, 114, 69... -1.030278    -1.313299   \n",
       "1   [106, 147, 188, 2639, 180, 15, 2529, 13, 2884,...  4.597916     1.642165   \n",
       "2   [47, 544, 1616, 1011, 20, 15, 459, 47, 96, 47,... -1.238784     2.841735   \n",
       "3   [539, 304, 664, 15, 283, 10, 1156, 1598, 15, 1...  3.547459     0.990224   \n",
       "\n",
       "    totalclapcount    set  median_publicationname  median_author  \\\n",
       "id                                                                 \n",
       "0                0   test                0.280654       0.567200   \n",
       "0              100  train               -0.099415      -0.143720   \n",
       "1                0   test                0.280654      -0.328812   \n",
       "2                0   test                0.280654       0.567200   \n",
       "3                0   test                0.280654      -0.328812   \n",
       "\n",
       "    totalclapcount_scaled  \n",
       "id                         \n",
       "0               -0.326645  \n",
       "0               -0.002941  \n",
       "1               -0.326645  \n",
       "2               -0.326645  \n",
       "3               -0.326645  "
      ]
     },
     "execution_count": 162,
     "metadata": {
      "tags": []
     },
     "output_type": "execute_result"
    }
   ],
   "source": [
    "import pickle\n",
    "from sklearn.preprocessing import StandardScaler\n",
    "from sklearn.preprocessing import MinMaxScaler\n",
    "\n",
    "with open('data_standardized_5kw_outlier_rem_final_validation.pickle', 'rb') as handle:\n",
    "  data = pickle.load(handle)\n",
    "\n",
    "scaler = StandardScaler()\n",
    "\n",
    "data.set_index('id', inplace=True)\n",
    "data = data.sort_index()\n",
    "data.head(5)"
   ]
  },
  {
   "cell_type": "markdown",
   "metadata": {
    "colab_type": "text",
    "id": "UxO4qzKvEyQp"
   },
   "source": [
    "## Baseline Models\n",
    "\n"
   ]
  },
  {
   "cell_type": "markdown",
   "metadata": {
    "colab_type": "text",
    "id": "qk3DzMnRuhpq"
   },
   "source": [
    "We will start by splitting our data set into train and test data. We have previously randomly mixed and split the data into train and validation sets and can now access them using the \"set\" variable. \n",
    "However, we still need to split the data into train (X) and target (Y) features. "
   ]
  },
  {
   "cell_type": "code",
   "execution_count": 206,
   "metadata": {
    "colab": {},
    "colab_type": "code",
    "id": "4uL3vV8HnvTf"
   },
   "outputs": [],
   "source": [
    "X_train = data[data['set'] == 'train'][['responsecount', 'length', 'article_age', 'median_publicationname', 'median_author']]\n",
    "y_train = data[data['set'] == 'train']['totalclapcount']\n",
    "\n",
    "X_test = data[data['set'] == 'validation'][['responsecount', 'length', 'article_age', 'median_publicationname', 'median_author']]\n",
    "y_test = data[data['set'] == 'validation']['totalclapcount']"
   ]
  },
  {
   "cell_type": "markdown",
   "metadata": {
    "colab_type": "text",
    "id": "Keiw4Ft6OiBT"
   },
   "source": [
    "#### Linear Regression\n",
    "\n",
    "We will begin by using Multivariable Linear Regression as our first predictor. The regression model has to find the optimal coefficients for all the features. \n"
   ]
  },
  {
   "cell_type": "code",
   "execution_count": null,
   "metadata": {
    "colab": {
     "base_uri": "https://localhost:8080/",
     "height": 34
    },
    "colab_type": "code",
    "id": "09uCM0EpOfNV",
    "outputId": "abc4c0bf-cef4-4e60-9d0b-cb139dbf671f"
   },
   "outputs": [
    {
     "data": {
      "text/plain": [
       "LinearRegression(copy_X=True, fit_intercept=True, n_jobs=None, normalize=False)"
      ]
     },
     "execution_count": 134,
     "metadata": {
      "tags": []
     },
     "output_type": "execute_result"
    }
   ],
   "source": [
    "#train model\n",
    "from sklearn.linear_model import LinearRegression\n",
    "\n",
    "regressor = LinearRegression()  \n",
    "regressor.fit(X_train, y_train)"
   ]
  },
  {
   "cell_type": "markdown",
   "metadata": {
    "colab_type": "text",
    "id": "u2FaIwULQzcJ"
   },
   "source": [
    "The following table shows us what coefficients our regression model has chosen.\n",
    "We can interpret for example that for a unit increase in \"responsecount\", there is a increase of 101 units in the \"totalclapcount\". Similarly, a unit increase in “article_age“ results in an decrease of 3.8 units which means that older articles will on average have a lower clap count. "
   ]
  },
  {
   "cell_type": "code",
   "execution_count": null,
   "metadata": {
    "colab": {
     "base_uri": "https://localhost:8080/",
     "height": 204
    },
    "colab_type": "code",
    "id": "ZPZX4lIBP0Nn",
    "outputId": "3e6d7202-6179-4bea-98b8-30a19ed1f9a0"
   },
   "outputs": [
    {
     "data": {
      "text/html": [
       "<div>\n",
       "<style scoped>\n",
       "    .dataframe tbody tr th:only-of-type {\n",
       "        vertical-align: middle;\n",
       "    }\n",
       "\n",
       "    .dataframe tbody tr th {\n",
       "        vertical-align: top;\n",
       "    }\n",
       "\n",
       "    .dataframe thead th {\n",
       "        text-align: right;\n",
       "    }\n",
       "</style>\n",
       "<table border=\"1\" class=\"dataframe\">\n",
       "  <thead>\n",
       "    <tr style=\"text-align: right;\">\n",
       "      <th></th>\n",
       "      <th>Coefficient</th>\n",
       "    </tr>\n",
       "  </thead>\n",
       "  <tbody>\n",
       "    <tr>\n",
       "      <th>responsecount</th>\n",
       "      <td>101.315293</td>\n",
       "    </tr>\n",
       "    <tr>\n",
       "      <th>length</th>\n",
       "      <td>6.970810</td>\n",
       "    </tr>\n",
       "    <tr>\n",
       "      <th>article_age</th>\n",
       "      <td>-3.790168</td>\n",
       "    </tr>\n",
       "    <tr>\n",
       "      <th>median_publicationname</th>\n",
       "      <td>27.244891</td>\n",
       "    </tr>\n",
       "    <tr>\n",
       "      <th>median_author</th>\n",
       "      <td>174.106721</td>\n",
       "    </tr>\n",
       "  </tbody>\n",
       "</table>\n",
       "</div>"
      ],
      "text/plain": [
       "                        Coefficient\n",
       "responsecount            101.315293\n",
       "length                     6.970810\n",
       "article_age               -3.790168\n",
       "median_publicationname    27.244891\n",
       "median_author            174.106721"
      ]
     },
     "execution_count": 135,
     "metadata": {
      "tags": []
     },
     "output_type": "execute_result"
    }
   ],
   "source": [
    "coeff_df = pd.DataFrame(regressor.coef_, X_train.columns, columns=['Coefficient'])  \n",
    "coeff_df"
   ]
  },
  {
   "cell_type": "markdown",
   "metadata": {
    "colab_type": "text",
    "id": "H7SADXxSx_Dl"
   },
   "source": [
    "With these coefficients we can now predict the test data. When contemplating the difficulty of the task, the results of a small subset we can see in the table below don't look too bad. For articles with a very high clap count the model were able to also predict high clap counts. However, for some articles the predictions of the model are way to high or low. "
   ]
  },
  {
   "cell_type": "code",
   "execution_count": null,
   "metadata": {
    "colab": {
     "base_uri": "https://localhost:8080/",
     "height": 374
    },
    "colab_type": "code",
    "id": "zHktrdnfRy2I",
    "outputId": "10352d99-7c7d-491e-b1c7-e730f0366273"
   },
   "outputs": [
    {
     "name": "stdout",
     "output_type": "stream",
     "text": [
      "    Actual    Predicted\n",
      "5     8416  3073.262886\n",
      "15    2618   546.820165\n",
      "21     942  1681.996037\n",
      "22     228   840.928218\n",
      "26     732  1556.814694\n",
      "27     684  1239.739433\n",
      "37       1    86.692624\n",
      "40     683   407.337762\n",
      "41    2475   752.256630\n",
      "42      31    32.736154\n",
      "49      77   145.886439\n",
      "50      58    89.744425\n",
      "51      26    35.027385\n",
      "57      73    58.857980\n",
      "65     200    87.215321\n",
      "71      92  1486.021572\n",
      "86     110    57.231062\n",
      "87      10    57.374836\n",
      "88      33    62.679118\n",
      "89      74    55.938271\n"
     ]
    }
   ],
   "source": [
    "y_pred = regressor.predict(X_test) #prediction on test data\n",
    "\n",
    "#scaling target back when using the scaled target variable\n",
    "#scale_target = scaler.fit(data[data['set'] == 'train'][['totalclapcount']])\n",
    "#y_test = scale_target.inverse_transform(y_test)\n",
    "#y_pred = scale_target.inverse_transform(y_pred)\n",
    "\n",
    "acuals_predicted = pd.DataFrame({'Actual': y_test, 'Predicted': y_pred}) #difference between the actual value and predicted value.\n",
    "acuals_predicted = acuals_predicted.head(20)\n",
    "print(acuals_predicted)"
   ]
  },
  {
   "cell_type": "code",
   "execution_count": null,
   "metadata": {
    "colab": {
     "base_uri": "https://localhost:8080/",
     "height": 486
    },
    "colab_type": "code",
    "id": "HmOY_rcTS57d",
    "outputId": "de1af53a-6a1a-4fee-dff8-cb858ea2d9b2"
   },
   "outputs": [
    {
     "data": {
      "image/png": "[encoded data removed]",
      "text/plain": [
       "<Figure size 720x576 with 1 Axes>"
      ]
     },
     "metadata": {
      "needs_background": "light",
      "tags": []
     },
     "output_type": "display_data"
    }
   ],
   "source": [
    "acuals_predicted.plot(kind='bar',figsize=(10,8))\n",
    "plt.grid(which='major', linestyle='-', linewidth='0.5', color='green')\n",
    "plt.grid(which='minor', linestyle=':', linewidth='0.5', color='black')\n",
    "plt.show()"
   ]
  },
  {
   "cell_type": "markdown",
   "metadata": {
    "colab_type": "text",
    "id": "4vXfDCuvTN4I"
   },
   "source": [
    "The final step is to evaluate the performance of the algorithm. For this purpose we are looking for the values of MAE, MSE and RMSE.  The mean square error (MSE) measures the mean of the error squares, i.e. the mean square difference between the predicted values and the actual value. The MSE for this model is 340,468, which seems to be a very high value. However, we cannot assume how well the model is based on this metric alone, since the value depends entirely on the problem we want to solve. For example, if the data is too scattered and the nature of the problem is highly nonlinear, the MSE value is generally high. If the data is normally distributed and the problem is linear, a lower MSE value could be expected. Last but not least, it depends on the value range of the target variable, which in our case is between 0 and 280,000. Nevertheless, we can use the MSE to compare the performance of our models with each other. \n"
   ]
  },
  {
   "cell_type": "code",
   "execution_count": null,
   "metadata": {
    "colab": {
     "base_uri": "https://localhost:8080/",
     "height": 68
    },
    "colab_type": "code",
    "id": "ZdH1XxLUTLxw",
    "outputId": "2b6382c7-c9a6-4df5-e150-3bd9b1ec7044"
   },
   "outputs": [
    {
     "name": "stdout",
     "output_type": "stream",
     "text": [
      "Mean Absolute Error: 102.25677080972157\n",
      "Mean Squared Error: 340468.1594706543\n",
      "Root Mean Squared Error: 583.4964948229375\n"
     ]
    }
   ],
   "source": [
    "from sklearn import metrics\n",
    "\n",
    "print('Mean Absolute Error:', metrics.mean_absolute_error(y_test, y_pred))  \n",
    "print('Mean Squared Error:', metrics.mean_squared_error(y_test, y_pred))  \n",
    "print('Root Mean Squared Error:', np.sqrt(metrics.mean_squared_error(y_test, y_pred)))"
   ]
  },
  {
   "cell_type": "markdown",
   "metadata": {
    "colab_type": "text",
    "id": "rvRWAwOUUJid"
   },
   "source": [
    "#### XGBoost\n",
    "\n",
    "Out next baseline model will be XGBoost. XGBoost is a decision-tree-based ensemble Machine Learning algorithm that uses a gradient boosting framework. In prediction problems involving unstructured data neural networks tend to outperform all other algorithms. However, when it comes to small-to-medium structured/tabular data, decision tree based algorithms are still a very good choice and have often an even better accuracy."
   ]
  },
  {
   "cell_type": "code",
   "execution_count": null,
   "metadata": {
    "colab": {
     "base_uri": "https://localhost:8080/",
     "height": 153
    },
    "colab_type": "code",
    "id": "TGW-zohDUuHi",
    "outputId": "441a0e25-9e8d-48c6-ca79-255afd54cb8b"
   },
   "outputs": [
    {
     "name": "stdout",
     "output_type": "stream",
     "text": [
      "[23:01:44] WARNING: /workspace/src/objective/regression_obj.cu:152: reg:linear is now deprecated in favor of reg:squarederror.\n"
     ]
    },
    {
     "data": {
      "text/plain": [
       "XGBRegressor(base_score=0.5, booster='gbtree', colsample_bylevel=1,\n",
       "             colsample_bynode=1, colsample_bytree=1, gamma=0,\n",
       "             importance_type='gain', learning_rate=0.1, max_delta_step=0,\n",
       "             max_depth=3, min_child_weight=1, missing=None, n_estimators=100,\n",
       "             n_jobs=1, nthread=None, objective='reg:linear', random_state=0,\n",
       "             reg_alpha=0, reg_lambda=1, scale_pos_weight=1, seed=None,\n",
       "             silent=None, subsample=1, verbosity=1)"
      ]
     },
     "execution_count": 139,
     "metadata": {
      "tags": []
     },
     "output_type": "execute_result"
    }
   ],
   "source": [
    "import xgboost as xgb\n",
    "\n",
    "regressor = xgb.XGBRegressor()\n",
    "regressor.fit(X_train, y_train)"
   ]
  },
  {
   "cell_type": "markdown",
   "metadata": {
    "colab_type": "text",
    "id": "DkN3ALSkX63H"
   },
   "source": [
    "We can examine the relative importance attributed to each feature, in determining the count of claps an article receives. Here we can see that the features \"median_author\" and \"responsecount\" are the most important features for this algorithm."
   ]
  },
  {
   "cell_type": "code",
   "execution_count": null,
   "metadata": {
    "colab": {
     "base_uri": "https://localhost:8080/",
     "height": 204
    },
    "colab_type": "code",
    "id": "viqSR_mWXn7v",
    "outputId": "ef731a4f-7139-4bf1-c759-7252534f3446"
   },
   "outputs": [
    {
     "data": {
      "text/html": [
       "<div>\n",
       "<style scoped>\n",
       "    .dataframe tbody tr th:only-of-type {\n",
       "        vertical-align: middle;\n",
       "    }\n",
       "\n",
       "    .dataframe tbody tr th {\n",
       "        vertical-align: top;\n",
       "    }\n",
       "\n",
       "    .dataframe thead th {\n",
       "        text-align: right;\n",
       "    }\n",
       "</style>\n",
       "<table border=\"1\" class=\"dataframe\">\n",
       "  <thead>\n",
       "    <tr style=\"text-align: right;\">\n",
       "      <th></th>\n",
       "      <th>Importance</th>\n",
       "    </tr>\n",
       "  </thead>\n",
       "  <tbody>\n",
       "    <tr>\n",
       "      <th>responsecount</th>\n",
       "      <td>0.151209</td>\n",
       "    </tr>\n",
       "    <tr>\n",
       "      <th>length</th>\n",
       "      <td>0.018500</td>\n",
       "    </tr>\n",
       "    <tr>\n",
       "      <th>article_age</th>\n",
       "      <td>0.018112</td>\n",
       "    </tr>\n",
       "    <tr>\n",
       "      <th>median_publicationname</th>\n",
       "      <td>0.054155</td>\n",
       "    </tr>\n",
       "    <tr>\n",
       "      <th>median_author</th>\n",
       "      <td>0.758024</td>\n",
       "    </tr>\n",
       "  </tbody>\n",
       "</table>\n",
       "</div>"
      ],
      "text/plain": [
       "                        Importance\n",
       "responsecount             0.151209\n",
       "length                    0.018500\n",
       "article_age               0.018112\n",
       "median_publicationname    0.054155\n",
       "median_author             0.758024"
      ]
     },
     "execution_count": 140,
     "metadata": {
      "tags": []
     },
     "output_type": "execute_result"
    }
   ],
   "source": [
    "pd.DataFrame(regressor.feature_importances_, index=X_train.columns, columns=['Importance'])"
   ]
  },
  {
   "cell_type": "markdown",
   "metadata": {
    "colab_type": "text",
    "id": "iHJgu5jT7UBs"
   },
   "source": [
    "Surprisingly, XGBoost preformed significantly worse in predicting the target variable. A reason could be that our numerical features may have a nearly linear dependence on the covariates. In that case linear regression will model the dependence better than tree based algorithms. Also better results for both baseline models could of course be achieved when the the hyperparameters would be adjusted to better fit the data. However because we only want them as a baseline to compare our neural network models against, this won't be neccessarry. "
   ]
  },
  {
   "cell_type": "code",
   "execution_count": null,
   "metadata": {
    "colab": {
     "base_uri": "https://localhost:8080/",
     "height": 204
    },
    "colab_type": "code",
    "id": "BbRDp4Z7Yahk",
    "outputId": "705635ad-311b-47b4-87f0-28dee9b9bd30"
   },
   "outputs": [
    {
     "data": {
      "text/html": [
       "<div>\n",
       "<style scoped>\n",
       "    .dataframe tbody tr th:only-of-type {\n",
       "        vertical-align: middle;\n",
       "    }\n",
       "\n",
       "    .dataframe tbody tr th {\n",
       "        vertical-align: top;\n",
       "    }\n",
       "\n",
       "    .dataframe thead th {\n",
       "        text-align: right;\n",
       "    }\n",
       "</style>\n",
       "<table border=\"1\" class=\"dataframe\">\n",
       "  <thead>\n",
       "    <tr style=\"text-align: right;\">\n",
       "      <th></th>\n",
       "      <th>Actual</th>\n",
       "      <th>Predicted</th>\n",
       "    </tr>\n",
       "  </thead>\n",
       "  <tbody>\n",
       "    <tr>\n",
       "      <th>5</th>\n",
       "      <td>8416</td>\n",
       "      <td>2818.088135</td>\n",
       "    </tr>\n",
       "    <tr>\n",
       "      <th>15</th>\n",
       "      <td>2618</td>\n",
       "      <td>702.817932</td>\n",
       "    </tr>\n",
       "    <tr>\n",
       "      <th>21</th>\n",
       "      <td>942</td>\n",
       "      <td>2280.947266</td>\n",
       "    </tr>\n",
       "    <tr>\n",
       "      <th>22</th>\n",
       "      <td>228</td>\n",
       "      <td>827.440369</td>\n",
       "    </tr>\n",
       "    <tr>\n",
       "      <th>26</th>\n",
       "      <td>732</td>\n",
       "      <td>1424.443359</td>\n",
       "    </tr>\n",
       "  </tbody>\n",
       "</table>\n",
       "</div>"
      ],
      "text/plain": [
       "    Actual    Predicted\n",
       "5     8416  2818.088135\n",
       "15    2618   702.817932\n",
       "21     942  2280.947266\n",
       "22     228   827.440369\n",
       "26     732  1424.443359"
      ]
     },
     "execution_count": 141,
     "metadata": {
      "tags": []
     },
     "output_type": "execute_result"
    }
   ],
   "source": [
    "y_pred = regressor.predict(X_test) #prediction on test data\n",
    "df = pd.DataFrame({'Actual': y_test, 'Predicted': y_pred}) #difference between the actual value and predicted value.\n",
    "df.head(5)"
   ]
  },
  {
   "cell_type": "code",
   "execution_count": null,
   "metadata": {
    "colab": {
     "base_uri": "https://localhost:8080/",
     "height": 68
    },
    "colab_type": "code",
    "id": "g3qQo-9WZB6u",
    "outputId": "84535340-719b-4f00-f220-6ac01d05dcc5"
   },
   "outputs": [
    {
     "name": "stdout",
     "output_type": "stream",
     "text": [
      "Mean Absolute Error: 101.66698722253079\n",
      "Mean Squared Error: 438775.63473800255\n",
      "Root Mean Squared Error: 662.4014151086957\n"
     ]
    }
   ],
   "source": [
    "print('Mean Absolute Error:', metrics.mean_absolute_error(y_test, y_pred))  \n",
    "print('Mean Squared Error:', metrics.mean_squared_error(y_test, y_pred))  \n",
    "print('Root Mean Squared Error:', np.sqrt(metrics.mean_squared_error(y_test, y_pred)))"
   ]
  },
  {
   "cell_type": "markdown",
   "metadata": {
    "colab_type": "text",
    "id": "Nl66-D5AhE2t"
   },
   "source": [
    "## Neural Network For Structured Data\n",
    "\n",
    "\n",
    "The baseline models already returned not too bad results. The following neural network will be used to investigate whether the results can be improved. Therefore we will use the same training data as the previous baseline models. \n",
    "\n",
    "When building a Neural Network (NN), the structure can be very different with respect to its component layers and hyperparameters, which determine the way and also the speed of the network to learn. Without enough expertise it is not easy to structure a network correctly. We will try to optimize the NN as good as possible by manually adjusting the hyperparameters and experimenting with different number of layers. After several iterations, the following NN was able to best predict the tabular data.\n",
    "\n",
    "As activation functions 'linear' and 'ReLu', as well as an combination of both were tested, whereby the ReLu activation function always scored the lowest MSE. With ReLu we can also avoid negative outputs, since the smallest value will always be 0.\n",
    "\n",
    "As an optimizer first 'SGD' was used, but returned bad results because the output is unbounded, what made it especially prone to the exploding gradients problem. The solution was to use an optimizer with an adaptive learning rate algorithms like Adam."
   ]
  },
  {
   "cell_type": "code",
   "execution_count": 213,
   "metadata": {
    "colab": {
     "base_uri": "https://localhost:8080/",
     "height": 1000
    },
    "colab_type": "code",
    "id": "Q6tcB0J0hGq6",
    "outputId": "c4b17f31-ea17-45a0-db41-8c541ded3a78"
   },
   "outputs": [
    {
     "name": "stdout",
     "output_type": "stream",
     "text": [
      "Model: \"sequential_6\"\n",
      "_________________________________________________________________\n",
      "Layer (type)                 Output Shape              Param #   \n",
      "=================================================================\n",
      "dense_38 (Dense)             (None, 256)               1536      \n",
      "_________________________________________________________________\n",
      "dense_39 (Dense)             (None, 256)               65792     \n",
      "_________________________________________________________________\n",
      "dropout_15 (Dropout)         (None, 256)               0         \n",
      "_________________________________________________________________\n",
      "dense_40 (Dense)             (None, 128)               32896     \n",
      "_________________________________________________________________\n",
      "dropout_16 (Dropout)         (None, 128)               0         \n",
      "_________________________________________________________________\n",
      "dense_41 (Dense)             (None, 128)               16512     \n",
      "_________________________________________________________________\n",
      "dense_42 (Dense)             (None, 1)                 129       \n",
      "=================================================================\n",
      "Total params: 116,865\n",
      "Trainable params: 116,865\n",
      "Non-trainable params: 0\n",
      "_________________________________________________________________\n",
      "Epoch 1/20\n",
      "200/200 [==============================] - 1s 4ms/step - loss: 40263.1250 - mean_squared_error: 40169.6367 - val_loss: 313945.2188 - val_mean_squared_error: 313857.9062\n",
      "Epoch 2/20\n",
      "200/200 [==============================] - 1s 3ms/step - loss: 26317.1055 - mean_squared_error: 26231.3066 - val_loss: 335813.4375 - val_mean_squared_error: 335727.9688\n",
      "Epoch 3/20\n",
      "200/200 [==============================] - 1s 3ms/step - loss: 26110.4766 - mean_squared_error: 26025.2305 - val_loss: 331762.7500 - val_mean_squared_error: 331677.6562\n",
      "Epoch 4/20\n",
      "200/200 [==============================] - 1s 3ms/step - loss: 25704.7363 - mean_squared_error: 25619.1094 - val_loss: 311902.7812 - val_mean_squared_error: 311816.0000\n",
      "Epoch 5/20\n",
      "200/200 [==============================] - 1s 3ms/step - loss: 25749.9980 - mean_squared_error: 25662.7715 - val_loss: 315863.8750 - val_mean_squared_error: 315775.9688\n",
      "Epoch 6/20\n",
      "200/200 [==============================] - 1s 3ms/step - loss: 25924.3672 - mean_squared_error: 25835.5918 - val_loss: 325981.8438 - val_mean_squared_error: 325891.7188\n",
      "Epoch 7/20\n",
      "200/200 [==============================] - 1s 4ms/step - loss: 25269.0684 - mean_squared_error: 25177.2500 - val_loss: 305037.4375 - val_mean_squared_error: 304943.7812\n",
      "Epoch 8/20\n",
      "200/200 [==============================] - 1s 3ms/step - loss: 25525.9219 - mean_squared_error: 25432.0547 - val_loss: 327074.5000 - val_mean_squared_error: 326979.7500\n",
      "Epoch 9/20\n",
      "200/200 [==============================] - 1s 3ms/step - loss: 25461.2480 - mean_squared_error: 25365.9980 - val_loss: 347070.4062 - val_mean_squared_error: 346975.1875\n",
      "Epoch 10/20\n",
      "200/200 [==============================] - 1s 3ms/step - loss: 25411.4258 - mean_squared_error: 25313.5293 - val_loss: 320101.5312 - val_mean_squared_error: 320002.4688\n",
      "Epoch 11/20\n",
      "200/200 [==============================] - 1s 3ms/step - loss: 25248.2520 - mean_squared_error: 25148.9180 - val_loss: 318284.3750 - val_mean_squared_error: 318183.6562\n",
      "Epoch 12/20\n",
      "200/200 [==============================] - 1s 3ms/step - loss: 25183.3770 - mean_squared_error: 25082.5273 - val_loss: 308659.0000 - val_mean_squared_error: 308557.6562\n",
      "Epoch 13/20\n",
      "200/200 [==============================] - 1s 3ms/step - loss: 24875.8477 - mean_squared_error: 24773.2480 - val_loss: 320137.3438 - val_mean_squared_error: 320033.8750\n",
      "Epoch 14/20\n",
      "200/200 [==============================] - 1s 3ms/step - loss: 24676.9570 - mean_squared_error: 24573.1875 - val_loss: 313874.3750 - val_mean_squared_error: 313768.7500\n",
      "Epoch 15/20\n",
      "200/200 [==============================] - 1s 3ms/step - loss: 25072.7500 - mean_squared_error: 24966.5059 - val_loss: 307695.3125 - val_mean_squared_error: 307588.2188\n",
      "Epoch 16/20\n",
      "200/200 [==============================] - 1s 3ms/step - loss: 24436.8750 - mean_squared_error: 24328.3125 - val_loss: 314611.7500 - val_mean_squared_error: 314503.1250\n",
      "Epoch 17/20\n",
      "200/200 [==============================] - 1s 3ms/step - loss: 24848.0996 - mean_squared_error: 24738.3320 - val_loss: 334634.2188 - val_mean_squared_error: 334524.8125\n",
      "Epoch 18/20\n",
      "200/200 [==============================] - 1s 3ms/step - loss: 24826.7637 - mean_squared_error: 24715.2969 - val_loss: 318161.3438 - val_mean_squared_error: 318048.6562\n",
      "Epoch 19/20\n",
      "200/200 [==============================] - 1s 3ms/step - loss: 24550.6094 - mean_squared_error: 24437.3320 - val_loss: 317420.6562 - val_mean_squared_error: 317307.2188\n",
      "Epoch 20/20\n",
      "200/200 [==============================] - 1s 4ms/step - loss: 24600.5977 - mean_squared_error: 24486.2832 - val_loss: 308107.9062 - val_mean_squared_error: 307992.0312\n"
     ]
    },
    {
     "data": {
      "text/plain": [
       "<tensorflow.python.keras.callbacks.History at 0x7f05146376d8>"
      ]
     },
     "execution_count": 213,
     "metadata": {
      "tags": []
     },
     "output_type": "execute_result"
    }
   ],
   "source": [
    "from keras.callbacks import ModelCheckpoint\n",
    "from keras.models import Sequential\n",
    "from keras.layers import Dense, Activation, Flatten, Dropout\n",
    "from keras import regularizers\n",
    "\n",
    "NN_model = Sequential()\n",
    "\n",
    "# The Input Layer \n",
    "NN_model.add(Dense(256,input_dim = 5 , activation='relu'))\n",
    "\n",
    "# The Hidden Layers \n",
    "NN_model.add(Dense(256,activation='relu', kernel_regularizer=regularizers.l2(0.1)))\n",
    "NN_model.add(Dropout(0.3))\n",
    "NN_model.add(Dense(128,activation='relu', kernel_regularizer=regularizers.l2(0.2)))\n",
    "NN_model.add(Dropout(0.3))\n",
    "NN_model.add(Dense(128,activation='relu', kernel_regularizer=regularizers.l2(0.4)))\n",
    "\n",
    "# The Output Layer \n",
    "NN_model.add(Dense(1,activation='relu'))\n",
    "\n",
    "# Compile the network \n",
    "NN_model.compile(loss='mean_squared_error', optimizer='adam', metrics=['mean_squared_error']) #adam, RMSprop\n",
    "NN_model.summary()\n",
    "\n",
    "# Fit the data\n",
    "NN_model.fit(X_train, y_train, epochs=20, batch_size=256, validation_data=(X_test, y_test))"
   ]
  },
  {
   "cell_type": "markdown",
   "metadata": {
    "colab_type": "text",
    "id": "nHQNsa5sSXgE"
   },
   "source": [
    "The result shows that we can achieve somewhat better predictions with a MSE of 307,000 than with a non-optimized multivariate linear regression.\n",
    "\n",
    "However, when looking at the development of the loss during the epochs, the large gap between the train's MSE and the validation MSE becomes obvious. Furthermore, it seems that the validation loss during the first epoch converges rapidly and then begins to stagnate and fluctuate strongly while the training data continues to converge. Since this could be an overfitting problem, different methods regularization methods were tested, but could not significantly reduce the problem. Another solution could be to collect more data or find better features. But for the time being we will leave it at that and start working with the unstructured text data. "
   ]
  },
  {
   "cell_type": "code",
   "execution_count": 214,
   "metadata": {
    "colab": {
     "base_uri": "https://localhost:8080/",
     "height": 425
    },
    "colab_type": "code",
    "id": "WCNJIbnPiXbd",
    "outputId": "c0e6c89d-9f10-403e-8cae-864d02c9b3e9"
   },
   "outputs": [
    {
     "name": "stdout",
     "output_type": "stream",
     "text": [
      "      Predicted  Actual\n",
      "0     60.876072     233\n",
      "1     52.932980     171\n",
      "2     70.714478       0\n",
      "3      3.061828       0\n",
      "4      2.810164      68\n",
      "5      2.874863       0\n",
      "6      3.425370      11\n",
      "7      3.296611       1\n",
      "8      5.549265       2\n",
      "9      9.852901      21\n",
      "10    42.776550     131\n",
      "11    29.869061       0\n",
      "12     3.584718       1\n",
      "13    33.262836      29\n",
      "14     2.904003       0\n",
      "15     2.945389       0\n",
      "16     2.839680       0\n",
      "17     3.081396       7\n",
      "18  1360.206665    1862\n",
      "19    57.064907      73\n",
      "Mean Absolute Error: 97.37657370949258\n",
      "Mean Squared Error: 307992.0483330804\n",
      "Root Mean Squared Error: 554.9703130196069\n"
     ]
    }
   ],
   "source": [
    "from sklearn import metrics\n",
    "y_pred = NN_model.predict(X_test)\n",
    "\n",
    "#predict validation \n",
    "pred = pd.DataFrame(y_pred)\n",
    "actual = pd.DataFrame(y_test).reset_index(drop=True)\n",
    "result=pd.concat([pred,actual],axis=1,ignore_index=True)\n",
    "result.columns = ['Predicted', 'Actual']\n",
    "print(result.head(20))\n",
    "\n",
    "print('Mean Absolute Error:', metrics.mean_absolute_error(y_test, y_pred))  \n",
    "print('Mean Squared Error:', metrics.mean_squared_error(y_test, y_pred)) \n",
    "print('Root Mean Squared Error:', np.sqrt(metrics.mean_squared_error(y_test, y_pred)))"
   ]
  },
  {
   "cell_type": "markdown",
   "metadata": {
    "colab_type": "text",
    "id": "7l8eVOy9biAR"
   },
   "source": [
    "## Recurrent Neural Network For Unstructured Data"
   ]
  },
  {
   "cell_type": "markdown",
   "metadata": {
    "colab_type": "text",
    "id": "Y0HLPtWUsOCp"
   },
   "source": [
    "Our neural networks of choice when working with natural language data are Recurrent Neural Networks (RNN). Recurrent neural networks are a class of artificial neural networks in which the connection between nodes form a directed graph along a time sequence. Unlike feed-forward neural networks, recurrent neural networks use their internal state memory to process sequences. Due to this dynamic behavior, recurrent neural networks are very useful and applicable in a wide range from audio analysis to text classification.\n",
    "\n",
    "When working with unstructured text data, an alternative could be a Convolutional Neural Network (CNN), which is also usable for working with unstructured text data, since it can determine relations between single words. However, they cannot take into account the entire context provided in a particular text sequence. It does not learn the sequential structure of the data, where each word is dependent on the preceding word or a word in the previous sentence. RNNs can help us with this. They can use hidden states to remember previous information and link it to the current task.\n",
    "\n",
    "Long Short Term Memory Networks (LSTM) are a subclass of RNNs that specialize in remembering information over long periods of time. The Gated Recurrent Units (GRU) are fairly similar to the LSTM, but often have a faster learning time with comparable outputs. \n",
    "\n",
    "For recurrent neural networks Keras recommends to use either RMSprop or Adam as optimizer. When testing both optimizers, Adam achieved slightly better losses and a shorter training time. The implementation of the Global Average Pooling (GAP) layer after each recurring node is beneficial for the functioning of the network, as it converts the matrix output of the GRU sequences into a vector that can be entered into the next layer. We chose a rather small number of epochs, since several iterations showed that the RNN with the current structure starts to overfit after 9 epochs. Again, ReLu was chosen as the activation function on the output layer to avoid negative predictions. "
   ]
  },
  {
   "cell_type": "code",
   "execution_count": 215,
   "metadata": {
    "colab": {},
    "colab_type": "code",
    "id": "sjxw9oSbtvRX"
   },
   "outputs": [],
   "source": [
    "X_train = data[data['set'] == 'train'][['text']]\n",
    "y_train = data[data['set'] == 'train']['totalclapcount']\n",
    "\n",
    "X_test = data[data['set'] == 'validation'][['text']]\n",
    "y_test = data[data['set'] == 'validation']['totalclapcount']"
   ]
  },
  {
   "cell_type": "code",
   "execution_count": 216,
   "metadata": {
    "colab": {},
    "colab_type": "code",
    "id": "0F1Pfm7ABEwP"
   },
   "outputs": [],
   "source": [
    "X_train = np.array(X_train['text'].values.tolist()).astype(np.int32)\n",
    "X_test = np.array(X_test['text'].values.tolist()).astype(np.int32)"
   ]
  },
  {
   "cell_type": "code",
   "execution_count": 217,
   "metadata": {
    "colab": {},
    "colab_type": "code",
    "id": "TtCqPT6uc4GK"
   },
   "outputs": [],
   "source": [
    "from keras.layers import Input, Dense, LSTM, GRU, GlobalAveragePooling1D, Embedding, Dropout, concatenate\n",
    "from keras.callbacks import ModelCheckpoint, EarlyStopping\n",
    "from keras.optimizers import RMSprop\n",
    "from keras.models import load_model, Model\n",
    "\n",
    "\n",
    "def RNN_model_text():\n",
    "  \"\"\"Constructor for GRU network to test 2-layer depth.\"\"\"\n",
    "  \n",
    "  input_layer_text = Input(shape=(400, ))\n",
    "  \n",
    "  embedded_text = Embedding(output_dim=512, input_dim=5000, input_length=400, trainable=True)(input_layer_text)\n",
    " \n",
    "  rnn_1_text = GRU(256, return_sequences=True, kernel_regularizer=regularizers.l2(0.001))(embedded_text)\n",
    "  rnn_2_text = GRU(256, return_sequences=True, kernel_regularizer=regularizers.l2(0.001))(rnn_1_text)\n",
    "  text_pooled = GlobalAveragePooling1D()(rnn_2_text)\n",
    "\n",
    "  output_layer = Dense(1, activation='relu')(text_pooled) \n",
    "\n",
    "  model = Model(inputs=[input_layer_text], outputs = output_layer)\n",
    "  model.compile(loss = 'mean_squared_error',\n",
    "                optimizer = 'adam',\n",
    "                metrics=['mse'])\n",
    "  \n",
    "  print(model.summary())\n",
    "  return model"
   ]
  },
  {
   "cell_type": "code",
   "execution_count": 218,
   "metadata": {
    "colab": {
     "base_uri": "https://localhost:8080/",
     "height": 680
    },
    "colab_type": "code",
    "id": "nbGAx6rJfr6M",
    "outputId": "36ee97c2-f284-45ae-b6c2-cf14f9dd5d6c"
   },
   "outputs": [
    {
     "name": "stdout",
     "output_type": "stream",
     "text": [
      "Model: \"functional_15\"\n",
      "_________________________________________________________________\n",
      "Layer (type)                 Output Shape              Param #   \n",
      "=================================================================\n",
      "input_10 (InputLayer)        [(None, 400)]             0         \n",
      "_________________________________________________________________\n",
      "embedding_8 (Embedding)      (None, 400, 512)          2560000   \n",
      "_________________________________________________________________\n",
      "gru_15 (GRU)                 (None, 400, 256)          591360    \n",
      "_________________________________________________________________\n",
      "gru_16 (GRU)                 (None, 400, 256)          394752    \n",
      "_________________________________________________________________\n",
      "global_average_pooling1d_8 ( (None, 256)               0         \n",
      "_________________________________________________________________\n",
      "dense_43 (Dense)             (None, 1)                 257       \n",
      "=================================================================\n",
      "Total params: 3,546,369\n",
      "Trainable params: 3,546,369\n",
      "Non-trainable params: 0\n",
      "_________________________________________________________________\n",
      "None\n",
      "Epoch 1/9\n",
      "200/200 [==============================] - 72s 359ms/step - loss: 99009.1094 - mse: 99007.9375 - val_loss: 642386.0000 - val_mse: 642384.4375\n",
      "Epoch 2/9\n",
      "200/200 [==============================] - 71s 353ms/step - loss: 96206.0703 - mse: 96204.4531 - val_loss: 641702.3125 - val_mse: 641700.5000\n",
      "Epoch 3/9\n",
      "200/200 [==============================] - 71s 357ms/step - loss: 94873.6562 - mse: 94871.8047 - val_loss: 635513.1875 - val_mse: 635511.2500\n",
      "Epoch 4/9\n",
      "200/200 [==============================] - 72s 362ms/step - loss: 92662.1641 - mse: 92659.8984 - val_loss: 630299.2500 - val_mse: 630296.7500\n",
      "Epoch 5/9\n",
      "200/200 [==============================] - 72s 362ms/step - loss: 90518.5938 - mse: 90515.9375 - val_loss: 633182.7500 - val_mse: 633179.9375\n",
      "Epoch 6/9\n",
      "200/200 [==============================] - 72s 362ms/step - loss: 88508.0391 - mse: 88505.3438 - val_loss: 627729.0625 - val_mse: 627726.4375\n",
      "Epoch 7/9\n",
      "200/200 [==============================] - 72s 362ms/step - loss: 86861.2734 - mse: 86858.4609 - val_loss: 628402.2500 - val_mse: 628399.3750\n",
      "Epoch 8/9\n",
      "200/200 [==============================] - 73s 363ms/step - loss: 84885.0234 - mse: 84882.2109 - val_loss: 629083.9375 - val_mse: 629081.2500\n",
      "Epoch 9/9\n",
      "200/200 [==============================] - 72s 362ms/step - loss: 83644.3750 - mse: 83641.6328 - val_loss: 628256.8750 - val_mse: 628254.0000\n"
     ]
    }
   ],
   "source": [
    "RNN_model_text = RNN_model_text()\n",
    "RNN_model_text.fit(X_train, y_train, \n",
    "                    epochs=9, verbose=1, batch_size=256,\n",
    "                    validation_data=(X_test, y_test))\n",
    "\n",
    "RNN_model_text.save('keras_gru_1_layer.h5')"
   ]
  },
  {
   "cell_type": "markdown",
   "metadata": {
    "colab_type": "text",
    "id": "qrgYQKAfg9gv"
   },
   "source": [
    "Even the best results we have achieved have been rather disappointing compared to the results from previous models with structured data. The predictions seem rather random, and it is difficult to find any pattern when looking at the predictions and compare them with the text embeddings. The results clearly indicate that regressions tasks based only on unstructured data like text are a bad idea, at least for our dataset and preprocessing process. "
   ]
  },
  {
   "cell_type": "code",
   "execution_count": 219,
   "metadata": {
    "colab": {
     "base_uri": "https://localhost:8080/",
     "height": 374
    },
    "colab_type": "code",
    "id": "rLoq12kYY61j",
    "outputId": "c719a1ce-26c5-4844-f6b2-1ac403b34656"
   },
   "outputs": [
    {
     "name": "stdout",
     "output_type": "stream",
     "text": [
      "     Predicted  Actual\n",
      "0    26.674124     233\n",
      "1    25.646566     171\n",
      "2    73.792435       0\n",
      "3    37.970509       0\n",
      "4    26.796360      68\n",
      "5   310.731781       0\n",
      "6    24.455738      11\n",
      "7   134.347092       1\n",
      "8   118.779556       2\n",
      "9    15.941969      21\n",
      "10  219.210571     131\n",
      "11  127.453369       0\n",
      "12   45.269730       1\n",
      "13   51.226433      29\n",
      "14   32.017551       0\n",
      "15   28.887070       0\n",
      "16   12.191524       0\n",
      "17   44.004692       7\n",
      "18  303.157837    1862\n",
      "19   29.327106      73\n"
     ]
    }
   ],
   "source": [
    "#predict validation data\n",
    "y_pred = RNN_model_text.predict(X_test)\n",
    "pred = pd.DataFrame(y_pred)\n",
    "actual = pd.DataFrame(y_test).reset_index(drop=True)\n",
    "result=pd.concat([pred,actual],axis=1,ignore_index=True)\n",
    "result.columns = ['Predicted', 'Actual']\n",
    "print(result.head(20))"
   ]
  },
  {
   "cell_type": "code",
   "execution_count": 220,
   "metadata": {
    "colab": {
     "base_uri": "https://localhost:8080/",
     "height": 68
    },
    "colab_type": "code",
    "id": "0kkPXQDcYT1g",
    "outputId": "b306e946-e5ac-43d0-ba50-51ead4b47037"
   },
   "outputs": [
    {
     "name": "stdout",
     "output_type": "stream",
     "text": [
      "Mean Absolute Error: 161.47433967253298\n",
      "Mean Squared Error: 628253.9835464114\n",
      "Root Mean Squared Error: 792.6247432085447\n"
     ]
    }
   ],
   "source": [
    "print('Mean Absolute Error:', metrics.mean_absolute_error(y_test, y_pred))  \n",
    "print('Mean Squared Error:', metrics.mean_squared_error(y_test, y_pred))  #unscaled: 650.000, scaled 619.800, lieanr output and scaled 613.368\n",
    "print('Root Mean Squared Error:', np.sqrt(metrics.mean_squared_error(y_test, y_pred)))"
   ]
  },
  {
   "cell_type": "markdown",
   "metadata": {
    "colab_type": "text",
    "id": "W-4So9Mw98it"
   },
   "source": [
    "## Multi Input Recurrent Neural Network \n",
    "\n",
    "\n",
    "\n",
    "\n",
    "\n"
   ]
  },
  {
   "cell_type": "markdown",
   "metadata": {
    "colab_type": "text",
    "id": "KZ8_ckfdsb1X"
   },
   "source": [
    "A major advantage of the functional Keras API over the sequential API we used for our first neural network is that it allows us to define more complex models consisting of different categories of data, such as structured and unstructured data that are not sequential.\n",
    "\n",
    "Therefore it will be possible to input all available features into the RNN in three different pipelines. The first two pipelines will contain the unstructured text and title, the third pipeline will contain the structured numerical features. The hyperparameters, regularization and layers will be the same as in the previously defined models. The only difference is that once all pipelines within the network are completed, the outputs will be concatenated and then fed into a dense 1-node layer for regression.\n",
    "\n",
    "Using the recall parameter of Keras, the training is stopped after the 5th consecutive epoch without improving the loss of the validation set. In this case the epoch with the best loss is saved. "
   ]
  },
  {
   "cell_type": "code",
   "execution_count": 221,
   "metadata": {
    "colab": {},
    "colab_type": "code",
    "id": "ZgAz5Qth9nO3"
   },
   "outputs": [],
   "source": [
    "#Test train split\n",
    "X_train = data[data['set'] == 'train'] \n",
    "y_train = data[data['set'] == 'train']['totalclapcount']\n",
    "\n",
    "X_validation = data[data['set'] == 'validation']\n",
    "y_validation = data[data['set'] == 'validation']['totalclapcount']\n",
    "\n",
    "X_test = data[data['set'] == 'test']\n",
    "y_test = data[data['set'] == 'test']['totalclapcount']"
   ]
  },
  {
   "cell_type": "code",
   "execution_count": 222,
   "metadata": {
    "colab": {},
    "colab_type": "code",
    "id": "FOoZMXX5DwLd"
   },
   "outputs": [],
   "source": [
    "#Select and convert input variables\n",
    "X_train_text = np.array(X_train['text'].values.tolist()).astype(np.int32)\n",
    "X_train_title = np.array(X_train['title'].values.tolist()).astype(np.int32)\n",
    "X_train_tabular = X_train[['responsecount', 'length', 'article_age', 'median_publicationname', 'median_author']]\n",
    "\n",
    "X_validation_text = np.array(X_validation['text'].values.tolist()).astype(np.int32)\n",
    "X_validation_title = np.array(X_validation['title'].values.tolist()).astype(np.int32)\n",
    "X_validation_tabular = X_validation[['responsecount', 'length', 'article_age', 'median_publicationname', 'median_author']]\n",
    "\n",
    "X_test_text = np.array(X_test['text'].values.tolist()).astype(np.int32)\n",
    "X_test_title = np.array(X_test['title'].values.tolist()).astype(np.int32)\n",
    "X_test_tabular = X_test[['responsecount', 'length', 'article_age', 'median_publicationname', 'median_author']]"
   ]
  },
  {
   "cell_type": "code",
   "execution_count": 241,
   "metadata": {
    "colab": {},
    "colab_type": "code",
    "id": "3qYwKfTC9_G7"
   },
   "outputs": [],
   "source": [
    "def RNN_model_comb():\n",
    "  \"\"\"Constructor for GRU network to be used with Keras embeddings.\"\"\"\n",
    "  \n",
    "  input_layer_text = Input(shape=(400, ))\n",
    "  input_layer_title = Input(shape=(5, ))\n",
    "  input_layer_data = Input(shape=(5, ))\n",
    "  \n",
    "  # Text Data\n",
    "  embedded_text = Embedding(output_dim=512, input_dim=5000, input_length=400, trainable=True)(input_layer_text)\n",
    "  rnn_1_text = GRU(256, return_sequences=True, kernel_regularizer=regularizers.l2(0.001))(embedded_text)\n",
    "  rnn_1_text = Dropout(0.2)(rnn_1_text)\n",
    "  rnn_2_text = GRU(128, return_sequences=True, kernel_regularizer=regularizers.l2(0.001))(rnn_1_text)\n",
    "  text_pooled = GlobalAveragePooling1D()(rnn_2_text)\n",
    "  \n",
    "  # Title Data\n",
    "  embedded_title = Embedding(output_dim=256, input_dim=5000, input_length=5, trainable=True)(input_layer_title)\n",
    "  rnn_1_title = GRU(128, return_sequences=True, kernel_regularizer=regularizers.l2(0.001))(embedded_title)\n",
    "  rnn_1_text = Dropout(0.2)(rnn_1_text)\n",
    "  rnn_2_title = GRU(128, return_sequences=True, kernel_regularizer=regularizers.l2(0.001))(rnn_1_title)\n",
    "  title_pooled = GlobalAveragePooling1D()(rnn_2_title)\n",
    "  \n",
    "  # Numeric Data\n",
    "  dense_data = Dense(128, activation='relu', kernel_regularizer=regularizers.l2(0.01))(input_layer_data)\n",
    "  dense_data = Dropout(0.2)(dense_data)\n",
    "  dense_data = Dense(128, activation='relu', kernel_regularizer=regularizers.l2(0.01))(dense_data)\n",
    "  dense_data = Dropout(0.2)(dense_data)\n",
    "  dense_data = Dense(128, activation='relu', kernel_regularizer=regularizers.l2(0.01))(dense_data)\n",
    "\n",
    "  # Concatenate & Out\n",
    "  concatenated = concatenate([text_pooled, title_pooled, dense_data])\n",
    "  concatenated = Dense(3, activation=\"relu\")(concatenated)\n",
    "  output_layer = Dense(1, activation=\"relu\")(concatenated)\n",
    "\n",
    "  model = Model(inputs=[input_layer_text, input_layer_title, input_layer_data], outputs = output_layer)\n",
    "  model.compile(loss = 'mean_squared_error', optimizer = 'adam', metrics=['mse'])\n",
    "  \n",
    "  print(model.summary())\n",
    "  return model"
   ]
  },
  {
   "cell_type": "code",
   "execution_count": 242,
   "metadata": {
    "colab": {
     "base_uri": "https://localhost:8080/",
     "height": 1000
    },
    "colab_type": "code",
    "id": "oiXU0OuvAJuL",
    "outputId": "08c63135-47ec-4ffb-d2f2-b902d9625a68"
   },
   "outputs": [
    {
     "name": "stdout",
     "output_type": "stream",
     "text": [
      "Model: \"functional_33\"\n",
      "__________________________________________________________________________________________________\n",
      "Layer (type)                    Output Shape         Param #     Connected to                     \n",
      "==================================================================================================\n",
      "input_35 (InputLayer)           [(None, 400)]        0                                            \n",
      "__________________________________________________________________________________________________\n",
      "input_37 (InputLayer)           [(None, 5)]          0                                            \n",
      "__________________________________________________________________________________________________\n",
      "embedding_25 (Embedding)        (None, 400, 512)     2560000     input_35[0][0]                   \n",
      "__________________________________________________________________________________________________\n",
      "input_36 (InputLayer)           [(None, 5)]          0                                            \n",
      "__________________________________________________________________________________________________\n",
      "dense_78 (Dense)                (None, 128)          768         input_37[0][0]                   \n",
      "__________________________________________________________________________________________________\n",
      "gru_48 (GRU)                    (None, 400, 256)     591360      embedding_25[0][0]               \n",
      "__________________________________________________________________________________________________\n",
      "embedding_26 (Embedding)        (None, 5, 256)       1280000     input_36[0][0]                   \n",
      "__________________________________________________________________________________________________\n",
      "dropout_51 (Dropout)            (None, 128)          0           dense_78[0][0]                   \n",
      "__________________________________________________________________________________________________\n",
      "dropout_49 (Dropout)            (None, 400, 256)     0           gru_48[0][0]                     \n",
      "__________________________________________________________________________________________________\n",
      "gru_50 (GRU)                    (None, 5, 128)       148224      embedding_26[0][0]               \n",
      "__________________________________________________________________________________________________\n",
      "dense_79 (Dense)                (None, 128)          16512       dropout_51[0][0]                 \n",
      "__________________________________________________________________________________________________\n",
      "gru_49 (GRU)                    (None, 400, 128)     148224      dropout_49[0][0]                 \n",
      "__________________________________________________________________________________________________\n",
      "gru_51 (GRU)                    (None, 5, 128)       99072       gru_50[0][0]                     \n",
      "__________________________________________________________________________________________________\n",
      "dropout_52 (Dropout)            (None, 128)          0           dense_79[0][0]                   \n",
      "__________________________________________________________________________________________________\n",
      "global_average_pooling1d_25 (Gl (None, 128)          0           gru_49[0][0]                     \n",
      "__________________________________________________________________________________________________\n",
      "global_average_pooling1d_26 (Gl (None, 128)          0           gru_51[0][0]                     \n",
      "__________________________________________________________________________________________________\n",
      "dense_80 (Dense)                (None, 128)          16512       dropout_52[0][0]                 \n",
      "__________________________________________________________________________________________________\n",
      "concatenate_9 (Concatenate)     (None, 384)          0           global_average_pooling1d_25[0][0]\n",
      "                                                                 global_average_pooling1d_26[0][0]\n",
      "                                                                 dense_80[0][0]                   \n",
      "__________________________________________________________________________________________________\n",
      "dense_81 (Dense)                (None, 3)            1155        concatenate_9[0][0]              \n",
      "__________________________________________________________________________________________________\n",
      "dense_82 (Dense)                (None, 1)            4           dense_81[0][0]                   \n",
      "==================================================================================================\n",
      "Total params: 4,861,831\n",
      "Trainable params: 4,861,831\n",
      "Non-trainable params: 0\n",
      "__________________________________________________________________________________________________\n",
      "None\n",
      "Epoch 1/30\n",
      "200/200 [==============================] - 67s 335ms/step - loss: 46179.4023 - mse: 46174.4922 - val_loss: 324070.5625 - val_mse: 324065.3438\n",
      "Epoch 2/30\n",
      "200/200 [==============================] - 66s 328ms/step - loss: 26156.9258 - mse: 26151.5742 - val_loss: 299361.1250 - val_mse: 299355.5938\n",
      "Epoch 3/30\n",
      "200/200 [==============================] - 66s 329ms/step - loss: 25460.0352 - mse: 25454.2969 - val_loss: 322868.2812 - val_mse: 322862.3125\n",
      "Epoch 4/30\n",
      "200/200 [==============================] - 65s 326ms/step - loss: 24538.0996 - mse: 24531.8066 - val_loss: 326190.8438 - val_mse: 326184.3125\n",
      "Epoch 5/30\n",
      "200/200 [==============================] - 65s 324ms/step - loss: 23763.1055 - mse: 23756.2754 - val_loss: 317963.3438 - val_mse: 317956.2812\n",
      "Epoch 6/30\n",
      "200/200 [==============================] - 65s 323ms/step - loss: 23244.7617 - mse: 23237.3105 - val_loss: 318592.0625 - val_mse: 318584.4062\n",
      "Epoch 7/30\n",
      "200/200 [==============================] - ETA: 0s - loss: 22406.8281 - mse: 22398.9746Restoring model weights from the end of the best epoch.\n",
      "200/200 [==============================] - 65s 324ms/step - loss: 22406.8281 - mse: 22398.9746 - val_loss: 304163.0625 - val_mse: 304155.0625\n",
      "Epoch 00007: early stopping\n"
     ]
    }
   ],
   "source": [
    "callbacks = [ModelCheckpoint(filepath='RNN_model_comb{epoch:02d}-{val_loss:.2f}.hdf5'), \n",
    "             EarlyStopping(\n",
    "                 monitor='val_loss', \n",
    "                 patience=5, verbose=1, min_delta=0.01, \n",
    "                 restore_best_weights=True,)] \n",
    "\n",
    "RNN_model_comb = RNN_model_comb()\n",
    "RNN_model_comb.fit([X_train_text, X_train_title, X_train_tabular], y_train, \n",
    "                    epochs=30, verbose=1, batch_size=256,\n",
    "                    validation_data=([X_validation_text, X_validation_title, X_validation_tabular], y_validation),\n",
    "                    callbacks = callbacks)\n",
    "\n",
    "RNN_model_comb.save('RNN_model_comb.h5')    "
   ]
  },
  {
   "cell_type": "code",
   "execution_count": null,
   "metadata": {
    "colab": {},
    "colab_type": "code",
    "id": "yFT-hsiD25CT"
   },
   "outputs": [],
   "source": [
    "#RNN_model_comb.load_weights('1_RNN_model_comb03-295803.53.hdf5') # choose the best checkpoint and load it\n",
    "#RNN_model_comb.compile(loss='mean_absolute_error', optimizer='adam', metrics=['mean_absolute_error'])"
   ]
  },
  {
   "cell_type": "markdown",
   "metadata": {
    "colab_type": "text",
    "id": "5LvSrpZT4AHV"
   },
   "source": [
    "### Predict validation data"
   ]
  },
  {
   "cell_type": "markdown",
   "metadata": {
    "colab_type": "text",
    "id": "tYCv3iSG2Tz3"
   },
   "source": [
    "As expected, the combined input RNN could with an MSE of around 300.000 not achieve significantly better results than the first neural network, which only contains structured data. The results of the RNN with only unstrucutred data already showed that the text embeddings achieve very poor results in regression tasks and are better suited for classification tasks. Therefore, a different solution is needed for working with unstructured data to predict a continuous target. \n",
    "\n",
    "Here we could suggest a different approach for working with text. We can first change the regression task into a classification task by splitting the clap counts into different bins, e.g. 0-5 claps = \"very low clap counts\", 6-100 claps = \"low clap counts\", 101-1000 = \"medium clap counts\". Then we could rank the classes based on the number of claps or use one-hot encoding. With a text classifier we could then predict the categories based solely on the unstructured data from the title and text of the articles. These predictions could then be used as input for a regression model along with the other structured data.   "
   ]
  },
  {
   "cell_type": "code",
   "execution_count": 243,
   "metadata": {
    "colab": {
     "base_uri": "https://localhost:8080/",
     "height": 442
    },
    "colab_type": "code",
    "id": "mSC6hfZx-K0F",
    "outputId": "0727ca2b-08ad-4389-924d-a6b470a5cebe"
   },
   "outputs": [
    {
     "name": "stdout",
     "output_type": "stream",
     "text": [
      "269/269 [==============================] - 6s 23ms/step\n",
      "      predicted  actual\n",
      "0     24.997087     233\n",
      "1     60.023815     171\n",
      "2     40.686184       0\n",
      "3     10.356078       0\n",
      "4      0.000000      68\n",
      "5      0.000000       0\n",
      "6      4.077129      11\n",
      "7      0.000000       1\n",
      "8      0.000000       2\n",
      "9     17.043098      21\n",
      "10    68.639252     131\n",
      "11     0.000000       0\n",
      "12    38.858753       1\n",
      "13    23.776785      29\n",
      "14     5.024485       0\n",
      "15     7.859574       0\n",
      "16     0.000000       0\n",
      "17     0.000000       7\n",
      "18  1526.583984    1862\n",
      "19    50.277576      73\n",
      "Mean Absolute Error: 99.96410158631721\n",
      "Mean Squared Error: 299355.61530802277\n",
      "Root Mean Squared Error: 547.1340012355499\n"
     ]
    }
   ],
   "source": [
    "#predict validation data\n",
    "y_pred = RNN_model_comb.predict([X_validation_text, X_validation_title, X_validation_tabular], verbose=1)\n",
    "pred = pd.DataFrame(y_pred)\n",
    "actual = pd.DataFrame(y_validation).reset_index(drop=True)\n",
    "result=pd.concat([pred,actual],axis=1,ignore_index=True)\n",
    "result.columns = ['predicted', 'actual']\n",
    "print(result.head(20))\n",
    "\n",
    "#evaluation metrics\n",
    "print('Mean Absolute Error:', metrics.mean_absolute_error(result['actual'], result['predicted']))  \n",
    "print('Mean Squared Error:', metrics.mean_squared_error(result['actual'], result['predicted'])) \n",
    "print('Root Mean Squared Error:', np.sqrt(metrics.mean_squared_error(result['actual'], result['predicted'])))"
   ]
  },
  {
   "cell_type": "markdown",
   "metadata": {
    "colab_type": "text",
    "id": "ZVNUbLgZZ5tT"
   },
   "source": [
    "### Predict final test data"
   ]
  },
  {
   "cell_type": "markdown",
   "metadata": {
    "colab_type": "text",
    "id": "FgJTA7PEcZe9"
   },
   "source": [
    "The final prediction was done with exactly the same RNN, but with a train set that consisted of 100% of the train data and not only 80% as previously. As expected, the predicted number of article claps in the test data is much higher than in the train set. By manually comparing some of the predictions with the corresponding article on the medium platform, we can see that the majority of the predictions are not too far off. At this point in time (August 2020), most of the articles have on average an even higher number of claps than predicted. However, since the number of claps can increase daily, we do not know exactly how many claps the article had at the time they were scraped (December 2018)."
   ]
  },
  {
   "cell_type": "code",
   "execution_count": null,
   "metadata": {
    "colab": {
     "base_uri": "https://localhost:8080/",
     "height": 546
    },
    "colab_type": "code",
    "id": "IYfbep48F5Dx",
    "outputId": "9b2d3560-c9dd-4093-9ad2-dfc6c999d468"
   },
   "outputs": [
    {
     "name": "stdout",
     "output_type": "stream",
     "text": [
      "17/17 [==============================] - 0s 22ms/step\n"
     ]
    },
    {
     "data": {
      "text/html": [
       "<div>\n",
       "<style scoped>\n",
       "    .dataframe tbody tr th:only-of-type {\n",
       "        vertical-align: middle;\n",
       "    }\n",
       "\n",
       "    .dataframe tbody tr th {\n",
       "        vertical-align: top;\n",
       "    }\n",
       "\n",
       "    .dataframe thead th {\n",
       "        text-align: right;\n",
       "    }\n",
       "</style>\n",
       "<table border=\"1\" class=\"dataframe\">\n",
       "  <thead>\n",
       "    <tr style=\"text-align: right;\">\n",
       "      <th></th>\n",
       "      <th>index</th>\n",
       "      <th>Author</th>\n",
       "      <th>PublicationDetails</th>\n",
       "      <th>Responses</th>\n",
       "      <th>Header</th>\n",
       "      <th>Text</th>\n",
       "      <th>Length</th>\n",
       "      <th>predicted</th>\n",
       "      <th>actual</th>\n",
       "    </tr>\n",
       "  </thead>\n",
       "  <tbody>\n",
       "    <tr>\n",
       "      <th>0</th>\n",
       "      <td>0</td>\n",
       "      <td>Daniel Jeffries</td>\n",
       "      <td>Daniel Jeffries in HackerNoon.comJul 31, 2017</td>\n",
       "      <td>627 responses</td>\n",
       "      <td>Why Everyone Missed the Most Mind-Blowing Feat...</td>\n",
       "      <td>There’s one incredible feature of cryptocurren...</td>\n",
       "      <td>23401</td>\n",
       "      <td>40224.699219</td>\n",
       "      <td>0</td>\n",
       "    </tr>\n",
       "    <tr>\n",
       "      <th>1</th>\n",
       "      <td>1</td>\n",
       "      <td>Noam Levenson</td>\n",
       "      <td>Noam Levenson in HackerNoon.comDec 6, 2017</td>\n",
       "      <td>156 responses</td>\n",
       "      <td>NEO versus Ethereum: Why NEO might be 2018’s s...</td>\n",
       "      <td>&lt;img class=\"progressiveMedia-noscript js-progr...</td>\n",
       "      <td>23972</td>\n",
       "      <td>10843.789062</td>\n",
       "      <td>0</td>\n",
       "    </tr>\n",
       "    <tr>\n",
       "      <th>2</th>\n",
       "      <td>2</td>\n",
       "      <td>Daniel Jeffries</td>\n",
       "      <td>Daniel Jeffries in HackerNoon.comJul 21, 2017</td>\n",
       "      <td>176 responses</td>\n",
       "      <td>The Cryptocurrency Trading Bible</td>\n",
       "      <td>So you want to trade cryptocurrency?You’ve see...</td>\n",
       "      <td>402</td>\n",
       "      <td>2314.768799</td>\n",
       "      <td>0</td>\n",
       "    </tr>\n",
       "    <tr>\n",
       "      <th>3</th>\n",
       "      <td>5</td>\n",
       "      <td>Haseeb Qureshi</td>\n",
       "      <td>Haseeb Qureshi in HackerNoon.comFeb 19, 2018</td>\n",
       "      <td>72 responses</td>\n",
       "      <td>Stablecoins: designing a price-stable cryptocu...</td>\n",
       "      <td>A useful currency should be a medium of exchan...</td>\n",
       "      <td>19730</td>\n",
       "      <td>3879.725586</td>\n",
       "      <td>0</td>\n",
       "    </tr>\n",
       "    <tr>\n",
       "      <th>4</th>\n",
       "      <td>7</td>\n",
       "      <td>William Belk</td>\n",
       "      <td>William Belk in HackerNoon.comJan 28, 2018</td>\n",
       "      <td>19 responses</td>\n",
       "      <td>Chaos vs. Order — The Cryptocurrency Dilemma</td>\n",
       "      <td>Crypto crypto crypto crypto. It’s here. It’s h...</td>\n",
       "      <td>5324</td>\n",
       "      <td>10288.787109</td>\n",
       "      <td>0</td>\n",
       "    </tr>\n",
       "    <tr>\n",
       "      <th>5</th>\n",
       "      <td>8</td>\n",
       "      <td>Daniel Jeffries</td>\n",
       "      <td>Daniel Jeffries in HackerNoon.comMay 30, 2018</td>\n",
       "      <td>23 responses</td>\n",
       "      <td>Cryptocurrency Trading Bible Three: Winning in...</td>\n",
       "      <td>All trading is gambling.Some people refuse to ...</td>\n",
       "      <td>32477</td>\n",
       "      <td>4993.794922</td>\n",
       "      <td>0</td>\n",
       "    </tr>\n",
       "    <tr>\n",
       "      <th>6</th>\n",
       "      <td>9</td>\n",
       "      <td>Coinbase</td>\n",
       "      <td>Coinbase in The Coinbase BlogDec 19, 2018</td>\n",
       "      <td>67 responses</td>\n",
       "      <td>Earn cryptocurrency while learning about new d...</td>\n",
       "      <td>Coinbase’s mission is to create an open financ...</td>\n",
       "      <td>3658</td>\n",
       "      <td>1207.981934</td>\n",
       "      <td>0</td>\n",
       "    </tr>\n",
       "    <tr>\n",
       "      <th>7</th>\n",
       "      <td>11</td>\n",
       "      <td>David Gilbertson</td>\n",
       "      <td>David Gilbertson in HackerNoon.comAug 6, 2018</td>\n",
       "      <td>31 responses</td>\n",
       "      <td>Ripple: not a cryptocurrency</td>\n",
       "      <td>If I recall correctly, I went the whole week w...</td>\n",
       "      <td>5293</td>\n",
       "      <td>2163.421387</td>\n",
       "      <td>0</td>\n",
       "    </tr>\n",
       "    <tr>\n",
       "      <th>8</th>\n",
       "      <td>12</td>\n",
       "      <td>Daniel Jeffries</td>\n",
       "      <td>Daniel Jeffries in HackerNoon.comJun 30, 2017</td>\n",
       "      <td>49 responses</td>\n",
       "      <td>Eight Simple Rules for Protecting Your Cryptoc...</td>\n",
       "      <td>I ran a computer consulting company for a deca...</td>\n",
       "      <td>29811</td>\n",
       "      <td>53.913448</td>\n",
       "      <td>0</td>\n",
       "    </tr>\n",
       "    <tr>\n",
       "      <th>9</th>\n",
       "      <td>13</td>\n",
       "      <td>Indrek Lasn</td>\n",
       "      <td>Indrek Lasn in HackerNoon.comNov 25, 2017</td>\n",
       "      <td>5 responses</td>\n",
       "      <td>Cryptocurrency Prices Straight Outta CLI 💰</td>\n",
       "      <td>Coinmon — Cryptocurrency price ticker CLI.Chec...</td>\n",
       "      <td>382</td>\n",
       "      <td>641.750366</td>\n",
       "      <td>0</td>\n",
       "    </tr>\n",
       "  </tbody>\n",
       "</table>\n",
       "</div>"
      ],
      "text/plain": [
       "   index            Author                             PublicationDetails  \\\n",
       "0      0   Daniel Jeffries  Daniel Jeffries in HackerNoon.comJul 31, 2017   \n",
       "1      1     Noam Levenson     Noam Levenson in HackerNoon.comDec 6, 2017   \n",
       "2      2   Daniel Jeffries  Daniel Jeffries in HackerNoon.comJul 21, 2017   \n",
       "3      5    Haseeb Qureshi   Haseeb Qureshi in HackerNoon.comFeb 19, 2018   \n",
       "4      7      William Belk     William Belk in HackerNoon.comJan 28, 2018   \n",
       "5      8   Daniel Jeffries  Daniel Jeffries in HackerNoon.comMay 30, 2018   \n",
       "6      9          Coinbase      Coinbase in The Coinbase BlogDec 19, 2018   \n",
       "7     11  David Gilbertson  David Gilbertson in HackerNoon.comAug 6, 2018   \n",
       "8     12   Daniel Jeffries  Daniel Jeffries in HackerNoon.comJun 30, 2017   \n",
       "9     13       Indrek Lasn      Indrek Lasn in HackerNoon.comNov 25, 2017   \n",
       "\n",
       "       Responses                                             Header  \\\n",
       "0  627 responses  Why Everyone Missed the Most Mind-Blowing Feat...   \n",
       "1  156 responses  NEO versus Ethereum: Why NEO might be 2018’s s...   \n",
       "2  176 responses                   The Cryptocurrency Trading Bible   \n",
       "3   72 responses  Stablecoins: designing a price-stable cryptocu...   \n",
       "4   19 responses       Chaos vs. Order — The Cryptocurrency Dilemma   \n",
       "5   23 responses  Cryptocurrency Trading Bible Three: Winning in...   \n",
       "6   67 responses  Earn cryptocurrency while learning about new d...   \n",
       "7   31 responses                       Ripple: not a cryptocurrency   \n",
       "8   49 responses  Eight Simple Rules for Protecting Your Cryptoc...   \n",
       "9    5 responses         Cryptocurrency Prices Straight Outta CLI 💰   \n",
       "\n",
       "                                                Text  Length     predicted  \\\n",
       "0  There’s one incredible feature of cryptocurren...   23401  40224.699219   \n",
       "1  <img class=\"progressiveMedia-noscript js-progr...   23972  10843.789062   \n",
       "2  So you want to trade cryptocurrency?You’ve see...     402   2314.768799   \n",
       "3  A useful currency should be a medium of exchan...   19730   3879.725586   \n",
       "4  Crypto crypto crypto crypto. It’s here. It’s h...    5324  10288.787109   \n",
       "5  All trading is gambling.Some people refuse to ...   32477   4993.794922   \n",
       "6  Coinbase’s mission is to create an open financ...    3658   1207.981934   \n",
       "7  If I recall correctly, I went the whole week w...    5293   2163.421387   \n",
       "8  I ran a computer consulting company for a deca...   29811     53.913448   \n",
       "9  Coinmon — Cryptocurrency price ticker CLI.Chec...     382    641.750366   \n",
       "\n",
       "   actual  \n",
       "0       0  \n",
       "1       0  \n",
       "2       0  \n",
       "3       0  \n",
       "4       0  \n",
       "5       0  \n",
       "6       0  \n",
       "7       0  \n",
       "8       0  \n",
       "9       0  "
      ]
     },
     "execution_count": 160,
     "metadata": {
      "tags": []
     },
     "output_type": "execute_result"
    }
   ],
   "source": [
    "#predict real test \n",
    "y_pred_test = RNN_model_comb.predict([X_test_text, X_test_title, X_test_tabular], verbose=1)\n",
    "pred = pd.DataFrame(y_pred_test)\n",
    "actual = pd.DataFrame(y_test).reset_index(drop=True)\n",
    "result=pd.concat([pred,actual],axis=1,ignore_index=True)\n",
    "result.columns = ['predicted', 'actual']\n",
    "\n",
    "test_all = pd.read_csv('Test.csv', index_col=0)\n",
    "df2  = pd.merge(test_all, result, left_index=True, right_index=True)\n",
    "df2.head(10)\n"
   ]
  },
  {
   "cell_type": "code",
   "execution_count": null,
   "metadata": {
    "colab": {
     "base_uri": "https://localhost:8080/",
     "height": 554
    },
    "colab_type": "code",
    "id": "5N9Td7R90Rh4",
    "outputId": "9613e827-697a-4f08-da62-306c36ab145e"
   },
   "outputs": [
    {
     "name": "stdout",
     "output_type": "stream",
     "text": [
      "count      514.000000\n",
      "mean      1322.051758\n",
      "std       3871.539062\n",
      "min          0.000000\n",
      "25%          0.000000\n",
      "50%        444.723160\n",
      "75%        921.105316\n",
      "max      51485.062500\n",
      "Name: predicted, dtype: float64 \n",
      "\n",
      "Missing values:  0 \n",
      "\n"
     ]
    },
    {
     "data": {
      "image/png": "[encoded data removed]",
      "text/plain": [
       "<Figure size 1800x360 with 4 Axes>"
      ]
     },
     "metadata": {
      "needs_background": "light",
      "tags": []
     },
     "output_type": "display_data"
    }
   ],
   "source": [
    "explore_numerical_value(result['predicted'])"
   ]
  },
  {
   "cell_type": "markdown",
   "metadata": {
    "colab_type": "text",
    "id": "QTYVfvUNe1GH"
   },
   "source": [
    "As the final step we will now export the predicitons in the required format. "
   ]
  },
  {
   "cell_type": "code",
   "execution_count": null,
   "metadata": {
    "colab": {
     "base_uri": "https://localhost:8080/",
     "height": 255
    },
    "colab_type": "code",
    "id": "FvPRUfdQANuy",
    "outputId": "3a8ee0c7-d3fb-4651-b6d5-020afddbb8d2"
   },
   "outputs": [
    {
     "name": "stdout",
     "output_type": "stream",
     "text": [
      "     index         Claps\n",
      "0        0  40224.699219\n",
      "1        1  10843.789062\n",
      "2        2   2314.768799\n",
      "3        5   3879.725586\n",
      "4        7  10288.787109\n",
      "..     ...           ...\n",
      "509    598   1377.474487\n",
      "510    599   2404.802490\n",
      "511    600  10573.222656\n",
      "512    601   1288.943359\n",
      "513    602   6690.230469\n",
      "\n",
      "[514 rows x 2 columns]\n"
     ]
    }
   ],
   "source": [
    "predictions_out = df2[['index', 'predicted']]\n",
    "predictions_out.columns = ['index', 'Claps']\n",
    "print(predictions_out)\n",
    "\n",
    "predictions_out.to_csv('final_results_david_steiner.csv', index=False)"
   ]
  },
  {
   "cell_type": "markdown",
   "metadata": {
    "colab_type": "text",
    "id": "VU4ywtDcL2cQ"
   },
   "source": [
    "# Conclusion"
   ]
  },
  {
   "cell_type": "markdown",
   "metadata": {
    "colab_type": "text",
    "id": "bmL7dp_Oszqf"
   },
   "source": [
    "The goal of this notebook was to demonstrate the usefulness of natural language for regression tasks in addition to other structured features. To this end, we used articles from the medium platform to predict the amount of claps an article received. Since the test data was very different from the train data, only a fraction of the available features of the train set could be used for the prediction. The final characteristics included the text and title of the article, the length of the text, the age and number of responses for each article, and the average number of claps each author and editor received for their articles.\n",
    "\n",
    "We first compared the predictions of baseline machine learning models that contained only tabular data with a feed-forward neural network that also contained only tabular data and a recurrent neural network that contained only unstructured data in the form of the text of the medium articles. Finally, these were compared with a recurrent neural network that contained both structured and unstructured data. The mixed input RNN achieved the best results in terms of mean square error loss and was only slightly better than the feed-forward network, which contained only numerical features. The small improvement could indeed have been caused only by the random weight assignment in the first iteration. Finally, we concluded that natural language (at least with our models and preprocessing) is not capable of significantly improving the predicted results for our regression task.  \n",
    "\n",
    "However, we identified several factors that could be improved in this notebook to make better predictions. \n",
    "First, the neural networks could be optimized for better hyperparameter settings and different layer combinations by using automated methods like Gridsearch. To further reduce over-fitting, better regularization methods could also be implemented.  Secondly, a different approach for working with the natural language could be investigated. As suggested at the end of the notebook, we could use natural language in the form of a text classification to predict whether the text could reach a low, medium, or high clap count by using classes from the binned target variable. These predictions could then be used together with the other numerical features for the regression task.\n",
    "Thirdly, if pre-prepared word embeddings are later fine-tuned for our specific purpose, they could possibly also lead to better results in both the classification and the regression task. \n",
    "However, this notebook was able to give a first impression of the challenges of using natural language for regression tasks. "
   ]
  }
 ],
 "metadata": {
  "accelerator": "GPU",
  "colab": {
   "collapsed_sections": [
    "bvXffycDOfJ1",
    "bRnotMvSW8xL",
    "f-5LBP7Cnh3p",
    "hEnR9N5Ymui_",
    "FzO0-22u6Gnq",
    "-vwCSUT8AlMS",
    "6pcWZ9px5iu7",
    "njt2rdyxZWos",
    "SV2zFjxlODO0",
    "BParRDaSWBzh",
    "U2iTKj8fGeCx",
    "MwzcSV5f9i1r",
    "HMI6aye0G2Wa",
    "ldCU85SJHRA9",
    "Fuo6ICMyzHbX",
    "VEmz_3InZ8FW",
    "x-terHxCHLWH",
    "-RC5iPTeHuWN",
    "alEhpbsdaMou",
    "zkj_75QZ4ACx",
    "VsquwRZRD7bH",
    "fmoeduOZx55D",
    "X_fQck5z4ks6",
    "jUw_Ben9mluH",
    "h4iOL-teKLSY",
    "kjnMHv4oQIxj",
    "9oQ0grsbQ36M",
    "m2IIfLnpM182",
    "gwnHY62FvKBV",
    "-m6F6PobAnKZ",
    "OcSVK9f_11Oc",
    "F1Ue5ZTgnIFM",
    "WzGoCXaXEgip",
    "A5ylCzZMrUwg",
    "eDI00UMcvfZa",
    "rGskmSjtKU7F",
    "ce-PUpMt1Tid",
    "HHSC4vW3WYyK",
    "rFMu6VVSA0q8",
    "Keiw4Ft6OiBT"
   ],
   "name": "ADAMS_DAVID.ipynb",
   "provenance": []
  },
  "kernelspec": {
   "display_name": "Python 3",
   "language": "python",
   "name": "python3"
  },
  "language_info": {
   "codemirror_mode": {
    "name": "ipython",
    "version": 3
   },
   "file_extension": ".py",
   "mimetype": "text/x-python",
   "name": "python",
   "nbconvert_exporter": "python",
   "pygments_lexer": "ipython3",
   "version": "3.8.8"
  }
 },
 "nbformat": 4,
 "nbformat_minor": 1
}
